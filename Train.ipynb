{
 "cells": [
  {
   "cell_type": "code",
   "execution_count": 1,
   "metadata": {},
   "outputs": [
    {
     "name": "stderr",
     "output_type": "stream",
     "text": [
      "/home/zyro/miniconda3/envs/py310/lib/python3.10/site-packages/tqdm/auto.py:21: TqdmWarning: IProgress not found. Please update jupyter and ipywidgets. See https://ipywidgets.readthedocs.io/en/stable/user_install.html\n",
      "  from .autonotebook import tqdm as notebook_tqdm\n"
     ]
    }
   ],
   "source": [
    "import argparse\n",
    "import json\n",
    "import os\n",
    "from glob import glob\n",
    "import numpy as np\n",
    "\n",
    "from PIL import Image\n",
    "import torch\n",
    "from pathlib import Path\n",
    "from diffusers.models import AutoencoderKL\n",
    "\n",
    "from torch.utils.tensorboard import SummaryWriter\n",
    "from torchvision.datasets import CIFAR10\n",
    "from tqdm import tqdm\n",
    "\n",
    "from opendit.diffusion import create_diffusion\n",
    "from opendit.models.mmdit import MMDiT_models\n",
    "from opendit.utils.data_utils import get_transforms_image\n",
    "\n",
    "torch.backends.cuda.matmul.allow_tf32 = True\n",
    "torch.backends.cudnn.allow_tf32 = True\n",
    "\n",
    "import pandas as pd\n",
    "\n",
    "from torch.utils.data import Dataset, DataLoader\n",
    "from torchvision import transforms"
   ]
  },
  {
   "cell_type": "code",
   "execution_count": 2,
   "metadata": {},
   "outputs": [],
   "source": [
    "class ImageCaptionDataset(Dataset):\n",
    "    def __init__(self, csv_path, root_dir, transform=None):\n",
    "        \"\"\"\n",
    "        Args:\n",
    "            csv_path (string): Path to the CSV file with annotations\n",
    "            root_dir (string): Base directory for image paths in CSV\n",
    "            transform (callable, optional): Optional transform to be applied on images\n",
    "        \"\"\"\n",
    "        self.df = pd.read_csv(csv_path)\n",
    "        self.root_dir = root_dir\n",
    "        self.transform = transform\n",
    "\n",
    "    def __len__(self):\n",
    "        return len(self.df)\n",
    "\n",
    "    def __getitem__(self, idx):\n",
    "        row = self.df.iloc[idx]\n",
    "        \n",
    "        img_rel_path = Path(row['File Path'].replace(\"\\\\\", \"/\")) \n",
    "        img_full_path = self.root_dir / img_rel_path\n",
    "\n",
    "        try:\n",
    "            if not img_full_path.exists():\n",
    "                raise FileNotFoundError(f\"Image not found at: {img_full_path}\")\n",
    "            \n",
    "        except FileNotFoundError:\n",
    "            print(FileNotFoundError)\n",
    "        image = Image.open(img_full_path).convert('RGB')\n",
    "        \n",
    "        caption = row['Caption']\n",
    "        \n",
    "        if self.transform:\n",
    "            image = self.transform(image)\n",
    "\n",
    "        return image, caption"
   ]
  },
  {
   "cell_type": "code",
   "execution_count": 3,
   "metadata": {},
   "outputs": [],
   "source": [
    "def center_crop_arr(pil_image, image_size):\n",
    "\n",
    "\n",
    "    while min(*pil_image.size) >= 2 * image_size:\n",
    "        pil_image = pil_image.resize(\n",
    "            tuple(x // 2 for x in pil_image.size), resample=Image.BOX\n",
    "        )\n",
    "\n",
    "    scale = image_size / min(*pil_image.size)\n",
    "    pil_image = pil_image.resize(\n",
    "        tuple(round(x * scale) for x in pil_image.size), resample=Image.BICUBIC\n",
    "    )\n",
    "\n",
    "    arr = np.array(pil_image)\n",
    "    crop_y = (arr.shape[0] - image_size) // 2\n",
    "    crop_x = (arr.shape[1] - image_size) // 2\n",
    "    return Image.fromarray(arr[crop_y: crop_y + image_size, crop_x: crop_x + image_size])"
   ]
  },
  {
   "cell_type": "code",
   "execution_count": 4,
   "metadata": {},
   "outputs": [],
   "source": [
    "def requires_grad(model, flag=True):\n",
    "    \"\"\"Enable/disable gradients for a model's parameters.\"\"\"\n",
    "    for p in model.parameters():\n",
    "        p.requires_grad = flag"
   ]
  },
  {
   "cell_type": "code",
   "execution_count": 5,
   "metadata": {},
   "outputs": [],
   "source": [
    "def update_ema(ema, model, decay=0.9999):\n",
    "    \"\"\"Update EMA parameters.\"\"\"\n",
    "    with torch.no_grad():\n",
    "        for ema_param, model_param in zip(ema.parameters(), model.parameters()):\n",
    "            ema_param.data.mul_(decay).add_(model_param.data, alpha=1 - decay)\n"
   ]
  },
  {
   "cell_type": "code",
   "execution_count": null,
   "metadata": {},
   "outputs": [],
   "source": [
    "\n",
    "\"\"\"Trains a new MMDiT model.\"\"\"\n",
    "assert torch.cuda.is_available(), \"Training currently requires at least one GPU.\"\n",
    "\n",
    "# Setup directories\n",
    "os.makedirs(args.outputs, exist_ok=True)\n",
    "experiment_index = len(glob(f\"{args.outputs}/*\"))\n",
    "model_string_name = args.model.replace(\"/\", \"-\")\n",
    "experiment_dir = f\"{args.outputs}/{experiment_index:03d}-{model_string_name}\"\n",
    "os.makedirs(experiment_dir, exist_ok=True)\n",
    "\n",
    "# Save configuration\n",
    "with open(f\"{experiment_dir}/config.txt\", \"w\") as f:\n",
    "    json.dump(args.__dict__, f, indent=4)\n",
    "\n",
    "# Setup tensorboard\n",
    "tensorboard_dir = f\"{experiment_dir}/tensorboard\"\n",
    "os.makedirs(tensorboard_dir, exist_ok=True)\n",
    "writer = SummaryWriter(tensorboard_dir)\n",
    "\n",
    "# Setup device and dtype\n",
    "device = torch.device('cuda')\n",
    "if args.mixed_precision == \"bf16\":\n",
    "    dtype = torch.bfloat16\n",
    "elif args.mixed_precision == \"fp16\":\n",
    "    dtype = torch.float16\n",
    "else:\n",
    "    dtype = torch.float32\n",
    "\n",
    "# Create VAE encoder\n",
    "vae = AutoencoderKL.from_pretrained(f\"stabilityai/sd-vae-ft-{args.vae}\").to(device)\n",
    "\n",
    "# Configure input size\n",
    "assert args.image_size % 8 == 0, \"Image size must be divisible by 8 (for the VAE encoder).\"\n",
    "input_size = args.image_size // 8\n",
    "\n",
    "# Create model\n",
    "model_config = {\n",
    "    \"input_size\": input_size,\n",
    "    \"num_classes\": args.num_classes,\n",
    "    \"clip_text_encoder\": args.text_encoder,\n",
    "    \"t5_text_encoder\": args.t5_text_encoder,\n",
    "}\n",
    "\n",
    "# Initialize model\n",
    "model_class = MMDiT_models[args.model]\n",
    "model = model_class(**model_config).to(device, dtype=dtype)\n",
    "\n",
    "print(f\"Model has {sum(p.numel() for p in model.parameters()):,} parameters\")\n",
    "\n",
    "\n",
    "if args.grad_checkpoint:\n",
    "    model.enable_gradient_checkpointing()\n",
    "\n",
    "# Create EMA model\n",
    "ema = MMDiT_models[args.model](**model_config).to(device)\n",
    "ema.load_state_dict(model.state_dict())\n",
    "requires_grad(ema, False)\n",
    "\n",
    "# Create diffusion\n",
    "diffusion = create_diffusion(timestep_respacing=\"\")\n",
    "\n",
    "# Setup optimizer\n",
    "optimizer = torch.optim.AdamW(\n",
    "    filter(lambda p: p.requires_grad, model.parameters()),\n",
    "    lr=args.lr,\n",
    "    weight_decay=0\n",
    ")\n",
    "# Setup dataset\n",
    "# dataset = CIFAR10(\n",
    "#     args.data_path,\n",
    "#     transform=get_transforms_image(args.image_size),\n",
    "#     download=True\n",
    "# )\n",
    "\n",
    "transform = transforms.Compose([\n",
    "    transforms.Lambda(lambda pil_image: center_crop_arr(pil_image, args.image_size)),\n",
    "    transforms.RandomHorizontalFlip(),\n",
    "    transforms.ToTensor(),\n",
    "    transforms.Normalize(mean=[0.5, 0.5, 0.5], std=[0.5, 0.5, 0.5], inplace=True),\n",
    "])\n",
    "\n",
    "csv_path = \"datasets/anime/image_labels.csv\"\n",
    "root_dir = \"datasets/anime\"  \n",
    "\n",
    "dataset = ImageCaptionDataset(\n",
    "csv_path=csv_path,\n",
    "root_dir=root_dir,\n",
    "transform=transform\n",
    ")\n",
    "\n",
    "dataloader = DataLoader(\n",
    "    dataset,\n",
    "    batch_size=args.batch_size,\n",
    "    shuffle=True,\n",
    "    drop_last=True,\n",
    "    pin_memory=True,\n",
    "\n",
    ")\n",
    "\n",
    "print(f\"Dataset contains {len(dataset):,} images ({args.data_path})\")\n",
    "\n",
    "# Ensure EMA is initialized with synced weights\n",
    "update_ema(ema, model, decay=0)\n",
    "model.train()\n",
    "ema.eval()\n",
    "\n",
    "print(f\"Training for {args.epochs} epochs...\")\n",
    "num_steps_per_epoch = len(dataloader)\n",
    "global_step = 0\n",
    "\n",
    "for epoch in range(args.epochs):\n",
    "    print(f\"Beginning epoch {epoch}...\")\n",
    "    \n",
    "    with tqdm(range(num_steps_per_epoch), desc=f\"Epoch {epoch}\") as pbar:\n",
    "        for step in pbar:\n",
    "            # Get batch\n",
    "            x, y = next(iter(dataloader))\n",
    "            x = x.to(device)\n",
    "\n",
    "            # VAE encode\n",
    "            with torch.no_grad():\n",
    "                x = vae.encode(x).latent_dist.sample().mul_(0.18215)\n",
    "\n",
    "            # print('vae encode:', x.shape)\n",
    "\n",
    "            # Diffusion training step\n",
    "            t = torch.randint(0, diffusion.num_timesteps, (x.shape[0],), device=device)\n",
    "            model_kwargs = dict(c=y)\n",
    "            loss_dict = diffusion.training_losses(model, x, t, model_kwargs)\n",
    "            loss = loss_dict[\"loss\"].mean()\n",
    "            \n",
    "            # Optimization step\n",
    "            optimizer.zero_grad()\n",
    "            loss.backward()\n",
    "            optimizer.step()\n",
    "\n",
    "            # Update EMA\n",
    "            update_ema(ema, model)\n",
    "\n",
    "            # Logging\n",
    "            global_step = epoch * num_steps_per_epoch + step\n",
    "            pbar.set_postfix({\"loss\": loss.item(), \"step\": step, \"global_step\": global_step})\n",
    "\n",
    "            if (global_step + 1) % args.log_every == 0:\n",
    "                writer.add_scalar(\"loss\", loss.item(), global_step)\n",
    "\n",
    "            # Save checkpoint\n",
    "            if args.ckpt_every > 0 and (global_step + 1) % args.ckpt_every == 0:\n",
    "                checkpoint = {\n",
    "                    'model': model.state_dict(),\n",
    "                    'ema': ema.state_dict(),\n",
    "                    'optimizer': optimizer.state_dict(),\n",
    "                    'epoch': epoch,\n",
    "                    'global_step': global_step,\n",
    "                }\n",
    "                torch.save(\n",
    "                    checkpoint,\n",
    "                    f\"{experiment_dir}/checkpoint_{global_step:07d}.pt\"\n",
    "                )\n",
    "                print(f\"Saved checkpoint at global step {global_step}\")\n",
    "\n",
    "print(\"Training finished!\")\n"
   ]
  },
  {
   "cell_type": "code",
   "execution_count": 13,
   "metadata": {},
   "outputs": [
    {
     "name": "stderr",
     "output_type": "stream",
     "text": [
      "usage: ipykernel_launcher.py [-h] [--model {MMDiT-XL/2,MMDiT-L/4}]\n",
      "                             [--vae {ema,mse}] [--outputs OUTPUTS]\n",
      "                             [--data_path DATA_PATH] [--image_size {256,512}]\n",
      "                             [--num_classes NUM_CLASSES] [--epochs EPOCHS]\n",
      "                             [--batch_size BATCH_SIZE]\n",
      "                             [--num_workers NUM_WORKERS]\n",
      "                             [--log_every LOG_EVERY] [--ckpt_every CKPT_EVERY]\n",
      "                             [--mixed_precision {bf16,fp16,fp32}] [--lr LR]\n",
      "                             [--grad_checkpoint] [--text_encoder TEXT_ENCODER]\n",
      "                             [--t5_text_encoder T5_TEXT_ENCODER]\n",
      "                             [--chkptnumber CHKPTNUMBER]\n",
      "ipykernel_launcher.py: error: unrecognized arguments: --f=/home/zyro/.local/share/jupyter/runtime/kernel-v3ec2d9e305a0ccd0b3fe1f6b84ec5ba37bd8a8e05.json\n"
     ]
    },
    {
     "ename": "SystemExit",
     "evalue": "2",
     "output_type": "error",
     "traceback": [
      "An exception has occurred, use %tb to see the full traceback.\n",
      "\u001b[0;31mSystemExit\u001b[0m\u001b[0;31m:\u001b[0m 2\n"
     ]
    },
    {
     "name": "stderr",
     "output_type": "stream",
     "text": [
      "/home/zyro/miniconda3/envs/py310/lib/python3.10/site-packages/IPython/core/interactiveshell.py:3585: UserWarning: To exit: use 'exit', 'quit', or Ctrl-D.\n",
      "  warn(\"To exit: use 'exit', 'quit', or Ctrl-D.\", stacklevel=1)\n"
     ]
    }
   ],
   "source": [
    "import argparse\n",
    "\n",
    "class Config:\n",
    "    def __init__(self):\n",
    "        self.parser = argparse.ArgumentParser(description=\"Training configuration for MMDiT model\")\n",
    "        self._add_arguments()\n",
    "\n",
    "    def _add_arguments(self):\n",
    "        \"\"\"Add all configuration arguments to the parser.\"\"\"\n",
    "        self.parser.add_argument(\"--model\", type=str, choices=[\"MMDiT-XL/2\", \"MMDiT-L/4\"], default=\"MMDiT-S/8\",\n",
    "                                help=\"Model architecture to use\")\n",
    "        self.parser.add_argument(\"--vae\", type=str, choices=[\"ema\", \"mse\"], default=\"ema\",\n",
    "                                help=\"VAE type to use for encoding\")\n",
    "        self.parser.add_argument(\"--outputs\", type=str, default=\"./outputs\",\n",
    "                                help=\"Directory to save outputs (checkpoints, logs, etc.)\")\n",
    "        self.parser.add_argument(\"--data_path\", type=str, default=\"./datasets\",\n",
    "                                help=\"Path to the dataset directory\")\n",
    "        self.parser.add_argument(\"--image_size\", type=int, choices=[256, 512], default=256,\n",
    "                                help=\"Size of input images (must be divisible by 8)\")\n",
    "        self.parser.add_argument(\"--num_classes\", type=int, default=1000,\n",
    "                                help=\"Number of classes for classification (if applicable)\")\n",
    "        self.parser.add_argument(\"--epochs\", type=int, default=1400,\n",
    "                                help=\"Number of training epochs\")\n",
    "        self.parser.add_argument(\"--batch_size\", type=int, default=32,\n",
    "                                help=\"Batch size for training\")\n",
    "        self.parser.add_argument(\"--num_workers\", type=int, default=4,\n",
    "                                help=\"Number of workers for data loading\")\n",
    "        self.parser.add_argument(\"--log_every\", type=int, default=10,\n",
    "                                help=\"Log training metrics every N steps\")\n",
    "        self.parser.add_argument(\"--ckpt_every\", type=int, default=1000,\n",
    "                                help=\"Save a checkpoint every N steps\")\n",
    "        self.parser.add_argument(\"--mixed_precision\", type=str, default=\"bf16\", choices=[\"bf16\", \"fp16\", \"fp32\"],\n",
    "                                help=\"Mixed precision training mode\")\n",
    "        self.parser.add_argument(\"--lr\", type=float, default=1e-4,\n",
    "                                help=\"Learning rate for the optimizer\")\n",
    "        self.parser.add_argument(\"--grad_checkpoint\", action=\"store_true\",\n",
    "                                help=\"Enable gradient checkpointing to save memory\")\n",
    "        self.parser.add_argument(\"--text_encoder\", type=str, default=\"openai/clip-vit-base-patch32\",\n",
    "                                help=\"Text encoder model for CLIP\")\n",
    "        self.parser.add_argument(\"--t5_text_encoder\", type=str, default=\"google-t5/t5-small\",\n",
    "                                help=\"Text encoder model for T5\")\n",
    "        self.parser.add_argument(\"--chkptnumber\", type=str, default=\"None\",\n",
    "                                help=\"Checkpoint number to resume training from\")\n",
    "\n",
    "    def parse_args(self, args_list=None):\n",
    "        \"\"\"\n",
    "        Parse and return the arguments.\n",
    "        Args:\n",
    "            args_list (list): List of arguments to parse (for notebook usage).\n",
    "        \"\"\"\n",
    "        if args_list is None:\n",
    "            # Parse from command line\n",
    "            return self.parser.parse_args()\n",
    "        else:\n",
    "            # Parse from a list (for notebook usage)\n",
    "            return self.parser.parse_args(args_list)\n",
    "\n",
    "# Usage in Jupyter Notebook\n",
    "if __name__ == \"__main__\":\n",
    "    config = Config()\n",
    "    args = config.parse_args()\n",
    "    print(args)"
   ]
  },
  {
   "cell_type": "code",
   "execution_count": 1,
   "metadata": {},
   "outputs": [
    {
     "name": "stdout",
     "output_type": "stream",
     "text": [
      "Note: you may need to restart the kernel to use updated packages.\n"
     ]
    },
    {
     "name": "stderr",
     "output_type": "stream",
     "text": [
      "  WARNING: The script huggingface-cli.exe is installed in 'C:\\Users\\LENOVO\\AppData\\Roaming\\Python\\Python312\\Scripts' which is not on PATH.\n",
      "  Consider adding this directory to PATH or, if you prefer to suppress this warning, use --no-warn-script-location.\n",
      "  WARNING: The script datasets-cli.exe is installed in 'C:\\Users\\LENOVO\\AppData\\Roaming\\Python\\Python312\\Scripts' which is not on PATH.\n",
      "  Consider adding this directory to PATH or, if you prefer to suppress this warning, use --no-warn-script-location.\n"
     ]
    },
    {
     "name": "stdout",
     "output_type": "stream",
     "text": [
      "Defaulting to user installation because normal site-packages is not writeable\n",
      "Collecting datasets\n",
      "  Downloading datasets-3.2.0-py3-none-any.whl.metadata (20 kB)\n",
      "Requirement already satisfied: filelock in c:\\programdata\\anaconda3\\lib\\site-packages (from datasets) (3.13.1)\n",
      "Requirement already satisfied: numpy>=1.17 in c:\\programdata\\anaconda3\\lib\\site-packages (from datasets) (1.26.4)\n",
      "Collecting pyarrow>=15.0.0 (from datasets)\n",
      "  Downloading pyarrow-19.0.0-cp312-cp312-win_amd64.whl.metadata (3.4 kB)\n",
      "Requirement already satisfied: dill<0.3.9,>=0.3.0 in c:\\programdata\\anaconda3\\lib\\site-packages (from datasets) (0.3.8)\n",
      "Requirement already satisfied: pandas in c:\\programdata\\anaconda3\\lib\\site-packages (from datasets) (2.2.2)\n",
      "Requirement already satisfied: requests>=2.32.2 in c:\\programdata\\anaconda3\\lib\\site-packages (from datasets) (2.32.2)\n",
      "Requirement already satisfied: tqdm>=4.66.3 in c:\\programdata\\anaconda3\\lib\\site-packages (from datasets) (4.66.4)\n",
      "Collecting xxhash (from datasets)\n",
      "  Downloading xxhash-3.5.0-cp312-cp312-win_amd64.whl.metadata (13 kB)\n",
      "Collecting multiprocess<0.70.17 (from datasets)\n",
      "  Downloading multiprocess-0.70.16-py312-none-any.whl.metadata (7.2 kB)\n",
      "Requirement already satisfied: fsspec<=2024.9.0,>=2023.1.0 in c:\\programdata\\anaconda3\\lib\\site-packages (from fsspec[http]<=2024.9.0,>=2023.1.0->datasets) (2024.3.1)\n",
      "Requirement already satisfied: aiohttp in c:\\programdata\\anaconda3\\lib\\site-packages (from datasets) (3.9.5)\n",
      "Collecting huggingface-hub>=0.23.0 (from datasets)\n",
      "  Downloading huggingface_hub-0.27.1-py3-none-any.whl.metadata (13 kB)\n",
      "Requirement already satisfied: packaging in c:\\programdata\\anaconda3\\lib\\site-packages (from datasets) (23.2)\n",
      "Requirement already satisfied: pyyaml>=5.1 in c:\\programdata\\anaconda3\\lib\\site-packages (from datasets) (6.0.1)\n",
      "Requirement already satisfied: aiosignal>=1.1.2 in c:\\programdata\\anaconda3\\lib\\site-packages (from aiohttp->datasets) (1.2.0)\n",
      "Requirement already satisfied: attrs>=17.3.0 in c:\\programdata\\anaconda3\\lib\\site-packages (from aiohttp->datasets) (23.1.0)\n",
      "Requirement already satisfied: frozenlist>=1.1.1 in c:\\programdata\\anaconda3\\lib\\site-packages (from aiohttp->datasets) (1.4.0)\n",
      "Requirement already satisfied: multidict<7.0,>=4.5 in c:\\programdata\\anaconda3\\lib\\site-packages (from aiohttp->datasets) (6.0.4)\n",
      "Requirement already satisfied: yarl<2.0,>=1.0 in c:\\programdata\\anaconda3\\lib\\site-packages (from aiohttp->datasets) (1.9.3)\n",
      "Requirement already satisfied: typing-extensions>=3.7.4.3 in c:\\programdata\\anaconda3\\lib\\site-packages (from huggingface-hub>=0.23.0->datasets) (4.11.0)\n",
      "Requirement already satisfied: charset-normalizer<4,>=2 in c:\\programdata\\anaconda3\\lib\\site-packages (from requests>=2.32.2->datasets) (2.0.4)\n",
      "Requirement already satisfied: idna<4,>=2.5 in c:\\programdata\\anaconda3\\lib\\site-packages (from requests>=2.32.2->datasets) (3.7)\n",
      "Requirement already satisfied: urllib3<3,>=1.21.1 in c:\\programdata\\anaconda3\\lib\\site-packages (from requests>=2.32.2->datasets) (2.2.2)\n",
      "Requirement already satisfied: certifi>=2017.4.17 in c:\\programdata\\anaconda3\\lib\\site-packages (from requests>=2.32.2->datasets) (2024.6.2)\n",
      "Requirement already satisfied: colorama in c:\\programdata\\anaconda3\\lib\\site-packages (from tqdm>=4.66.3->datasets) (0.4.6)\n",
      "Requirement already satisfied: python-dateutil>=2.8.2 in c:\\programdata\\anaconda3\\lib\\site-packages (from pandas->datasets) (2.9.0.post0)\n",
      "Requirement already satisfied: pytz>=2020.1 in c:\\programdata\\anaconda3\\lib\\site-packages (from pandas->datasets) (2024.1)\n",
      "Requirement already satisfied: tzdata>=2022.7 in c:\\programdata\\anaconda3\\lib\\site-packages (from pandas->datasets) (2023.3)\n",
      "Requirement already satisfied: six>=1.5 in c:\\programdata\\anaconda3\\lib\\site-packages (from python-dateutil>=2.8.2->pandas->datasets) (1.16.0)\n",
      "Downloading datasets-3.2.0-py3-none-any.whl (480 kB)\n",
      "   ---------------------------------------- 0.0/480.6 kB ? eta -:--:--\n",
      "   - -------------------------------------- 20.5/480.6 kB ? eta -:--:--\n",
      "   ---- ---------------------------------- 51.2/480.6 kB 871.5 kB/s eta 0:00:01\n",
      "   ------ -------------------------------- 81.9/480.6 kB 762.6 kB/s eta 0:00:01\n",
      "   ---------- --------------------------- 133.1/480.6 kB 983.0 kB/s eta 0:00:01\n",
      "   ------------- -------------------------- 163.8/480.6 kB 1.1 MB/s eta 0:00:01\n",
      "   -------------------- ------------------- 245.8/480.6 kB 1.1 MB/s eta 0:00:01\n",
      "   ------------------------ --------------- 297.0/480.6 kB 1.2 MB/s eta 0:00:01\n",
      "   ----------------------------- ---------- 358.4/480.6 kB 1.2 MB/s eta 0:00:01\n",
      "   ---------------------------------- ----- 409.6/480.6 kB 1.2 MB/s eta 0:00:01\n",
      "   ------------------------------------ --- 440.3/480.6 kB 1.1 MB/s eta 0:00:01\n",
      "   ---------------------------------------- 480.6/480.6 kB 1.1 MB/s eta 0:00:00\n",
      "Downloading huggingface_hub-0.27.1-py3-none-any.whl (450 kB)\n",
      "   ---------------------------------------- 0.0/450.7 kB ? eta -:--:--\n",
      "   ----- ---------------------------------- 61.4/450.7 kB 1.7 MB/s eta 0:00:01\n",
      "   ---------- ----------------------------- 122.9/450.7 kB 1.8 MB/s eta 0:00:01\n",
      "   --------------- ------------------------ 174.1/450.7 kB 1.8 MB/s eta 0:00:01\n",
      "   -------------------- ------------------- 235.5/450.7 kB 1.8 MB/s eta 0:00:01\n",
      "   ----------------------------- ---------- 327.7/450.7 kB 1.7 MB/s eta 0:00:01\n",
      "   --------------------------------- ------ 378.9/450.7 kB 1.7 MB/s eta 0:00:01\n",
      "   -------------------------------------- - 430.1/450.7 kB 1.7 MB/s eta 0:00:01\n",
      "   ---------------------------------------- 450.7/450.7 kB 1.6 MB/s eta 0:00:00\n",
      "Downloading multiprocess-0.70.16-py312-none-any.whl (146 kB)\n",
      "   ---------------------------------------- 0.0/146.7 kB ? eta -:--:--\n",
      "   ------------------------- -------------- 92.2/146.7 kB 2.6 MB/s eta 0:00:01\n",
      "   ---------------------------------------- 146.7/146.7 kB 1.8 MB/s eta 0:00:00\n",
      "Downloading pyarrow-19.0.0-cp312-cp312-win_amd64.whl (25.2 MB)\n",
      "   ---------------------------------------- 0.0/25.2 MB ? eta -:--:--\n",
      "   ---------------------------------------- 0.1/25.2 MB 3.4 MB/s eta 0:00:08\n",
      "   ---------------------------------------- 0.1/25.2 MB 1.8 MB/s eta 0:00:14\n",
      "   ---------------------------------------- 0.2/25.2 MB 1.7 MB/s eta 0:00:15\n",
      "   ---------------------------------------- 0.3/25.2 MB 1.5 MB/s eta 0:00:17\n",
      "    --------------------------------------- 0.3/25.2 MB 1.6 MB/s eta 0:00:16\n",
      "    --------------------------------------- 0.4/25.2 MB 1.6 MB/s eta 0:00:16\n",
      "    --------------------------------------- 0.4/25.2 MB 1.6 MB/s eta 0:00:16\n",
      "    --------------------------------------- 0.5/25.2 MB 1.6 MB/s eta 0:00:16\n",
      "    --------------------------------------- 0.6/25.2 MB 1.6 MB/s eta 0:00:16\n",
      "   - -------------------------------------- 0.6/25.2 MB 1.5 MB/s eta 0:00:17\n",
      "   - -------------------------------------- 0.7/25.2 MB 1.6 MB/s eta 0:00:16\n",
      "   - -------------------------------------- 0.7/25.2 MB 1.5 MB/s eta 0:00:17\n",
      "   - -------------------------------------- 0.8/25.2 MB 1.5 MB/s eta 0:00:16\n",
      "   - -------------------------------------- 0.8/25.2 MB 1.5 MB/s eta 0:00:17\n",
      "   - -------------------------------------- 0.9/25.2 MB 1.5 MB/s eta 0:00:17\n",
      "   - -------------------------------------- 1.0/25.2 MB 1.5 MB/s eta 0:00:17\n",
      "   - -------------------------------------- 1.1/25.2 MB 1.5 MB/s eta 0:00:16\n",
      "   - -------------------------------------- 1.1/25.2 MB 1.5 MB/s eta 0:00:17\n",
      "   - -------------------------------------- 1.2/25.2 MB 1.5 MB/s eta 0:00:16\n",
      "   - -------------------------------------- 1.3/25.2 MB 1.5 MB/s eta 0:00:16\n",
      "   -- ------------------------------------- 1.3/25.2 MB 1.5 MB/s eta 0:00:16\n",
      "   -- ------------------------------------- 1.4/25.2 MB 1.5 MB/s eta 0:00:16\n",
      "   -- ------------------------------------- 1.5/25.2 MB 1.5 MB/s eta 0:00:16\n",
      "   -- ------------------------------------- 1.5/25.2 MB 1.5 MB/s eta 0:00:16\n",
      "   -- ------------------------------------- 1.6/25.2 MB 1.5 MB/s eta 0:00:16\n",
      "   -- ------------------------------------- 1.7/25.2 MB 1.5 MB/s eta 0:00:16\n",
      "   -- ------------------------------------- 1.7/25.2 MB 1.5 MB/s eta 0:00:16\n",
      "   -- ------------------------------------- 1.8/25.2 MB 1.6 MB/s eta 0:00:16\n",
      "   -- ------------------------------------- 1.9/25.2 MB 1.6 MB/s eta 0:00:16\n",
      "   --- ------------------------------------ 2.0/25.2 MB 1.6 MB/s eta 0:00:15\n",
      "   --- ------------------------------------ 2.0/25.2 MB 1.6 MB/s eta 0:00:15\n",
      "   --- ------------------------------------ 2.1/25.2 MB 1.6 MB/s eta 0:00:15\n",
      "   --- ------------------------------------ 2.2/25.2 MB 1.6 MB/s eta 0:00:15\n",
      "   --- ------------------------------------ 2.2/25.2 MB 1.5 MB/s eta 0:00:15\n",
      "   --- ------------------------------------ 2.3/25.2 MB 1.6 MB/s eta 0:00:15\n",
      "   --- ------------------------------------ 2.3/25.2 MB 1.6 MB/s eta 0:00:15\n",
      "   --- ------------------------------------ 2.4/25.2 MB 1.6 MB/s eta 0:00:15\n",
      "   --- ------------------------------------ 2.5/25.2 MB 1.5 MB/s eta 0:00:15\n",
      "   ---- ----------------------------------- 2.6/25.2 MB 1.6 MB/s eta 0:00:15\n",
      "   ---- ----------------------------------- 2.6/25.2 MB 1.6 MB/s eta 0:00:15\n",
      "   ---- ----------------------------------- 2.7/25.2 MB 1.6 MB/s eta 0:00:15\n",
      "   ---- ----------------------------------- 2.7/25.2 MB 1.6 MB/s eta 0:00:15\n",
      "   ---- ----------------------------------- 2.8/25.2 MB 1.6 MB/s eta 0:00:15\n",
      "   ---- ----------------------------------- 2.9/25.2 MB 1.6 MB/s eta 0:00:15\n",
      "   ---- ----------------------------------- 2.9/25.2 MB 1.6 MB/s eta 0:00:15\n",
      "   ---- ----------------------------------- 3.0/25.2 MB 1.6 MB/s eta 0:00:15\n",
      "   ---- ----------------------------------- 3.1/25.2 MB 1.6 MB/s eta 0:00:15\n",
      "   ---- ----------------------------------- 3.1/25.2 MB 1.6 MB/s eta 0:00:15\n",
      "   ----- ---------------------------------- 3.2/25.2 MB 1.6 MB/s eta 0:00:15\n",
      "   ----- ---------------------------------- 3.3/25.2 MB 1.6 MB/s eta 0:00:15\n",
      "   ----- ---------------------------------- 3.3/25.2 MB 1.6 MB/s eta 0:00:14\n",
      "   ----- ---------------------------------- 3.4/25.2 MB 1.6 MB/s eta 0:00:14\n",
      "   ----- ---------------------------------- 3.5/25.2 MB 1.6 MB/s eta 0:00:14\n",
      "   ----- ---------------------------------- 3.5/25.2 MB 1.6 MB/s eta 0:00:14\n",
      "   ----- ---------------------------------- 3.6/25.2 MB 1.6 MB/s eta 0:00:14\n",
      "   ----- ---------------------------------- 3.6/25.2 MB 1.6 MB/s eta 0:00:14\n",
      "   ----- ---------------------------------- 3.7/25.2 MB 1.6 MB/s eta 0:00:14\n",
      "   ----- ---------------------------------- 3.7/25.2 MB 1.5 MB/s eta 0:00:15\n",
      "   ------ --------------------------------- 3.8/25.2 MB 1.5 MB/s eta 0:00:14\n",
      "   ------ --------------------------------- 3.9/25.2 MB 1.5 MB/s eta 0:00:14\n",
      "   ------ --------------------------------- 3.9/25.2 MB 1.5 MB/s eta 0:00:14\n",
      "   ------ --------------------------------- 4.0/25.2 MB 1.5 MB/s eta 0:00:14\n",
      "   ------ --------------------------------- 4.1/25.2 MB 1.5 MB/s eta 0:00:14\n",
      "   ------ --------------------------------- 4.1/25.2 MB 1.5 MB/s eta 0:00:14\n",
      "   ------ --------------------------------- 4.2/25.2 MB 1.5 MB/s eta 0:00:14\n",
      "   ------ --------------------------------- 4.2/25.2 MB 1.5 MB/s eta 0:00:14\n",
      "   ------ --------------------------------- 4.3/25.2 MB 1.5 MB/s eta 0:00:14\n",
      "   ------ --------------------------------- 4.3/25.2 MB 1.5 MB/s eta 0:00:14\n",
      "   ------- -------------------------------- 4.4/25.2 MB 1.5 MB/s eta 0:00:14\n",
      "   ------- -------------------------------- 4.5/25.2 MB 1.5 MB/s eta 0:00:14\n",
      "   ------- -------------------------------- 4.5/25.2 MB 1.5 MB/s eta 0:00:14\n",
      "   ------- -------------------------------- 4.6/25.2 MB 1.5 MB/s eta 0:00:14\n",
      "   ------- -------------------------------- 4.7/25.2 MB 1.5 MB/s eta 0:00:14\n",
      "   ------- -------------------------------- 4.7/25.2 MB 1.5 MB/s eta 0:00:14\n",
      "   ------- -------------------------------- 4.8/25.2 MB 1.5 MB/s eta 0:00:14\n",
      "   ------- -------------------------------- 4.8/25.2 MB 1.5 MB/s eta 0:00:14\n",
      "   ------- -------------------------------- 4.9/25.2 MB 1.5 MB/s eta 0:00:14\n",
      "   ------- -------------------------------- 5.0/25.2 MB 1.5 MB/s eta 0:00:14\n",
      "   ------- -------------------------------- 5.0/25.2 MB 1.5 MB/s eta 0:00:14\n",
      "   -------- ------------------------------- 5.1/25.2 MB 1.5 MB/s eta 0:00:14\n",
      "   -------- ------------------------------- 5.2/25.2 MB 1.5 MB/s eta 0:00:14\n",
      "   -------- ------------------------------- 5.2/25.2 MB 1.5 MB/s eta 0:00:14\n",
      "   -------- ------------------------------- 5.2/25.2 MB 1.5 MB/s eta 0:00:14\n",
      "   -------- ------------------------------- 5.3/25.2 MB 1.5 MB/s eta 0:00:14\n",
      "   -------- ------------------------------- 5.4/25.2 MB 1.5 MB/s eta 0:00:14\n",
      "   -------- ------------------------------- 5.4/25.2 MB 1.5 MB/s eta 0:00:14\n",
      "   -------- ------------------------------- 5.5/25.2 MB 1.5 MB/s eta 0:00:14\n",
      "   -------- ------------------------------- 5.5/25.2 MB 1.5 MB/s eta 0:00:14\n",
      "   -------- ------------------------------- 5.6/25.2 MB 1.5 MB/s eta 0:00:14\n",
      "   -------- ------------------------------- 5.6/25.2 MB 1.5 MB/s eta 0:00:14\n",
      "   --------- ------------------------------ 5.7/25.2 MB 1.5 MB/s eta 0:00:14\n",
      "   --------- ------------------------------ 5.8/25.2 MB 1.5 MB/s eta 0:00:14\n",
      "   --------- ------------------------------ 5.8/25.2 MB 1.5 MB/s eta 0:00:14\n",
      "   --------- ------------------------------ 5.9/25.2 MB 1.5 MB/s eta 0:00:13\n",
      "   --------- ------------------------------ 6.0/25.2 MB 1.5 MB/s eta 0:00:13\n",
      "   --------- ------------------------------ 6.0/25.2 MB 1.5 MB/s eta 0:00:13\n",
      "   --------- ------------------------------ 6.1/25.2 MB 1.5 MB/s eta 0:00:13\n",
      "   --------- ------------------------------ 6.2/25.2 MB 1.5 MB/s eta 0:00:13\n",
      "   --------- ------------------------------ 6.2/25.2 MB 1.5 MB/s eta 0:00:13\n",
      "   --------- ------------------------------ 6.3/25.2 MB 1.5 MB/s eta 0:00:13\n",
      "   ---------- ----------------------------- 6.3/25.2 MB 1.5 MB/s eta 0:00:13\n",
      "   ---------- ----------------------------- 6.4/25.2 MB 1.5 MB/s eta 0:00:13\n",
      "   ---------- ----------------------------- 6.5/25.2 MB 1.5 MB/s eta 0:00:13\n",
      "   ---------- ----------------------------- 6.5/25.2 MB 1.5 MB/s eta 0:00:13\n",
      "   ---------- ----------------------------- 6.6/25.2 MB 1.5 MB/s eta 0:00:13\n",
      "   ---------- ----------------------------- 6.6/25.2 MB 1.5 MB/s eta 0:00:13\n",
      "   ---------- ----------------------------- 6.7/25.2 MB 1.5 MB/s eta 0:00:13\n",
      "   ---------- ----------------------------- 6.8/25.2 MB 1.5 MB/s eta 0:00:13\n",
      "   ---------- ----------------------------- 6.9/25.2 MB 1.5 MB/s eta 0:00:13\n",
      "   ---------- ----------------------------- 6.9/25.2 MB 1.5 MB/s eta 0:00:13\n",
      "   ----------- ---------------------------- 7.0/25.2 MB 1.5 MB/s eta 0:00:13\n",
      "   ----------- ---------------------------- 7.0/25.2 MB 1.5 MB/s eta 0:00:13\n",
      "   ----------- ---------------------------- 7.1/25.2 MB 1.5 MB/s eta 0:00:13\n",
      "   ----------- ---------------------------- 7.2/25.2 MB 1.5 MB/s eta 0:00:13\n",
      "   ----------- ---------------------------- 7.2/25.2 MB 1.5 MB/s eta 0:00:13\n",
      "   ----------- ---------------------------- 7.3/25.2 MB 1.5 MB/s eta 0:00:12\n",
      "   ----------- ---------------------------- 7.4/25.2 MB 1.5 MB/s eta 0:00:12\n",
      "   ----------- ---------------------------- 7.4/25.2 MB 1.5 MB/s eta 0:00:12\n",
      "   ----------- ---------------------------- 7.5/25.2 MB 1.5 MB/s eta 0:00:12\n",
      "   ----------- ---------------------------- 7.5/25.2 MB 1.5 MB/s eta 0:00:12\n",
      "   ------------ --------------------------- 7.6/25.2 MB 1.5 MB/s eta 0:00:12\n",
      "   ------------ --------------------------- 7.6/25.2 MB 1.5 MB/s eta 0:00:12\n",
      "   ------------ --------------------------- 7.7/25.2 MB 1.5 MB/s eta 0:00:12\n",
      "   ------------ --------------------------- 7.8/25.2 MB 1.5 MB/s eta 0:00:12\n",
      "   ------------ --------------------------- 7.9/25.2 MB 1.5 MB/s eta 0:00:12\n",
      "   ------------ --------------------------- 7.9/25.2 MB 1.5 MB/s eta 0:00:12\n",
      "   ------------ --------------------------- 8.0/25.2 MB 1.5 MB/s eta 0:00:12\n",
      "   ------------ --------------------------- 8.0/25.2 MB 1.5 MB/s eta 0:00:12\n",
      "   ------------ --------------------------- 8.1/25.2 MB 1.5 MB/s eta 0:00:12\n",
      "   ------------ --------------------------- 8.2/25.2 MB 1.5 MB/s eta 0:00:12\n",
      "   ------------- -------------------------- 8.2/25.2 MB 1.5 MB/s eta 0:00:12\n",
      "   ------------- -------------------------- 8.3/25.2 MB 1.5 MB/s eta 0:00:12\n",
      "   ------------- -------------------------- 8.4/25.2 MB 1.5 MB/s eta 0:00:12\n",
      "   ------------- -------------------------- 8.4/25.2 MB 1.5 MB/s eta 0:00:12\n",
      "   ------------- -------------------------- 8.5/25.2 MB 1.5 MB/s eta 0:00:12\n",
      "   ------------- -------------------------- 8.6/25.2 MB 1.5 MB/s eta 0:00:12\n",
      "   ------------- -------------------------- 8.6/25.2 MB 1.5 MB/s eta 0:00:12\n",
      "   ------------- -------------------------- 8.7/25.2 MB 1.5 MB/s eta 0:00:11\n",
      "   ------------- -------------------------- 8.7/25.2 MB 1.5 MB/s eta 0:00:11\n",
      "   ------------- -------------------------- 8.8/25.2 MB 1.5 MB/s eta 0:00:11\n",
      "   -------------- ------------------------- 8.9/25.2 MB 1.5 MB/s eta 0:00:11\n",
      "   -------------- ------------------------- 8.9/25.2 MB 1.5 MB/s eta 0:00:11\n",
      "   -------------- ------------------------- 9.0/25.2 MB 1.5 MB/s eta 0:00:11\n",
      "   -------------- ------------------------- 9.0/25.2 MB 1.5 MB/s eta 0:00:11\n",
      "   -------------- ------------------------- 9.1/25.2 MB 1.5 MB/s eta 0:00:11\n",
      "   -------------- ------------------------- 9.1/25.2 MB 1.5 MB/s eta 0:00:11\n",
      "   -------------- ------------------------- 9.1/25.2 MB 1.5 MB/s eta 0:00:11\n",
      "   -------------- ------------------------- 9.2/25.2 MB 1.5 MB/s eta 0:00:11\n",
      "   -------------- ------------------------- 9.2/25.2 MB 1.5 MB/s eta 0:00:11\n",
      "   -------------- ------------------------- 9.2/25.2 MB 1.5 MB/s eta 0:00:11\n",
      "   -------------- ------------------------- 9.3/25.2 MB 1.5 MB/s eta 0:00:11\n",
      "   -------------- ------------------------- 9.3/25.2 MB 1.5 MB/s eta 0:00:11\n",
      "   -------------- ------------------------- 9.4/25.2 MB 1.5 MB/s eta 0:00:11\n",
      "   -------------- ------------------------- 9.5/25.2 MB 1.5 MB/s eta 0:00:11\n",
      "   --------------- ------------------------ 9.5/25.2 MB 1.5 MB/s eta 0:00:11\n",
      "   --------------- ------------------------ 9.6/25.2 MB 1.5 MB/s eta 0:00:11\n",
      "   --------------- ------------------------ 9.7/25.2 MB 1.5 MB/s eta 0:00:11\n",
      "   --------------- ------------------------ 9.7/25.2 MB 1.5 MB/s eta 0:00:11\n",
      "   --------------- ------------------------ 9.8/25.2 MB 1.5 MB/s eta 0:00:11\n",
      "   --------------- ------------------------ 9.9/25.2 MB 1.5 MB/s eta 0:00:11\n",
      "   --------------- ------------------------ 9.9/25.2 MB 1.5 MB/s eta 0:00:11\n",
      "   --------------- ------------------------ 10.0/25.2 MB 1.5 MB/s eta 0:00:11\n",
      "   --------------- ------------------------ 10.0/25.2 MB 1.5 MB/s eta 0:00:11\n",
      "   ---------------- ----------------------- 10.1/25.2 MB 1.5 MB/s eta 0:00:11\n",
      "   ---------------- ----------------------- 10.2/25.2 MB 1.5 MB/s eta 0:00:11\n",
      "   ---------------- ----------------------- 10.2/25.2 MB 1.5 MB/s eta 0:00:11\n",
      "   ---------------- ----------------------- 10.3/25.2 MB 1.5 MB/s eta 0:00:11\n",
      "   ---------------- ----------------------- 10.4/25.2 MB 1.5 MB/s eta 0:00:11\n",
      "   ---------------- ----------------------- 10.5/25.2 MB 1.5 MB/s eta 0:00:10\n",
      "   ---------------- ----------------------- 10.5/25.2 MB 1.5 MB/s eta 0:00:10\n",
      "   ---------------- ----------------------- 10.6/25.2 MB 1.5 MB/s eta 0:00:10\n",
      "   ---------------- ----------------------- 10.6/25.2 MB 1.5 MB/s eta 0:00:10\n",
      "   ---------------- ----------------------- 10.7/25.2 MB 1.5 MB/s eta 0:00:10\n",
      "   ----------------- ---------------------- 10.8/25.2 MB 1.5 MB/s eta 0:00:10\n",
      "   ----------------- ---------------------- 10.8/25.2 MB 1.5 MB/s eta 0:00:10\n",
      "   ----------------- ---------------------- 10.9/25.2 MB 1.5 MB/s eta 0:00:10\n",
      "   ----------------- ---------------------- 10.9/25.2 MB 1.5 MB/s eta 0:00:10\n",
      "   ----------------- ---------------------- 11.0/25.2 MB 1.5 MB/s eta 0:00:10\n",
      "   ----------------- ---------------------- 11.1/25.2 MB 1.5 MB/s eta 0:00:10\n",
      "   ----------------- ---------------------- 11.1/25.2 MB 1.5 MB/s eta 0:00:10\n",
      "   ----------------- ---------------------- 11.2/25.2 MB 1.5 MB/s eta 0:00:10\n",
      "   ----------------- ---------------------- 11.2/25.2 MB 1.5 MB/s eta 0:00:10\n",
      "   ----------------- ---------------------- 11.3/25.2 MB 1.5 MB/s eta 0:00:10\n",
      "   ----------------- ---------------------- 11.3/25.2 MB 1.5 MB/s eta 0:00:10\n",
      "   ------------------ --------------------- 11.4/25.2 MB 1.5 MB/s eta 0:00:10\n",
      "   ------------------ --------------------- 11.5/25.2 MB 1.5 MB/s eta 0:00:10\n",
      "   ------------------ --------------------- 11.5/25.2 MB 1.5 MB/s eta 0:00:10\n",
      "   ------------------ --------------------- 11.6/25.2 MB 1.5 MB/s eta 0:00:10\n",
      "   ------------------ --------------------- 11.7/25.2 MB 1.5 MB/s eta 0:00:10\n",
      "   ------------------ --------------------- 11.8/25.2 MB 1.5 MB/s eta 0:00:10\n",
      "   ------------------ --------------------- 11.8/25.2 MB 1.5 MB/s eta 0:00:10\n",
      "   ------------------ --------------------- 11.9/25.2 MB 1.5 MB/s eta 0:00:10\n",
      "   ------------------ --------------------- 12.0/25.2 MB 1.5 MB/s eta 0:00:10\n",
      "   ------------------- -------------------- 12.0/25.2 MB 1.5 MB/s eta 0:00:09\n",
      "   ------------------- -------------------- 12.1/25.2 MB 1.5 MB/s eta 0:00:09\n",
      "   ------------------- -------------------- 12.1/25.2 MB 1.5 MB/s eta 0:00:09\n",
      "   ------------------- -------------------- 12.2/25.2 MB 1.5 MB/s eta 0:00:09\n",
      "   ------------------- -------------------- 12.2/25.2 MB 1.5 MB/s eta 0:00:09\n",
      "   ------------------- -------------------- 12.3/25.2 MB 1.5 MB/s eta 0:00:09\n",
      "   ------------------- -------------------- 12.3/25.2 MB 1.5 MB/s eta 0:00:09\n",
      "   ------------------- -------------------- 12.4/25.2 MB 1.5 MB/s eta 0:00:09\n",
      "   ------------------- -------------------- 12.5/25.2 MB 1.5 MB/s eta 0:00:09\n",
      "   ------------------- -------------------- 12.6/25.2 MB 1.5 MB/s eta 0:00:09\n",
      "   ------------------- -------------------- 12.6/25.2 MB 1.5 MB/s eta 0:00:09\n",
      "   ------------------- -------------------- 12.6/25.2 MB 1.5 MB/s eta 0:00:09\n",
      "   -------------------- ------------------- 12.7/25.2 MB 1.5 MB/s eta 0:00:09\n",
      "   -------------------- ------------------- 12.7/25.2 MB 1.5 MB/s eta 0:00:09\n",
      "   -------------------- ------------------- 12.8/25.2 MB 1.5 MB/s eta 0:00:09\n",
      "   -------------------- ------------------- 12.9/25.2 MB 1.5 MB/s eta 0:00:09\n",
      "   -------------------- ------------------- 12.9/25.2 MB 1.5 MB/s eta 0:00:09\n",
      "   -------------------- ------------------- 13.0/25.2 MB 1.5 MB/s eta 0:00:09\n",
      "   -------------------- ------------------- 13.1/25.2 MB 1.5 MB/s eta 0:00:09\n",
      "   -------------------- ------------------- 13.1/25.2 MB 1.5 MB/s eta 0:00:09\n",
      "   -------------------- ------------------- 13.2/25.2 MB 1.5 MB/s eta 0:00:09\n",
      "   -------------------- ------------------- 13.3/25.2 MB 1.5 MB/s eta 0:00:09\n",
      "   --------------------- ------------------ 13.3/25.2 MB 1.5 MB/s eta 0:00:09\n",
      "   --------------------- ------------------ 13.4/25.2 MB 1.5 MB/s eta 0:00:09\n",
      "   --------------------- ------------------ 13.5/25.2 MB 1.5 MB/s eta 0:00:09\n",
      "   --------------------- ------------------ 13.5/25.2 MB 1.5 MB/s eta 0:00:09\n",
      "   --------------------- ------------------ 13.6/25.2 MB 1.5 MB/s eta 0:00:09\n",
      "   --------------------- ------------------ 13.6/25.2 MB 1.4 MB/s eta 0:00:09\n",
      "   --------------------- ------------------ 13.7/25.2 MB 1.5 MB/s eta 0:00:08\n",
      "   --------------------- ------------------ 13.8/25.2 MB 1.4 MB/s eta 0:00:08\n",
      "   --------------------- ------------------ 13.8/25.2 MB 1.5 MB/s eta 0:00:08\n",
      "   ---------------------- ----------------- 13.9/25.2 MB 1.5 MB/s eta 0:00:08\n",
      "   ---------------------- ----------------- 14.0/25.2 MB 1.5 MB/s eta 0:00:08\n",
      "   ---------------------- ----------------- 14.0/25.2 MB 1.5 MB/s eta 0:00:08\n",
      "   ---------------------- ----------------- 14.1/25.2 MB 1.5 MB/s eta 0:00:08\n",
      "   ---------------------- ----------------- 14.2/25.2 MB 1.5 MB/s eta 0:00:08\n",
      "   ---------------------- ----------------- 14.3/25.2 MB 1.5 MB/s eta 0:00:08\n",
      "   ---------------------- ----------------- 14.3/25.2 MB 1.5 MB/s eta 0:00:08\n",
      "   ---------------------- ----------------- 14.4/25.2 MB 1.5 MB/s eta 0:00:08\n",
      "   ---------------------- ----------------- 14.4/25.2 MB 1.5 MB/s eta 0:00:08\n",
      "   ----------------------- ---------------- 14.5/25.2 MB 1.5 MB/s eta 0:00:08\n",
      "   ----------------------- ---------------- 14.6/25.2 MB 1.5 MB/s eta 0:00:08\n",
      "   ----------------------- ---------------- 14.6/25.2 MB 1.5 MB/s eta 0:00:08\n",
      "   ----------------------- ---------------- 14.7/25.2 MB 1.5 MB/s eta 0:00:08\n",
      "   ----------------------- ---------------- 14.8/25.2 MB 1.5 MB/s eta 0:00:08\n",
      "   ----------------------- ---------------- 14.8/25.2 MB 1.5 MB/s eta 0:00:08\n",
      "   ----------------------- ---------------- 14.9/25.2 MB 1.5 MB/s eta 0:00:08\n",
      "   ----------------------- ---------------- 15.0/25.2 MB 1.5 MB/s eta 0:00:07\n",
      "   ----------------------- ---------------- 15.0/25.2 MB 1.5 MB/s eta 0:00:07\n",
      "   ----------------------- ---------------- 15.1/25.2 MB 1.5 MB/s eta 0:00:07\n",
      "   ------------------------ --------------- 15.2/25.2 MB 1.5 MB/s eta 0:00:07\n",
      "   ------------------------ --------------- 15.2/25.2 MB 1.5 MB/s eta 0:00:07\n",
      "   ------------------------ --------------- 15.3/25.2 MB 1.5 MB/s eta 0:00:07\n",
      "   ------------------------ --------------- 15.3/25.2 MB 1.5 MB/s eta 0:00:07\n",
      "   ------------------------ --------------- 15.3/25.2 MB 1.5 MB/s eta 0:00:07\n",
      "   ------------------------ --------------- 15.4/25.2 MB 1.5 MB/s eta 0:00:07\n",
      "   ------------------------ --------------- 15.4/25.2 MB 1.5 MB/s eta 0:00:07\n",
      "   ------------------------ --------------- 15.5/25.2 MB 1.5 MB/s eta 0:00:07\n",
      "   ------------------------ --------------- 15.5/25.2 MB 1.5 MB/s eta 0:00:07\n",
      "   ------------------------ --------------- 15.6/25.2 MB 1.5 MB/s eta 0:00:07\n",
      "   ------------------------ --------------- 15.7/25.2 MB 1.5 MB/s eta 0:00:07\n",
      "   ------------------------ --------------- 15.7/25.2 MB 1.5 MB/s eta 0:00:07\n",
      "   ------------------------- -------------- 15.8/25.2 MB 1.5 MB/s eta 0:00:07\n",
      "   ------------------------- -------------- 15.9/25.2 MB 1.5 MB/s eta 0:00:07\n",
      "   ------------------------- -------------- 15.9/25.2 MB 1.5 MB/s eta 0:00:07\n",
      "   ------------------------- -------------- 16.0/25.2 MB 1.5 MB/s eta 0:00:07\n",
      "   ------------------------- -------------- 16.0/25.2 MB 1.5 MB/s eta 0:00:07\n",
      "   ------------------------- -------------- 16.1/25.2 MB 1.5 MB/s eta 0:00:07\n",
      "   ------------------------- -------------- 16.1/25.2 MB 1.5 MB/s eta 0:00:07\n",
      "   ------------------------- -------------- 16.1/25.2 MB 1.5 MB/s eta 0:00:07\n",
      "   ------------------------- -------------- 16.3/25.2 MB 1.5 MB/s eta 0:00:07\n",
      "   ------------------------- -------------- 16.3/25.2 MB 1.5 MB/s eta 0:00:07\n",
      "   ------------------------- -------------- 16.3/25.2 MB 1.5 MB/s eta 0:00:07\n",
      "   ------------------------- -------------- 16.4/25.2 MB 1.5 MB/s eta 0:00:07\n",
      "   -------------------------- ------------- 16.4/25.2 MB 1.5 MB/s eta 0:00:07\n",
      "   -------------------------- ------------- 16.5/25.2 MB 1.5 MB/s eta 0:00:07\n",
      "   -------------------------- ------------- 16.5/25.2 MB 1.5 MB/s eta 0:00:06\n",
      "   -------------------------- ------------- 16.6/25.2 MB 1.5 MB/s eta 0:00:06\n",
      "   -------------------------- ------------- 16.6/25.2 MB 1.5 MB/s eta 0:00:06\n",
      "   -------------------------- ------------- 16.7/25.2 MB 1.5 MB/s eta 0:00:06\n",
      "   -------------------------- ------------- 16.8/25.2 MB 1.5 MB/s eta 0:00:06\n",
      "   -------------------------- ------------- 16.8/25.2 MB 1.5 MB/s eta 0:00:06\n",
      "   -------------------------- ------------- 16.9/25.2 MB 1.5 MB/s eta 0:00:06\n",
      "   -------------------------- ------------- 16.9/25.2 MB 1.4 MB/s eta 0:00:06\n",
      "   -------------------------- ------------- 17.0/25.2 MB 1.4 MB/s eta 0:00:06\n",
      "   -------------------------- ------------- 17.0/25.2 MB 1.4 MB/s eta 0:00:06\n",
      "   --------------------------- ------------ 17.1/25.2 MB 1.4 MB/s eta 0:00:06\n",
      "   --------------------------- ------------ 17.2/25.2 MB 1.4 MB/s eta 0:00:06\n",
      "   --------------------------- ------------ 17.2/25.2 MB 1.4 MB/s eta 0:00:06\n",
      "   --------------------------- ------------ 17.3/25.2 MB 1.4 MB/s eta 0:00:06\n",
      "   --------------------------- ------------ 17.3/25.2 MB 1.4 MB/s eta 0:00:06\n",
      "   --------------------------- ------------ 17.4/25.2 MB 1.4 MB/s eta 0:00:06\n",
      "   --------------------------- ------------ 17.4/25.2 MB 1.4 MB/s eta 0:00:06\n",
      "   --------------------------- ------------ 17.5/25.2 MB 1.4 MB/s eta 0:00:06\n",
      "   --------------------------- ------------ 17.5/25.2 MB 1.4 MB/s eta 0:00:06\n",
      "   --------------------------- ------------ 17.6/25.2 MB 1.4 MB/s eta 0:00:06\n",
      "   --------------------------- ------------ 17.6/25.2 MB 1.4 MB/s eta 0:00:06\n",
      "   ---------------------------- ----------- 17.7/25.2 MB 1.4 MB/s eta 0:00:06\n",
      "   ---------------------------- ----------- 17.8/25.2 MB 1.4 MB/s eta 0:00:06\n",
      "   ---------------------------- ----------- 17.8/25.2 MB 1.4 MB/s eta 0:00:06\n",
      "   ---------------------------- ----------- 17.9/25.2 MB 1.4 MB/s eta 0:00:06\n",
      "   ---------------------------- ----------- 17.9/25.2 MB 1.4 MB/s eta 0:00:06\n",
      "   ---------------------------- ----------- 18.0/25.2 MB 1.4 MB/s eta 0:00:06\n",
      "   ---------------------------- ----------- 18.1/25.2 MB 1.4 MB/s eta 0:00:06\n",
      "   ---------------------------- ----------- 18.1/25.2 MB 1.4 MB/s eta 0:00:06\n",
      "   ---------------------------- ----------- 18.2/25.2 MB 1.4 MB/s eta 0:00:05\n",
      "   ---------------------------- ----------- 18.2/25.2 MB 1.4 MB/s eta 0:00:05\n",
      "   ---------------------------- ----------- 18.2/25.2 MB 1.4 MB/s eta 0:00:05\n",
      "   ----------------------------- ---------- 18.4/25.2 MB 1.4 MB/s eta 0:00:05\n",
      "   ----------------------------- ---------- 18.4/25.2 MB 1.4 MB/s eta 0:00:05\n",
      "   ----------------------------- ---------- 18.4/25.2 MB 1.4 MB/s eta 0:00:05\n",
      "   ----------------------------- ---------- 18.5/25.2 MB 1.4 MB/s eta 0:00:05\n",
      "   ----------------------------- ---------- 18.6/25.2 MB 1.4 MB/s eta 0:00:05\n",
      "   ----------------------------- ---------- 18.6/25.2 MB 1.4 MB/s eta 0:00:05\n",
      "   ----------------------------- ---------- 18.7/25.2 MB 1.4 MB/s eta 0:00:05\n",
      "   ----------------------------- ---------- 18.8/25.2 MB 1.4 MB/s eta 0:00:05\n",
      "   ----------------------------- ---------- 18.8/25.2 MB 1.4 MB/s eta 0:00:05\n",
      "   ----------------------------- ---------- 18.8/25.2 MB 1.4 MB/s eta 0:00:05\n",
      "   ----------------------------- ---------- 18.9/25.2 MB 1.4 MB/s eta 0:00:05\n",
      "   ------------------------------ --------- 19.0/25.2 MB 1.4 MB/s eta 0:00:05\n",
      "   ------------------------------ --------- 19.0/25.2 MB 1.4 MB/s eta 0:00:05\n",
      "   ------------------------------ --------- 19.1/25.2 MB 1.4 MB/s eta 0:00:05\n",
      "   ------------------------------ --------- 19.1/25.2 MB 1.4 MB/s eta 0:00:05\n",
      "   ------------------------------ --------- 19.1/25.2 MB 1.4 MB/s eta 0:00:05\n",
      "   ------------------------------ --------- 19.2/25.2 MB 1.4 MB/s eta 0:00:05\n",
      "   ------------------------------ --------- 19.2/25.2 MB 1.4 MB/s eta 0:00:05\n",
      "   ------------------------------ --------- 19.3/25.2 MB 1.4 MB/s eta 0:00:05\n",
      "   ------------------------------ --------- 19.3/25.2 MB 1.4 MB/s eta 0:00:05\n",
      "   ------------------------------ --------- 19.4/25.2 MB 1.4 MB/s eta 0:00:05\n",
      "   ------------------------------ --------- 19.4/25.2 MB 1.4 MB/s eta 0:00:05\n",
      "   ------------------------------ --------- 19.5/25.2 MB 1.4 MB/s eta 0:00:05\n",
      "   ------------------------------- -------- 19.6/25.2 MB 1.4 MB/s eta 0:00:04\n",
      "   ------------------------------- -------- 19.6/25.2 MB 1.4 MB/s eta 0:00:04\n",
      "   ------------------------------- -------- 19.7/25.2 MB 1.4 MB/s eta 0:00:04\n",
      "   ------------------------------- -------- 19.8/25.2 MB 1.4 MB/s eta 0:00:04\n",
      "   ------------------------------- -------- 19.8/25.2 MB 1.4 MB/s eta 0:00:04\n",
      "   ------------------------------- -------- 19.9/25.2 MB 1.4 MB/s eta 0:00:04\n",
      "   ------------------------------- -------- 19.9/25.2 MB 1.4 MB/s eta 0:00:04\n",
      "   ------------------------------- -------- 19.9/25.2 MB 1.4 MB/s eta 0:00:04\n",
      "   ------------------------------- -------- 19.9/25.2 MB 1.4 MB/s eta 0:00:04\n",
      "   ------------------------------- -------- 20.0/25.2 MB 1.4 MB/s eta 0:00:04\n",
      "   ------------------------------- -------- 20.0/25.2 MB 1.4 MB/s eta 0:00:04\n",
      "   ------------------------------- -------- 20.1/25.2 MB 1.4 MB/s eta 0:00:04\n",
      "   ------------------------------- -------- 20.2/25.2 MB 1.4 MB/s eta 0:00:04\n",
      "   -------------------------------- ------- 20.2/25.2 MB 1.4 MB/s eta 0:00:04\n",
      "   -------------------------------- ------- 20.2/25.2 MB 1.4 MB/s eta 0:00:04\n",
      "   -------------------------------- ------- 20.3/25.2 MB 1.4 MB/s eta 0:00:04\n",
      "   -------------------------------- ------- 20.3/25.2 MB 1.4 MB/s eta 0:00:04\n",
      "   -------------------------------- ------- 20.4/25.2 MB 1.4 MB/s eta 0:00:04\n",
      "   -------------------------------- ------- 20.5/25.2 MB 1.4 MB/s eta 0:00:04\n",
      "   -------------------------------- ------- 20.5/25.2 MB 1.4 MB/s eta 0:00:04\n",
      "   -------------------------------- ------- 20.6/25.2 MB 1.4 MB/s eta 0:00:04\n",
      "   -------------------------------- ------- 20.7/25.2 MB 1.4 MB/s eta 0:00:04\n",
      "   -------------------------------- ------- 20.7/25.2 MB 1.4 MB/s eta 0:00:04\n",
      "   -------------------------------- ------- 20.8/25.2 MB 1.4 MB/s eta 0:00:04\n",
      "   -------------------------------- ------- 20.8/25.2 MB 1.4 MB/s eta 0:00:04\n",
      "   --------------------------------- ------ 20.9/25.2 MB 1.4 MB/s eta 0:00:04\n",
      "   --------------------------------- ------ 21.0/25.2 MB 1.4 MB/s eta 0:00:04\n",
      "   --------------------------------- ------ 21.0/25.2 MB 1.4 MB/s eta 0:00:04\n",
      "   --------------------------------- ------ 21.1/25.2 MB 1.4 MB/s eta 0:00:04\n",
      "   --------------------------------- ------ 21.1/25.2 MB 1.4 MB/s eta 0:00:03\n",
      "   --------------------------------- ------ 21.2/25.2 MB 1.4 MB/s eta 0:00:03\n",
      "   --------------------------------- ------ 21.3/25.2 MB 1.4 MB/s eta 0:00:03\n",
      "   --------------------------------- ------ 21.3/25.2 MB 1.4 MB/s eta 0:00:03\n",
      "   --------------------------------- ------ 21.4/25.2 MB 1.4 MB/s eta 0:00:03\n",
      "   --------------------------------- ------ 21.5/25.2 MB 1.4 MB/s eta 0:00:03\n",
      "   ---------------------------------- ----- 21.6/25.2 MB 1.4 MB/s eta 0:00:03\n",
      "   ---------------------------------- ----- 21.6/25.2 MB 1.4 MB/s eta 0:00:03\n",
      "   ---------------------------------- ----- 21.7/25.2 MB 1.4 MB/s eta 0:00:03\n",
      "   ---------------------------------- ----- 21.7/25.2 MB 1.4 MB/s eta 0:00:03\n",
      "   ---------------------------------- ----- 21.7/25.2 MB 1.4 MB/s eta 0:00:03\n",
      "   ---------------------------------- ----- 21.8/25.2 MB 1.4 MB/s eta 0:00:03\n",
      "   ---------------------------------- ----- 21.9/25.2 MB 1.4 MB/s eta 0:00:03\n",
      "   ---------------------------------- ----- 22.0/25.2 MB 1.4 MB/s eta 0:00:03\n",
      "   ---------------------------------- ----- 22.0/25.2 MB 1.4 MB/s eta 0:00:03\n",
      "   ---------------------------------- ----- 22.1/25.2 MB 1.4 MB/s eta 0:00:03\n",
      "   ----------------------------------- ---- 22.1/25.2 MB 1.4 MB/s eta 0:00:03\n",
      "   ----------------------------------- ---- 22.2/25.2 MB 1.4 MB/s eta 0:00:03\n",
      "   ----------------------------------- ---- 22.2/25.2 MB 1.4 MB/s eta 0:00:03\n",
      "   ----------------------------------- ---- 22.3/25.2 MB 1.4 MB/s eta 0:00:03\n",
      "   ----------------------------------- ---- 22.3/25.2 MB 1.4 MB/s eta 0:00:03\n",
      "   ----------------------------------- ---- 22.4/25.2 MB 1.4 MB/s eta 0:00:03\n",
      "   ----------------------------------- ---- 22.5/25.2 MB 1.4 MB/s eta 0:00:03\n",
      "   ----------------------------------- ---- 22.5/25.2 MB 1.4 MB/s eta 0:00:02\n",
      "   ----------------------------------- ---- 22.6/25.2 MB 1.4 MB/s eta 0:00:02\n",
      "   ----------------------------------- ---- 22.7/25.2 MB 1.4 MB/s eta 0:00:02\n",
      "   ------------------------------------ --- 22.7/25.2 MB 1.4 MB/s eta 0:00:02\n",
      "   ------------------------------------ --- 22.8/25.2 MB 1.4 MB/s eta 0:00:02\n",
      "   ------------------------------------ --- 22.9/25.2 MB 1.4 MB/s eta 0:00:02\n",
      "   ------------------------------------ --- 22.9/25.2 MB 1.4 MB/s eta 0:00:02\n",
      "   ------------------------------------ --- 23.0/25.2 MB 1.4 MB/s eta 0:00:02\n",
      "   ------------------------------------ --- 23.1/25.2 MB 1.4 MB/s eta 0:00:02\n",
      "   ------------------------------------ --- 23.1/25.2 MB 1.4 MB/s eta 0:00:02\n",
      "   ------------------------------------ --- 23.2/25.2 MB 1.4 MB/s eta 0:00:02\n",
      "   ------------------------------------ --- 23.3/25.2 MB 1.4 MB/s eta 0:00:02\n",
      "   ------------------------------------ --- 23.3/25.2 MB 1.4 MB/s eta 0:00:02\n",
      "   ------------------------------------ --- 23.3/25.2 MB 1.4 MB/s eta 0:00:02\n",
      "   ------------------------------------- -- 23.4/25.2 MB 1.4 MB/s eta 0:00:02\n",
      "   ------------------------------------- -- 23.4/25.2 MB 1.4 MB/s eta 0:00:02\n",
      "   ------------------------------------- -- 23.5/25.2 MB 1.4 MB/s eta 0:00:02\n",
      "   ------------------------------------- -- 23.5/25.2 MB 1.4 MB/s eta 0:00:02\n",
      "   ------------------------------------- -- 23.6/25.2 MB 1.4 MB/s eta 0:00:02\n",
      "   ------------------------------------- -- 23.6/25.2 MB 1.4 MB/s eta 0:00:02\n",
      "   ------------------------------------- -- 23.7/25.2 MB 1.4 MB/s eta 0:00:02\n",
      "   ------------------------------------- -- 23.8/25.2 MB 1.4 MB/s eta 0:00:02\n",
      "   ------------------------------------- -- 23.8/25.2 MB 1.4 MB/s eta 0:00:02\n",
      "   ------------------------------------- -- 23.9/25.2 MB 1.4 MB/s eta 0:00:01\n",
      "   ------------------------------------- -- 23.9/25.2 MB 1.4 MB/s eta 0:00:01\n",
      "   -------------------------------------- - 24.0/25.2 MB 1.4 MB/s eta 0:00:01\n",
      "   -------------------------------------- - 24.1/25.2 MB 1.4 MB/s eta 0:00:01\n",
      "   -------------------------------------- - 24.1/25.2 MB 1.4 MB/s eta 0:00:01\n",
      "   -------------------------------------- - 24.2/25.2 MB 1.4 MB/s eta 0:00:01\n",
      "   -------------------------------------- - 24.2/25.2 MB 1.4 MB/s eta 0:00:01\n",
      "   -------------------------------------- - 24.3/25.2 MB 1.4 MB/s eta 0:00:01\n",
      "   -------------------------------------- - 24.4/25.2 MB 1.4 MB/s eta 0:00:01\n",
      "   -------------------------------------- - 24.4/25.2 MB 1.4 MB/s eta 0:00:01\n",
      "   -------------------------------------- - 24.5/25.2 MB 1.4 MB/s eta 0:00:01\n",
      "   -------------------------------------- - 24.6/25.2 MB 1.4 MB/s eta 0:00:01\n",
      "   -------------------------------------- - 24.6/25.2 MB 1.4 MB/s eta 0:00:01\n",
      "   ---------------------------------------  24.6/25.2 MB 1.4 MB/s eta 0:00:01\n",
      "   ---------------------------------------  24.7/25.2 MB 1.4 MB/s eta 0:00:01\n",
      "   ---------------------------------------  24.8/25.2 MB 1.4 MB/s eta 0:00:01\n",
      "   ---------------------------------------  24.8/25.2 MB 1.4 MB/s eta 0:00:01\n",
      "   ---------------------------------------  24.9/25.2 MB 1.4 MB/s eta 0:00:01\n",
      "   ---------------------------------------  24.9/25.2 MB 1.4 MB/s eta 0:00:01\n",
      "   ---------------------------------------  25.0/25.2 MB 1.3 MB/s eta 0:00:01\n",
      "   ---------------------------------------  25.0/25.2 MB 1.3 MB/s eta 0:00:01\n",
      "   ---------------------------------------  25.1/25.2 MB 1.3 MB/s eta 0:00:01\n",
      "   ---------------------------------------  25.1/25.2 MB 1.4 MB/s eta 0:00:01\n",
      "   ---------------------------------------  25.2/25.2 MB 1.3 MB/s eta 0:00:01\n",
      "   ---------------------------------------  25.2/25.2 MB 1.3 MB/s eta 0:00:01\n",
      "   ---------------------------------------- 25.2/25.2 MB 1.3 MB/s eta 0:00:00\n",
      "Downloading xxhash-3.5.0-cp312-cp312-win_amd64.whl (30 kB)\n",
      "Installing collected packages: xxhash, pyarrow, multiprocess, huggingface-hub, datasets\n",
      "Successfully installed datasets-3.2.0 huggingface-hub-0.27.1 multiprocess-0.70.16 pyarrow-19.0.0 xxhash-3.5.0\n"
     ]
    }
   ],
   "source": [
    "pip install datasets"
   ]
  },
  {
   "cell_type": "code",
   "execution_count": 2,
   "metadata": {},
   "outputs": [
    {
     "name": "stdout",
     "output_type": "stream",
     "text": [
      "Help on function load_dataset in module datasets.load:\n",
      "\n",
      "load_dataset(path: str, name: Optional[str] = None, data_dir: Optional[str] = None, data_files: Union[str, Sequence[str], Mapping[str, Union[str, Sequence[str]]], NoneType] = None, split: Union[str, datasets.splits.Split, NoneType] = None, cache_dir: Optional[str] = None, features: Optional[datasets.features.features.Features] = None, download_config: Optional[datasets.download.download_config.DownloadConfig] = None, download_mode: Union[datasets.download.download_manager.DownloadMode, str, NoneType] = None, verification_mode: Union[datasets.utils.info_utils.VerificationMode, str, NoneType] = None, keep_in_memory: Optional[bool] = None, save_infos: bool = False, revision: Union[str, datasets.utils.version.Version, NoneType] = None, token: Union[bool, str, NoneType] = None, streaming: bool = False, num_proc: Optional[int] = None, storage_options: Optional[Dict] = None, trust_remote_code: bool = None, **config_kwargs) -> Union[datasets.dataset_dict.DatasetDict, datasets.arrow_dataset.Dataset, datasets.dataset_dict.IterableDatasetDict, datasets.iterable_dataset.IterableDataset]\n",
      "    Load a dataset from the Hugging Face Hub, or a local dataset.\n",
      "\n",
      "    You can find the list of datasets on the [Hub](https://huggingface.co/datasets) or with [`huggingface_hub.list_datasets`].\n",
      "\n",
      "    A dataset is a directory that contains some data files in generic formats (JSON, CSV, Parquet, etc.) and possibly\n",
      "    in a generic structure (Webdataset, ImageFolder, AudioFolder, VideoFolder, etc.)\n",
      "\n",
      "    This function does the following under the hood:\n",
      "\n",
      "        1. Load a dataset builder:\n",
      "\n",
      "            * Find the most common data format in the dataset and pick its associated builder (JSON, CSV, Parquet, Webdataset, ImageFolder, AudioFolder, etc.)\n",
      "            * Find which file goes into which split (e.g. train/test) based on file and directory names or on the YAML configuration\n",
      "            * It is also possible to specify `data_files` manually, and which dataset builder to use (e.g. \"parquet\").\n",
      "\n",
      "        2. Run the dataset builder:\n",
      "\n",
      "            In the general case:\n",
      "\n",
      "            * Download the data files from the dataset if they are not already available locally or cached.\n",
      "            * Process and cache the dataset in typed Arrow tables for caching.\n",
      "\n",
      "                Arrow table are arbitrarily long, typed tables which can store nested objects and be mapped to numpy/pandas/python generic types.\n",
      "                They can be directly accessed from disk, loaded in RAM or even streamed over the web.\n",
      "\n",
      "            In the streaming case:\n",
      "\n",
      "            * Don't download or cache anything. Instead, the dataset is lazily loaded and will be streamed on-the-fly when iterating on it.\n",
      "\n",
      "        3. Return a dataset built from the requested splits in `split` (default: all).\n",
      "\n",
      "    It can also use a custom dataset builder if the dataset contains a dataset script, but this feature is mostly for backward compatibility.\n",
      "    In this case the dataset script file must be named after the dataset repository or directory and end with \".py\".\n",
      "\n",
      "    Args:\n",
      "\n",
      "        path (`str`):\n",
      "            Path or name of the dataset.\n",
      "\n",
      "            - if `path` is a dataset repository on the HF hub (list all available datasets with [`huggingface_hub.list_datasets`])\n",
      "              -> load the dataset from supported files in the repository (csv, json, parquet, etc.)\n",
      "              e.g. `'username/dataset_name'`, a dataset repository on the HF hub containing the data files.\n",
      "\n",
      "            - if `path` is a local directory\n",
      "              -> load the dataset from supported files in the directory (csv, json, parquet, etc.)\n",
      "              e.g. `'./path/to/directory/with/my/csv/data'`.\n",
      "\n",
      "            - if `path` is the name of a dataset builder and `data_files` or `data_dir` is specified\n",
      "              (available builders are \"json\", \"csv\", \"parquet\", \"arrow\", \"text\", \"xml\", \"webdataset\", \"imagefolder\", \"audiofolder\", \"videofolder\")\n",
      "              -> load the dataset from the files in `data_files` or `data_dir`\n",
      "              e.g. `'parquet'`.\n",
      "\n",
      "            It can also point to a local dataset script but this is not recommended.\n",
      "        name (`str`, *optional*):\n",
      "            Defining the name of the dataset configuration.\n",
      "        data_dir (`str`, *optional*):\n",
      "            Defining the `data_dir` of the dataset configuration. If specified for the generic builders (csv, text etc.) or the Hub datasets and `data_files` is `None`,\n",
      "            the behavior is equal to passing `os.path.join(data_dir, **)` as `data_files` to reference all the files in a directory.\n",
      "        data_files (`str` or `Sequence` or `Mapping`, *optional*):\n",
      "            Path(s) to source data file(s).\n",
      "        split (`Split` or `str`):\n",
      "            Which split of the data to load.\n",
      "            If `None`, will return a `dict` with all splits (typically `datasets.Split.TRAIN` and `datasets.Split.TEST`).\n",
      "            If given, will return a single Dataset.\n",
      "            Splits can be combined and specified like in tensorflow-datasets.\n",
      "        cache_dir (`str`, *optional*):\n",
      "            Directory to read/write data. Defaults to `\"~/.cache/huggingface/datasets\"`.\n",
      "        features (`Features`, *optional*):\n",
      "            Set the features type to use for this dataset.\n",
      "        download_config ([`DownloadConfig`], *optional*):\n",
      "            Specific download configuration parameters.\n",
      "        download_mode ([`DownloadMode`] or `str`, defaults to `REUSE_DATASET_IF_EXISTS`):\n",
      "            Download/generate mode.\n",
      "        verification_mode ([`VerificationMode`] or `str`, defaults to `BASIC_CHECKS`):\n",
      "            Verification mode determining the checks to run on the downloaded/processed dataset information (checksums/size/splits/...).\n",
      "\n",
      "            <Added version=\"2.9.1\"/>\n",
      "        keep_in_memory (`bool`, defaults to `None`):\n",
      "            Whether to copy the dataset in-memory. If `None`, the dataset\n",
      "            will not be copied in-memory unless explicitly enabled by setting `datasets.config.IN_MEMORY_MAX_SIZE` to\n",
      "            nonzero. See more details in the [improve performance](../cache#improve-performance) section.\n",
      "        save_infos (`bool`, defaults to `False`):\n",
      "            Save the dataset information (checksums/size/splits/...).\n",
      "        revision ([`Version`] or `str`, *optional*):\n",
      "            Version of the dataset script to load.\n",
      "            As datasets have their own git repository on the Datasets Hub, the default version \"main\" corresponds to their \"main\" branch.\n",
      "            You can specify a different version than the default \"main\" by using a commit SHA or a git tag of the dataset repository.\n",
      "        token (`str` or `bool`, *optional*):\n",
      "            Optional string or boolean to use as Bearer token for remote files on the Datasets Hub.\n",
      "            If `True`, or not specified, will get token from `\"~/.huggingface\"`.\n",
      "        streaming (`bool`, defaults to `False`):\n",
      "            If set to `True`, don't download the data files. Instead, it streams the data progressively while\n",
      "            iterating on the dataset. An [`IterableDataset`] or [`IterableDatasetDict`] is returned instead in this case.\n",
      "\n",
      "            Note that streaming works for datasets that use data formats that support being iterated over like txt, csv, jsonl for example.\n",
      "            Json files may be downloaded completely. Also streaming from remote zip or gzip files is supported but other compressed formats\n",
      "            like rar and xz are not yet supported. The tgz format doesn't allow streaming.\n",
      "        num_proc (`int`, *optional*, defaults to `None`):\n",
      "            Number of processes when downloading and generating the dataset locally.\n",
      "            Multiprocessing is disabled by default.\n",
      "\n",
      "            <Added version=\"2.7.0\"/>\n",
      "        storage_options (`dict`, *optional*, defaults to `None`):\n",
      "            **Experimental**. Key/value pairs to be passed on to the dataset file-system backend, if any.\n",
      "\n",
      "            <Added version=\"2.11.0\"/>\n",
      "        trust_remote_code (`bool`, defaults to `False`):\n",
      "            Whether or not to allow for datasets defined on the Hub using a dataset script. This option\n",
      "            should only be set to `True` for repositories you trust and in which you have read the code, as it will\n",
      "            execute code present on the Hub on your local machine.\n",
      "\n",
      "            <Added version=\"2.16.0\"/>\n",
      "\n",
      "            <Changed version=\"2.20.0\">\n",
      "\n",
      "            `trust_remote_code` defaults to `False` if not specified.\n",
      "\n",
      "            </Changed>\n",
      "\n",
      "        **config_kwargs (additional keyword arguments):\n",
      "            Keyword arguments to be passed to the `BuilderConfig`\n",
      "            and used in the [`DatasetBuilder`].\n",
      "\n",
      "    Returns:\n",
      "        [`Dataset`] or [`DatasetDict`]:\n",
      "        - if `split` is not `None`: the dataset requested,\n",
      "        - if `split` is `None`, a [`~datasets.DatasetDict`] with each split.\n",
      "\n",
      "        or [`IterableDataset`] or [`IterableDatasetDict`]: if `streaming=True`\n",
      "\n",
      "        - if `split` is not `None`, the dataset is requested\n",
      "        - if `split` is `None`, a [`~datasets.streaming.IterableDatasetDict`] with each split.\n",
      "\n",
      "    Example:\n",
      "\n",
      "    Load a dataset from the Hugging Face Hub:\n",
      "\n",
      "    ```py\n",
      "    >>> from datasets import load_dataset\n",
      "    >>> ds = load_dataset('cornell-movie-review-data/rotten_tomatoes', split='train')\n",
      "\n",
      "    # Load a subset or dataset configuration (here 'sst2')\n",
      "    >>> from datasets import load_dataset\n",
      "    >>> ds = load_dataset('nyu-mll/glue', 'sst2', split='train')\n",
      "\n",
      "    # Manual mapping of data files to splits\n",
      "    >>> data_files = {'train': 'train.csv', 'test': 'test.csv'}\n",
      "    >>> ds = load_dataset('namespace/your_dataset_name', data_files=data_files)\n",
      "\n",
      "    # Manual selection of a directory to load\n",
      "    >>> ds = load_dataset('namespace/your_dataset_name', data_dir='folder_name')\n",
      "    ```\n",
      "\n",
      "    Load a local dataset:\n",
      "\n",
      "    ```py\n",
      "    # Load a CSV file\n",
      "    >>> from datasets import load_dataset\n",
      "    >>> ds = load_dataset('csv', data_files='path/to/local/my_dataset.csv')\n",
      "\n",
      "    # Load a JSON file\n",
      "    >>> from datasets import load_dataset\n",
      "    >>> ds = load_dataset('json', data_files='path/to/local/my_dataset.json')\n",
      "\n",
      "    # Load from a local loading script (not recommended)\n",
      "    >>> from datasets import load_dataset\n",
      "    >>> ds = load_dataset('path/to/local/loading_script/loading_script.py', split='train')\n",
      "    ```\n",
      "\n",
      "    Load an [`~datasets.IterableDataset`]:\n",
      "\n",
      "    ```py\n",
      "    >>> from datasets import load_dataset\n",
      "    >>> ds = load_dataset('cornell-movie-review-data/rotten_tomatoes', split='train', streaming=True)\n",
      "    ```\n",
      "\n",
      "    Load an image dataset with the `ImageFolder` dataset builder:\n",
      "\n",
      "    ```py\n",
      "    >>> from datasets import load_dataset\n",
      "    >>> ds = load_dataset('imagefolder', data_dir='/path/to/images', split='train')\n",
      "    ```\n",
      "\n"
     ]
    }
   ],
   "source": [
    "help(load_dataset)"
   ]
  },
  {
   "cell_type": "code",
   "execution_count": null,
   "metadata": {},
   "outputs": [
    {
     "data": {
      "application/vnd.jupyter.widget-view+json": {
       "model_id": "9fb93f901dc94d859ad91c46743a76cd",
       "version_major": 2,
       "version_minor": 0
      },
      "text/plain": [
       "README.md:   0%|          | 0.00/3.62k [00:00<?, ?B/s]"
      ]
     },
     "metadata": {},
     "output_type": "display_data"
    },
    {
     "data": {
      "application/vnd.jupyter.widget-view+json": {
       "model_id": "8502c835145e4d8fb7b8572db11c6b75",
       "version_major": 2,
       "version_minor": 0
      },
      "text/plain": [
       "Resolving data files:   0%|          | 0/126 [00:00<?, ?it/s]"
      ]
     },
     "metadata": {},
     "output_type": "display_data"
    },
    {
     "data": {
      "application/vnd.jupyter.widget-view+json": {
       "model_id": "4e1e4adf0d244e4c991ee8c03f2c304e",
       "version_major": 2,
       "version_minor": 0
      },
      "text/plain": [
       "Downloading data:   0%|          | 0/125 [00:00<?, ?files/s]"
      ]
     },
     "metadata": {},
     "output_type": "display_data"
    },
    {
     "data": {
      "application/vnd.jupyter.widget-view+json": {
       "model_id": "eb4e82f552214857b6a868cbf33a58b1",
       "version_major": 2,
       "version_minor": 0
      },
      "text/plain": [
       "pd12m.013.parquet:   0%|          | 0.00/18.9M [00:00<?, ?B/s]"
      ]
     },
     "metadata": {},
     "output_type": "display_data"
    },
    {
     "data": {
      "application/vnd.jupyter.widget-view+json": {
       "model_id": "fd179b1dd76b4a65bfc85663ac95bad4",
       "version_major": 2,
       "version_minor": 0
      },
      "text/plain": [
       "pd12m.000.parquet:   0%|          | 0.00/18.9M [00:00<?, ?B/s]"
      ]
     },
     "metadata": {},
     "output_type": "display_data"
    },
    {
     "data": {
      "application/vnd.jupyter.widget-view+json": {
       "model_id": "6bd3088a051f4d80870c24b78d06232f",
       "version_major": 2,
       "version_minor": 0
      },
      "text/plain": [
       "pd12m.007.parquet:   0%|          | 0.00/18.9M [00:00<?, ?B/s]"
      ]
     },
     "metadata": {},
     "output_type": "display_data"
    },
    {
     "data": {
      "application/vnd.jupyter.widget-view+json": {
       "model_id": "f1e6ae12f0b3482582faf847144b2319",
       "version_major": 2,
       "version_minor": 0
      },
      "text/plain": [
       "pd12m.011.parquet:   0%|          | 0.00/18.9M [00:00<?, ?B/s]"
      ]
     },
     "metadata": {},
     "output_type": "display_data"
    },
    {
     "data": {
      "application/vnd.jupyter.widget-view+json": {
       "model_id": "0206e200bf484536a793e7770950159f",
       "version_major": 2,
       "version_minor": 0
      },
      "text/plain": [
       "pd12m.014.parquet:   0%|          | 0.00/18.9M [00:00<?, ?B/s]"
      ]
     },
     "metadata": {},
     "output_type": "display_data"
    },
    {
     "data": {
      "application/vnd.jupyter.widget-view+json": {
       "model_id": "3002c96d4f44499583ca21b5b41c6173",
       "version_major": 2,
       "version_minor": 0
      },
      "text/plain": [
       "pd12m.008.parquet:   0%|          | 0.00/18.9M [00:00<?, ?B/s]"
      ]
     },
     "metadata": {},
     "output_type": "display_data"
    },
    {
     "data": {
      "application/vnd.jupyter.widget-view+json": {
       "model_id": "5e28cd63374545979d55e3c79d60693d",
       "version_major": 2,
       "version_minor": 0
      },
      "text/plain": [
       "pd12m.015.parquet:   0%|          | 0.00/18.9M [00:00<?, ?B/s]"
      ]
     },
     "metadata": {},
     "output_type": "display_data"
    },
    {
     "data": {
      "application/vnd.jupyter.widget-view+json": {
       "model_id": "5f41cfe2be3d47878f7d1f37ab479c36",
       "version_major": 2,
       "version_minor": 0
      },
      "text/plain": [
       "pd12m.001.parquet:   0%|          | 0.00/18.9M [00:00<?, ?B/s]"
      ]
     },
     "metadata": {},
     "output_type": "display_data"
    },
    {
     "data": {
      "application/vnd.jupyter.widget-view+json": {
       "model_id": "26818e25968f4679a82eb257299c7f04",
       "version_major": 2,
       "version_minor": 0
      },
      "text/plain": [
       "pd12m.010.parquet:   0%|          | 0.00/18.9M [00:00<?, ?B/s]"
      ]
     },
     "metadata": {},
     "output_type": "display_data"
    },
    {
     "data": {
      "application/vnd.jupyter.widget-view+json": {
       "model_id": "d7eebf4556204ac6852c2fac7ec479ff",
       "version_major": 2,
       "version_minor": 0
      },
      "text/plain": [
       "pd12m.009.parquet:   0%|          | 0.00/18.9M [00:00<?, ?B/s]"
      ]
     },
     "metadata": {},
     "output_type": "display_data"
    },
    {
     "data": {
      "application/vnd.jupyter.widget-view+json": {
       "model_id": "0050ee5fc9cd4998824451fe091b28d6",
       "version_major": 2,
       "version_minor": 0
      },
      "text/plain": [
       "pd12m.004.parquet:   0%|          | 0.00/18.9M [00:00<?, ?B/s]"
      ]
     },
     "metadata": {},
     "output_type": "display_data"
    },
    {
     "data": {
      "application/vnd.jupyter.widget-view+json": {
       "model_id": "86aecc822af74b168b00518b8c995107",
       "version_major": 2,
       "version_minor": 0
      },
      "text/plain": [
       "pd12m.006.parquet:   0%|          | 0.00/18.8M [00:00<?, ?B/s]"
      ]
     },
     "metadata": {},
     "output_type": "display_data"
    },
    {
     "data": {
      "application/vnd.jupyter.widget-view+json": {
       "model_id": "c14aa041612142c19a8b0f530dc9ec41",
       "version_major": 2,
       "version_minor": 0
      },
      "text/plain": [
       "pd12m.002.parquet:   0%|          | 0.00/18.9M [00:00<?, ?B/s]"
      ]
     },
     "metadata": {},
     "output_type": "display_data"
    },
    {
     "data": {
      "application/vnd.jupyter.widget-view+json": {
       "model_id": "40120e77709b4148a6a732840bea3bdf",
       "version_major": 2,
       "version_minor": 0
      },
      "text/plain": [
       "pd12m.005.parquet:   0%|          | 0.00/18.9M [00:00<?, ?B/s]"
      ]
     },
     "metadata": {},
     "output_type": "display_data"
    },
    {
     "data": {
      "application/vnd.jupyter.widget-view+json": {
       "model_id": "f59104e97e8344bda62f772b7697c1fa",
       "version_major": 2,
       "version_minor": 0
      },
      "text/plain": [
       "pd12m.012.parquet:   0%|          | 0.00/18.9M [00:00<?, ?B/s]"
      ]
     },
     "metadata": {},
     "output_type": "display_data"
    },
    {
     "data": {
      "application/vnd.jupyter.widget-view+json": {
       "model_id": "5e03a33285cd40aa9eb11c050dc943c0",
       "version_major": 2,
       "version_minor": 0
      },
      "text/plain": [
       "pd12m.003.parquet:   0%|          | 0.00/18.9M [00:00<?, ?B/s]"
      ]
     },
     "metadata": {},
     "output_type": "display_data"
    },
    {
     "data": {
      "application/vnd.jupyter.widget-view+json": {
       "model_id": "be9f5eee73ca43a8a6a6a75aaf824429",
       "version_major": 2,
       "version_minor": 0
      },
      "text/plain": [
       "pd12m.016.parquet:   0%|          | 0.00/18.9M [00:00<?, ?B/s]"
      ]
     },
     "metadata": {},
     "output_type": "display_data"
    },
    {
     "data": {
      "application/vnd.jupyter.widget-view+json": {
       "model_id": "ac37cc9ac60040349cdb283e85e039f7",
       "version_major": 2,
       "version_minor": 0
      },
      "text/plain": [
       "pd12m.017.parquet:   0%|          | 0.00/18.9M [00:00<?, ?B/s]"
      ]
     },
     "metadata": {},
     "output_type": "display_data"
    },
    {
     "data": {
      "application/vnd.jupyter.widget-view+json": {
       "model_id": "0c1c1d2c135d43f8a876b4a95df85c92",
       "version_major": 2,
       "version_minor": 0
      },
      "text/plain": [
       "pd12m.019.parquet:   0%|          | 0.00/18.9M [00:00<?, ?B/s]"
      ]
     },
     "metadata": {},
     "output_type": "display_data"
    },
    {
     "data": {
      "application/vnd.jupyter.widget-view+json": {
       "model_id": "0fa27d3024e24561b5de3c172fbd7deb",
       "version_major": 2,
       "version_minor": 0
      },
      "text/plain": [
       "pd12m.018.parquet:   0%|          | 0.00/18.9M [00:00<?, ?B/s]"
      ]
     },
     "metadata": {},
     "output_type": "display_data"
    },
    {
     "data": {
      "application/vnd.jupyter.widget-view+json": {
       "model_id": "1b86fb2b254e4ffd98ba52422089d37a",
       "version_major": 2,
       "version_minor": 0
      },
      "text/plain": [
       "pd12m.021.parquet:   0%|          | 0.00/18.9M [00:00<?, ?B/s]"
      ]
     },
     "metadata": {},
     "output_type": "display_data"
    },
    {
     "data": {
      "application/vnd.jupyter.widget-view+json": {
       "model_id": "a095bef498de4826a3ae0b525606adc3",
       "version_major": 2,
       "version_minor": 0
      },
      "text/plain": [
       "pd12m.020.parquet:   0%|          | 0.00/18.9M [00:00<?, ?B/s]"
      ]
     },
     "metadata": {},
     "output_type": "display_data"
    },
    {
     "data": {
      "application/vnd.jupyter.widget-view+json": {
       "model_id": "607ab07924854d24b0a191be4fa1cf82",
       "version_major": 2,
       "version_minor": 0
      },
      "text/plain": [
       "pd12m.022.parquet:   0%|          | 0.00/18.9M [00:00<?, ?B/s]"
      ]
     },
     "metadata": {},
     "output_type": "display_data"
    },
    {
     "data": {
      "application/vnd.jupyter.widget-view+json": {
       "model_id": "6f9d310e6bad419b98a8b001b3f45fde",
       "version_major": 2,
       "version_minor": 0
      },
      "text/plain": [
       "pd12m.023.parquet:   0%|          | 0.00/18.9M [00:00<?, ?B/s]"
      ]
     },
     "metadata": {},
     "output_type": "display_data"
    },
    {
     "data": {
      "application/vnd.jupyter.widget-view+json": {
       "model_id": "5ba9c67230534ad0afa38b50211cb0b0",
       "version_major": 2,
       "version_minor": 0
      },
      "text/plain": [
       "pd12m.025.parquet:   0%|          | 0.00/18.9M [00:00<?, ?B/s]"
      ]
     },
     "metadata": {},
     "output_type": "display_data"
    },
    {
     "data": {
      "application/vnd.jupyter.widget-view+json": {
       "model_id": "1d051927f6964c7e920a2a0475f6efa6",
       "version_major": 2,
       "version_minor": 0
      },
      "text/plain": [
       "pd12m.024.parquet:   0%|          | 0.00/18.9M [00:00<?, ?B/s]"
      ]
     },
     "metadata": {},
     "output_type": "display_data"
    },
    {
     "data": {
      "application/vnd.jupyter.widget-view+json": {
       "model_id": "f40bb60bebee4d5fb9d5ff7e14997151",
       "version_major": 2,
       "version_minor": 0
      },
      "text/plain": [
       "pd12m.026.parquet:   0%|          | 0.00/18.9M [00:00<?, ?B/s]"
      ]
     },
     "metadata": {},
     "output_type": "display_data"
    },
    {
     "data": {
      "application/vnd.jupyter.widget-view+json": {
       "model_id": "a4d3086aa78642a6b4205a55cd5e9656",
       "version_major": 2,
       "version_minor": 0
      },
      "text/plain": [
       "pd12m.027.parquet:   0%|          | 0.00/18.9M [00:00<?, ?B/s]"
      ]
     },
     "metadata": {},
     "output_type": "display_data"
    },
    {
     "data": {
      "application/vnd.jupyter.widget-view+json": {
       "model_id": "536cc9b4bd9d41df9fcef1d3fd27037c",
       "version_major": 2,
       "version_minor": 0
      },
      "text/plain": [
       "pd12m.028.parquet:   0%|          | 0.00/18.9M [00:00<?, ?B/s]"
      ]
     },
     "metadata": {},
     "output_type": "display_data"
    },
    {
     "data": {
      "application/vnd.jupyter.widget-view+json": {
       "model_id": "33e436d08cab4d02818512871080c19a",
       "version_major": 2,
       "version_minor": 0
      },
      "text/plain": [
       "pd12m.029.parquet:   0%|          | 0.00/18.9M [00:00<?, ?B/s]"
      ]
     },
     "metadata": {},
     "output_type": "display_data"
    },
    {
     "data": {
      "application/vnd.jupyter.widget-view+json": {
       "model_id": "cac8931d02f9498cb0d8649009748920",
       "version_major": 2,
       "version_minor": 0
      },
      "text/plain": [
       "pd12m.030.parquet:   0%|          | 0.00/18.9M [00:00<?, ?B/s]"
      ]
     },
     "metadata": {},
     "output_type": "display_data"
    },
    {
     "data": {
      "application/vnd.jupyter.widget-view+json": {
       "model_id": "1740bf952ef6431e9023049f6b9f15d0",
       "version_major": 2,
       "version_minor": 0
      },
      "text/plain": [
       "pd12m.031.parquet:   0%|          | 0.00/18.9M [00:00<?, ?B/s]"
      ]
     },
     "metadata": {},
     "output_type": "display_data"
    },
    {
     "data": {
      "application/vnd.jupyter.widget-view+json": {
       "model_id": "076de64917324aa7a0ac6e66a7f47037",
       "version_major": 2,
       "version_minor": 0
      },
      "text/plain": [
       "pd12m.032.parquet:   0%|          | 0.00/18.9M [00:00<?, ?B/s]"
      ]
     },
     "metadata": {},
     "output_type": "display_data"
    },
    {
     "name": "stderr",
     "output_type": "stream",
     "text": [
      "Error while downloading from https://cdn-lfs-us-1.hf.co/repos/bb/d1/bbd10a40cbf91b41e63bac21b8ca45db58c9dc8029fa3012009760dc9472b148/0cccae3d3864b3f81d4abb5d0bd1712447454db9129b7daba7f9e4be23c8f257?response-content-disposition=inline%3B+filename*%3DUTF-8%27%27pd12m.032.parquet%3B+filename%3D%22pd12m.032.parquet%22%3B&Expires=1738039830&Policy=eyJTdGF0ZW1lbnQiOlt7IkNvbmRpdGlvbiI6eyJEYXRlTGVzc1RoYW4iOnsiQVdTOkVwb2NoVGltZSI6MTczODAzOTgzMH19LCJSZXNvdXJjZSI6Imh0dHBzOi8vY2RuLWxmcy11cy0xLmhmLmNvL3JlcG9zL2JiL2QxL2JiZDEwYTQwY2JmOTFiNDFlNjNiYWMyMWI4Y2E0NWRiNThjOWRjODAyOWZhMzAxMjAwOTc2MGRjOTQ3MmIxNDgvMGNjY2FlM2QzODY0YjNmODFkNGFiYjVkMGJkMTcxMjQ0NzQ1NGRiOTEyOWI3ZGFiYTdmOWU0YmUyM2M4ZjI1Nz9yZXNwb25zZS1jb250ZW50LWRpc3Bvc2l0aW9uPSoifV19&Signature=j3TsVPtrwn6z1SqfhtV9Evb046027mgD6TugtxOviKUSbCAkhV4G6vR7ThVeo1yHuHSaIpCQ6tD8xA%7EpHv9dOL2vJX5zqSBcBtXADCmkMneXw4wacaGpjkX%7Eabrq5Yboc8zKf6CBqmVgWfpd6Ufp6A1XWs1zUgKrAV7KvY75GAxBzIwybruYY2-FcFI9mhHrEZmi0c-tzJAhWXMiS%7EI9jmtl8rQpp9BQXgdO5qrl-AHE0kRM4i6LDOoZZUzuzDxkVIYrZHJiz-RboH8NqPQ7namoWvZmXo2jru6fPgh78bTE0M2M3-oNQSZGB3PmxuAsMPlomef-McEiO8OFQ72CRQ__&Key-Pair-Id=K24J24Z295AEI9: HTTPSConnectionPool(host='cdn-lfs-us-1.hf.co', port=443): Read timed out.\n",
      "Trying to resume download...\n",
      "Error while downloading from https://cdn-lfs-us-1.hf.co/repos/bb/d1/bbd10a40cbf91b41e63bac21b8ca45db58c9dc8029fa3012009760dc9472b148/17fa7033b2baf67b1db7d2f756b0b81889afd52aef000fcb9fe4bbdecb50f1c8?response-content-disposition=inline%3B+filename*%3DUTF-8%27%27pd12m.027.parquet%3B+filename%3D%22pd12m.027.parquet%22%3B&Expires=1738039755&Policy=eyJTdGF0ZW1lbnQiOlt7IkNvbmRpdGlvbiI6eyJEYXRlTGVzc1RoYW4iOnsiQVdTOkVwb2NoVGltZSI6MTczODAzOTc1NX19LCJSZXNvdXJjZSI6Imh0dHBzOi8vY2RuLWxmcy11cy0xLmhmLmNvL3JlcG9zL2JiL2QxL2JiZDEwYTQwY2JmOTFiNDFlNjNiYWMyMWI4Y2E0NWRiNThjOWRjODAyOWZhMzAxMjAwOTc2MGRjOTQ3MmIxNDgvMTdmYTcwMzNiMmJhZjY3YjFkYjdkMmY3NTZiMGI4MTg4OWFmZDUyYWVmMDAwZmNiOWZlNGJiZGVjYjUwZjFjOD9yZXNwb25zZS1jb250ZW50LWRpc3Bvc2l0aW9uPSoifV19&Signature=q6-785GPw%7ENcH6Ns9R2kVDoZOdHoQ4KQXytibgxEnCgzYjVeb2BDx782cOe23jW%7EuF87Fe62jG1o9ajzCcxcsd6SW2Wwa7wQtsrn0L1kZFajk22kSteeSCaCoOZEpDuJNHEKERVqUPCDqWxXV9v-UFrDsUQA7SGDx7jUlZwH2yCEmJk47o4Ax9QQox1s%7EvzuOBYY53h-NrMMxdcknoLQEmfwwXQ2hp3hAxWfbkGOybfyklF26F23C4VizqYLdVxn%7Eg4w1exo9sirfg-dEdyMDB4Ue4Ntyokt8KKNjuEw7NTEAswiL1o2CMEezuJwgwxfQn1hGQxZ5U-XGcIzCBlG2w__&Key-Pair-Id=K24J24Z295AEI9: HTTPSConnectionPool(host='cdn-lfs-us-1.hf.co', port=443): Read timed out.\n",
      "Trying to resume download...\n",
      "Error while downloading from https://cdn-lfs-us-1.hf.co/repos/bb/d1/bbd10a40cbf91b41e63bac21b8ca45db58c9dc8029fa3012009760dc9472b148/a361d3ba6f19c657a16285c1e45d297da759c8d2a2ee098d60f8eb4eb7469d3e?response-content-disposition=inline%3B+filename*%3DUTF-8%27%27pd12m.018.parquet%3B+filename%3D%22pd12m.018.parquet%22%3B&Expires=1738039733&Policy=eyJTdGF0ZW1lbnQiOlt7IkNvbmRpdGlvbiI6eyJEYXRlTGVzc1RoYW4iOnsiQVdTOkVwb2NoVGltZSI6MTczODAzOTczM319LCJSZXNvdXJjZSI6Imh0dHBzOi8vY2RuLWxmcy11cy0xLmhmLmNvL3JlcG9zL2JiL2QxL2JiZDEwYTQwY2JmOTFiNDFlNjNiYWMyMWI4Y2E0NWRiNThjOWRjODAyOWZhMzAxMjAwOTc2MGRjOTQ3MmIxNDgvYTM2MWQzYmE2ZjE5YzY1N2ExNjI4NWMxZTQ1ZDI5N2RhNzU5YzhkMmEyZWUwOThkNjBmOGViNGViNzQ2OWQzZT9yZXNwb25zZS1jb250ZW50LWRpc3Bvc2l0aW9uPSoifV19&Signature=TvyZchbQNzmm4oKnXc-VjKcR%7EU0tg00QcM5Tr8LOcDTEMxRgSowc2RIoaBtgLTC0l1pVsfR1E3acxLWJdne-uO0awHvf7vVWB9Ri5nuABA5VDv5jKrGkNECrNtQ4UWEt2dVkjkUC3p3l3imdoaZ6%7E4qR1xc2j7lqaCTaMzi7tz6E6OdqDvzC4XDah-8SzRAQ7t1q2%7EIM8H39d00lOi8%7ERywNTE-nCT-Cz2KRXB8f-B1qtrMYq7WVUt%7EsN16ugwEVkxK545ABP6ff0WleeSQ7zg21AkMCtmdDwQhc1paRRrsHiYKmqTbBV6N4XyTuqmpHZxTwWJorrBeu4pWjImdlQQ__&Key-Pair-Id=K24J24Z295AEI9: HTTPSConnectionPool(host='cdn-lfs-us-1.hf.co', port=443): Read timed out.\n",
      "Trying to resume download...\n",
      "Error while downloading from https://cdn-lfs-us-1.hf.co/repos/bb/d1/bbd10a40cbf91b41e63bac21b8ca45db58c9dc8029fa3012009760dc9472b148/f0a128b1e9880e8b5dcc2a4060bcb61b2c65ce97bea3fde67d598d87699a6777?response-content-disposition=inline%3B+filename*%3DUTF-8%27%27pd12m.023.parquet%3B+filename%3D%22pd12m.023.parquet%22%3B&Expires=1738039741&Policy=eyJTdGF0ZW1lbnQiOlt7IkNvbmRpdGlvbiI6eyJEYXRlTGVzc1RoYW4iOnsiQVdTOkVwb2NoVGltZSI6MTczODAzOTc0MX19LCJSZXNvdXJjZSI6Imh0dHBzOi8vY2RuLWxmcy11cy0xLmhmLmNvL3JlcG9zL2JiL2QxL2JiZDEwYTQwY2JmOTFiNDFlNjNiYWMyMWI4Y2E0NWRiNThjOWRjODAyOWZhMzAxMjAwOTc2MGRjOTQ3MmIxNDgvZjBhMTI4YjFlOTg4MGU4YjVkY2MyYTQwNjBiY2I2MWIyYzY1Y2U5N2JlYTNmZGU2N2Q1OThkODc2OTlhNjc3Nz9yZXNwb25zZS1jb250ZW50LWRpc3Bvc2l0aW9uPSoifV19&Signature=lefmuKcc2-dzCB8aGcb2gl6uG%7ENe2e6rj49NpRnx6fJfDSK8FDWarC8fhVxKUp5qq5z6SufgL7Zm5jeVzx343DndPngeWwe1BamhHVuhaz%7Erx24%7Ed2WetXHcZKa78dfu1TLJ9fp63RKWrsvB2NiBfytz2tyJrTGnh9eLcx6f7aIooYmu3SqdY-S%7EYk%7EUA54AyVzPWq4pYeYR8vIREgWTzXRq8qsyV8MjR2Pn4QH71BNLQ%7EtIrLrl9ydoUIgmaOsbjZGAnjbiaiY0E3MWlNEYLzU8gtiK1ZpfYaBmxhQOh-mhC6zxGlUWQ0Fwf01q0ZEQlWrX38h5gIq926QfdHklHA__&Key-Pair-Id=K24J24Z295AEI9: HTTPSConnectionPool(host='cdn-lfs-us-1.hf.co', port=443): Read timed out.\n",
      "Trying to resume download...\n",
      "Error while downloading from https://cdn-lfs-us-1.hf.co/repos/bb/d1/bbd10a40cbf91b41e63bac21b8ca45db58c9dc8029fa3012009760dc9472b148/f13e03e37ee5ab3ff24f9bf9553b974f6ef342ed3638077d45d786a44cb55148?response-content-disposition=inline%3B+filename*%3DUTF-8%27%27pd12m.025.parquet%3B+filename%3D%22pd12m.025.parquet%22%3B&Expires=1738039745&Policy=eyJTdGF0ZW1lbnQiOlt7IkNvbmRpdGlvbiI6eyJEYXRlTGVzc1RoYW4iOnsiQVdTOkVwb2NoVGltZSI6MTczODAzOTc0NX19LCJSZXNvdXJjZSI6Imh0dHBzOi8vY2RuLWxmcy11cy0xLmhmLmNvL3JlcG9zL2JiL2QxL2JiZDEwYTQwY2JmOTFiNDFlNjNiYWMyMWI4Y2E0NWRiNThjOWRjODAyOWZhMzAxMjAwOTc2MGRjOTQ3MmIxNDgvZjEzZTAzZTM3ZWU1YWIzZmYyNGY5YmY5NTUzYjk3NGY2ZWYzNDJlZDM2MzgwNzdkNDVkNzg2YTQ0Y2I1NTE0OD9yZXNwb25zZS1jb250ZW50LWRpc3Bvc2l0aW9uPSoifV19&Signature=gpGhVorCQ0m-5x0RooBcNapuCJ20MUCHjPIrTxKAya5kElM2fcDutAXhjOms60EUczwLeB%7E3AtmwWimBCVG9dMrrobL9DP2ArzWAhYUaHEIs357LxmOG40epHvGkMuL%7Eb8hIrbt-1SVDcCGBv9TswBoNp8Vp-hOk76gWNcx-sRru0jAzCgEe8QPdZ5IAvlsg93%7E5JOmy3xL1lML4qPPIVchXhPYa3SBpsGyJ8IMQ-0fr%7EFmdz2G3tQeSS5gFHTvbEnUXj3NBNjX9iTLHXell4apTTU4ORx2CnMAZhkjcAa4vniIepAyasQou5Gj4xY%7E0-laaDKM6eaYIyNseS37cnQ__&Key-Pair-Id=K24J24Z295AEI9: HTTPSConnectionPool(host='cdn-lfs-us-1.hf.co', port=443): Read timed out.\n",
      "Trying to resume download...\n",
      "Error while downloading from https://cdn-lfs-us-1.hf.co/repos/bb/d1/bbd10a40cbf91b41e63bac21b8ca45db58c9dc8029fa3012009760dc9472b148/f73ecec628c26af28c53f250f02232fdcfa318dce60b39e644fc175e5dd04a21?response-content-disposition=inline%3B+filename*%3DUTF-8%27%27pd12m.031.parquet%3B+filename%3D%22pd12m.031.parquet%22%3B&Expires=1738039780&Policy=eyJTdGF0ZW1lbnQiOlt7IkNvbmRpdGlvbiI6eyJEYXRlTGVzc1RoYW4iOnsiQVdTOkVwb2NoVGltZSI6MTczODAzOTc4MH19LCJSZXNvdXJjZSI6Imh0dHBzOi8vY2RuLWxmcy11cy0xLmhmLmNvL3JlcG9zL2JiL2QxL2JiZDEwYTQwY2JmOTFiNDFlNjNiYWMyMWI4Y2E0NWRiNThjOWRjODAyOWZhMzAxMjAwOTc2MGRjOTQ3MmIxNDgvZjczZWNlYzYyOGMyNmFmMjhjNTNmMjUwZjAyMjMyZmRjZmEzMThkY2U2MGIzOWU2NDRmYzE3NWU1ZGQwNGEyMT9yZXNwb25zZS1jb250ZW50LWRpc3Bvc2l0aW9uPSoifV19&Signature=mKLqsHXbAjUlYNshjN0U0YIWv2WbLl3EwlHtOWPoNRl0zQn9JI4KfZsXB%7EFUBK2J2MYZgAV3tNFHvPpZPH0JzoocHIrR5U36jBBex86s4LZtWVWeShKA7aaM%7EHzqql%7EZIk9JnqmU3e%7EwcZ9VgMpAgYMTojJrudlGSQXWqnnV6uNsg0f1cUnQCTGO4NlQdyCULtmHit1x3GKbRqqRQ7g3%7ECiATKosh1IZPN6FeRZphCtC67wb3QavOdKFQQNTYmT6qWENcI1S0V%7ExXEt0zWdAHZEOD0XQcmxDaGhq8qMl8dYMT8MhW3C0dXY2bDC1F5HauFnTr9gdNuo2keHm7nUdig__&Key-Pair-Id=K24J24Z295AEI9: HTTPSConnectionPool(host='cdn-lfs-us-1.hf.co', port=443): Read timed out.\n",
      "Trying to resume download...\n",
      "Error while downloading from https://cdn-lfs-us-1.hf.co/repos/bb/d1/bbd10a40cbf91b41e63bac21b8ca45db58c9dc8029fa3012009760dc9472b148/abf4b38cc9ae62adc207a5f1e6fcd6ee6999bfef60aa654c92c8638b796e5a0b?response-content-disposition=inline%3B+filename*%3DUTF-8%27%27pd12m.016.parquet%3B+filename%3D%22pd12m.016.parquet%22%3B&Expires=1738039708&Policy=eyJTdGF0ZW1lbnQiOlt7IkNvbmRpdGlvbiI6eyJEYXRlTGVzc1RoYW4iOnsiQVdTOkVwb2NoVGltZSI6MTczODAzOTcwOH19LCJSZXNvdXJjZSI6Imh0dHBzOi8vY2RuLWxmcy11cy0xLmhmLmNvL3JlcG9zL2JiL2QxL2JiZDEwYTQwY2JmOTFiNDFlNjNiYWMyMWI4Y2E0NWRiNThjOWRjODAyOWZhMzAxMjAwOTc2MGRjOTQ3MmIxNDgvYWJmNGIzOGNjOWFlNjJhZGMyMDdhNWYxZTZmY2Q2ZWU2OTk5YmZlZjYwYWE2NTRjOTJjODYzOGI3OTZlNWEwYj9yZXNwb25zZS1jb250ZW50LWRpc3Bvc2l0aW9uPSoifV19&Signature=QO9Bc0kX9jvbYtVSDYU9E4x98BI3UK7adr-S3-reCFR0ucreKAcaAc2yC-fB%7ELrbkQ%7EogHirvqapPT2%7EfRJdZAZxDJje6B0r-BbV5Nd6d90sX-tDLp78N34nqUUGdskx1h85MY8AYwriGxbB6RkZBIieRMeVlmp068bW0Np-bkWk822HnYU3Cfqg4TTU0vJsoXDC3Yq2b2m-nnWKkZb3qHbmFLANBuwfczA0CB9qnEysHzF72t33rJ0Y2m6U%7E8tPlurmFquVXnUwLqRnef81GGJ3bT0rFpnuwj5JlNBdUYlhYVyvV2uuBIg7sppbBXtKQ5hyRA9txye9mk5%7EQrf9yA__&Key-Pair-Id=K24J24Z295AEI9: HTTPSConnectionPool(host='cdn-lfs-us-1.hf.co', port=443): Read timed out.\n",
      "Trying to resume download...\n",
      "Error while downloading from https://cdn-lfs-us-1.hf.co/repos/bb/d1/bbd10a40cbf91b41e63bac21b8ca45db58c9dc8029fa3012009760dc9472b148/9c36cf449c57ed37df8eb079e826b6497278bd32620f2e92e08b6e4a3d748e26?response-content-disposition=inline%3B+filename*%3DUTF-8%27%27pd12m.019.parquet%3B+filename%3D%22pd12m.019.parquet%22%3B&Expires=1738039733&Policy=eyJTdGF0ZW1lbnQiOlt7IkNvbmRpdGlvbiI6eyJEYXRlTGVzc1RoYW4iOnsiQVdTOkVwb2NoVGltZSI6MTczODAzOTczM319LCJSZXNvdXJjZSI6Imh0dHBzOi8vY2RuLWxmcy11cy0xLmhmLmNvL3JlcG9zL2JiL2QxL2JiZDEwYTQwY2JmOTFiNDFlNjNiYWMyMWI4Y2E0NWRiNThjOWRjODAyOWZhMzAxMjAwOTc2MGRjOTQ3MmIxNDgvOWMzNmNmNDQ5YzU3ZWQzN2RmOGViMDc5ZTgyNmI2NDk3Mjc4YmQzMjYyMGYyZTkyZTA4YjZlNGEzZDc0OGUyNj9yZXNwb25zZS1jb250ZW50LWRpc3Bvc2l0aW9uPSoifV19&Signature=C19df8y9SoOnZg1LB67BIfq%7E8mO24ouQCj1KA3HoWylXDWmSB4wJo5dlqQzA4%7EsdHcfscvnmLgesvZtcKnWojgnKU14a3KsY-aAwiVwzS3pShUqTOWkKTdV5EL1847ITdC%7E1kxwOdpOZ13GjNysY6rpIf6ARdAl8NBHOwN32qknTEoNalVNQ-1U0Dw%7E1erOg0-6Ny0ra6GMCSxCJs0aI4CIyeW1dsiCB3AdM6-dtbwbXYdhQgT415Zef5F8HoTQSujABbQ5SVtnc7N3do-qumC2jRdvAXs-3%7EJGZwwV4ombvjx5fOpadCKj5PLo%7ECcEF3pKOcRbGXJC3D3Z3PTw7tQ__&Key-Pair-Id=K24J24Z295AEI9: HTTPSConnectionPool(host='cdn-lfs-us-1.hf.co', port=443): Read timed out.\n",
      "Trying to resume download...\n",
      "Error while downloading from https://cdn-lfs-us-1.hf.co/repos/bb/d1/bbd10a40cbf91b41e63bac21b8ca45db58c9dc8029fa3012009760dc9472b148/8551a3877cfbd01904cc1a37a5271899642a75e85d997199d66a9bf42c400192?response-content-disposition=inline%3B+filename*%3DUTF-8%27%27pd12m.028.parquet%3B+filename%3D%22pd12m.028.parquet%22%3B&Expires=1738039762&Policy=eyJTdGF0ZW1lbnQiOlt7IkNvbmRpdGlvbiI6eyJEYXRlTGVzc1RoYW4iOnsiQVdTOkVwb2NoVGltZSI6MTczODAzOTc2Mn19LCJSZXNvdXJjZSI6Imh0dHBzOi8vY2RuLWxmcy11cy0xLmhmLmNvL3JlcG9zL2JiL2QxL2JiZDEwYTQwY2JmOTFiNDFlNjNiYWMyMWI4Y2E0NWRiNThjOWRjODAyOWZhMzAxMjAwOTc2MGRjOTQ3MmIxNDgvODU1MWEzODc3Y2ZiZDAxOTA0Y2MxYTM3YTUyNzE4OTk2NDJhNzVlODVkOTk3MTk5ZDY2YTliZjQyYzQwMDE5Mj9yZXNwb25zZS1jb250ZW50LWRpc3Bvc2l0aW9uPSoifV19&Signature=uo3bnlNybcic-pTv3J%7E0TZCHQOGUGEw%7E6fydKAEtHL05rrB0c%7En4hYCdiDRuu9HRfZWkbvHScqTLCr4saIwilmlNJ5zncKWXYtnkhCP70YSzXIcc9noz%7EpXFH0tyKg3rkrg03kz%7ElS7ze19RR7QswpAORMpzDz1nQSTXt43LXQ5yj7C74RJTj5ShLZCzSfzZ2a1x7ZBPTwKWuzbkW6EnbaQWN2ZnvZG%7EaB1sczZ%7E0LZIRubpjZc8Xt77iwUeXD8k2eghnGVJ72UnHjwwsDa6PFXwjERLP8DVRYWGquIJNY4mg6elPMLISdB5Ic-hLWlkr9P1hHclKI%7E82LBOS%7EYoeQ__&Key-Pair-Id=K24J24Z295AEI9: HTTPSConnectionPool(host='cdn-lfs-us-1.hf.co', port=443): Read timed out.\n",
      "Trying to resume download...\n"
     ]
    },
    {
     "data": {
      "application/vnd.jupyter.widget-view+json": {
       "model_id": "bfa9d2afd10d4148bd7d912b01d78f4b",
       "version_major": 2,
       "version_minor": 0
      },
      "text/plain": [
       "pd12m.028.parquet:   0%|          | 0.00/18.9M [00:00<?, ?B/s]"
      ]
     },
     "metadata": {},
     "output_type": "display_data"
    },
    {
     "data": {
      "application/vnd.jupyter.widget-view+json": {
       "model_id": "f9be9f35a15c401cbfb4f770d8c04632",
       "version_major": 2,
       "version_minor": 0
      },
      "text/plain": [
       "pd12m.027.parquet:  56%|#####5    | 10.5M/18.9M [00:00<?, ?B/s]"
      ]
     },
     "metadata": {},
     "output_type": "display_data"
    },
    {
     "data": {
      "application/vnd.jupyter.widget-view+json": {
       "model_id": "c78ba7bcfa4845f3b95b462f91085052",
       "version_major": 2,
       "version_minor": 0
      },
      "text/plain": [
       "pd12m.032.parquet:   0%|          | 0.00/18.9M [00:00<?, ?B/s]"
      ]
     },
     "metadata": {},
     "output_type": "display_data"
    },
    {
     "data": {
      "application/vnd.jupyter.widget-view+json": {
       "model_id": "9f9d40e7f6f54866b2a4949474c74854",
       "version_major": 2,
       "version_minor": 0
      },
      "text/plain": [
       "pd12m.031.parquet:   0%|          | 0.00/18.9M [00:00<?, ?B/s]"
      ]
     },
     "metadata": {},
     "output_type": "display_data"
    },
    {
     "data": {
      "application/vnd.jupyter.widget-view+json": {
       "model_id": "2aaef121642e418484b0e1cf96a92d7f",
       "version_major": 2,
       "version_minor": 0
      },
      "text/plain": [
       "pd12m.018.parquet:  56%|#####5    | 10.5M/18.9M [00:00<?, ?B/s]"
      ]
     },
     "metadata": {},
     "output_type": "display_data"
    },
    {
     "data": {
      "application/vnd.jupyter.widget-view+json": {
       "model_id": "523bd1a93bfc4e21969b9fa811a23b68",
       "version_major": 2,
       "version_minor": 0
      },
      "text/plain": [
       "pd12m.025.parquet:  56%|#####5    | 10.5M/18.9M [00:00<?, ?B/s]"
      ]
     },
     "metadata": {},
     "output_type": "display_data"
    },
    {
     "data": {
      "application/vnd.jupyter.widget-view+json": {
       "model_id": "cf3c07c6261b4164882926904fc7c934",
       "version_major": 2,
       "version_minor": 0
      },
      "text/plain": [
       "pd12m.016.parquet:  56%|#####5    | 10.5M/18.9M [00:00<?, ?B/s]"
      ]
     },
     "metadata": {},
     "output_type": "display_data"
    },
    {
     "data": {
      "application/vnd.jupyter.widget-view+json": {
       "model_id": "9af21c8857e84ada9376bfa51a37757a",
       "version_major": 2,
       "version_minor": 0
      },
      "text/plain": [
       "pd12m.023.parquet:  56%|#####5    | 10.5M/18.9M [00:00<?, ?B/s]"
      ]
     },
     "metadata": {},
     "output_type": "display_data"
    },
    {
     "data": {
      "application/vnd.jupyter.widget-view+json": {
       "model_id": "94e909e3c7af4131ba8889464725da5f",
       "version_major": 2,
       "version_minor": 0
      },
      "text/plain": [
       "pd12m.019.parquet:   0%|          | 0.00/18.9M [00:00<?, ?B/s]"
      ]
     },
     "metadata": {},
     "output_type": "display_data"
    },
    {
     "name": "stderr",
     "output_type": "stream",
     "text": [
      "Error while downloading from https://cdn-lfs-us-1.hf.co/repos/bb/d1/bbd10a40cbf91b41e63bac21b8ca45db58c9dc8029fa3012009760dc9472b148/f73ecec628c26af28c53f250f02232fdcfa318dce60b39e644fc175e5dd04a21?response-content-disposition=inline%3B+filename*%3DUTF-8%27%27pd12m.031.parquet%3B+filename%3D%22pd12m.031.parquet%22%3B&Expires=1738039780&Policy=eyJTdGF0ZW1lbnQiOlt7IkNvbmRpdGlvbiI6eyJEYXRlTGVzc1RoYW4iOnsiQVdTOkVwb2NoVGltZSI6MTczODAzOTc4MH19LCJSZXNvdXJjZSI6Imh0dHBzOi8vY2RuLWxmcy11cy0xLmhmLmNvL3JlcG9zL2JiL2QxL2JiZDEwYTQwY2JmOTFiNDFlNjNiYWMyMWI4Y2E0NWRiNThjOWRjODAyOWZhMzAxMjAwOTc2MGRjOTQ3MmIxNDgvZjczZWNlYzYyOGMyNmFmMjhjNTNmMjUwZjAyMjMyZmRjZmEzMThkY2U2MGIzOWU2NDRmYzE3NWU1ZGQwNGEyMT9yZXNwb25zZS1jb250ZW50LWRpc3Bvc2l0aW9uPSoifV19&Signature=mKLqsHXbAjUlYNshjN0U0YIWv2WbLl3EwlHtOWPoNRl0zQn9JI4KfZsXB%7EFUBK2J2MYZgAV3tNFHvPpZPH0JzoocHIrR5U36jBBex86s4LZtWVWeShKA7aaM%7EHzqql%7EZIk9JnqmU3e%7EwcZ9VgMpAgYMTojJrudlGSQXWqnnV6uNsg0f1cUnQCTGO4NlQdyCULtmHit1x3GKbRqqRQ7g3%7ECiATKosh1IZPN6FeRZphCtC67wb3QavOdKFQQNTYmT6qWENcI1S0V%7ExXEt0zWdAHZEOD0XQcmxDaGhq8qMl8dYMT8MhW3C0dXY2bDC1F5HauFnTr9gdNuo2keHm7nUdig__&Key-Pair-Id=K24J24Z295AEI9: HTTPSConnectionPool(host='cdn-lfs-us-1.hf.co', port=443): Read timed out.\n",
      "Trying to resume download...\n",
      "Error while downloading from https://cdn-lfs-us-1.hf.co/repos/bb/d1/bbd10a40cbf91b41e63bac21b8ca45db58c9dc8029fa3012009760dc9472b148/79c1e4d584c2305f131954bf5083215f155ac4bf7924573fd7dbe1ef4267c9c8?response-content-disposition=inline%3B+filename*%3DUTF-8%27%27pd12m.030.parquet%3B+filename%3D%22pd12m.030.parquet%22%3B&Expires=1738039774&Policy=eyJTdGF0ZW1lbnQiOlt7IkNvbmRpdGlvbiI6eyJEYXRlTGVzc1RoYW4iOnsiQVdTOkVwb2NoVGltZSI6MTczODAzOTc3NH19LCJSZXNvdXJjZSI6Imh0dHBzOi8vY2RuLWxmcy11cy0xLmhmLmNvL3JlcG9zL2JiL2QxL2JiZDEwYTQwY2JmOTFiNDFlNjNiYWMyMWI4Y2E0NWRiNThjOWRjODAyOWZhMzAxMjAwOTc2MGRjOTQ3MmIxNDgvNzljMWU0ZDU4NGMyMzA1ZjEzMTk1NGJmNTA4MzIxNWYxNTVhYzRiZjc5MjQ1NzNmZDdkYmUxZWY0MjY3YzljOD9yZXNwb25zZS1jb250ZW50LWRpc3Bvc2l0aW9uPSoifV19&Signature=oJzlCdyQF-c%7EGtZ%7ETti0M5B3nEGUAPu9qj4tjZorjlET6Xvx4qzxxJ-dzWqKIl7geLSZSp7ecy2sJJiyu6YM%7Ei9Gk67m6cgyW7LSG26gjzlbSx5QIAI1cAQ4iuYG2VgGRDMZQNLbffMXv-iOZsff%7EO%7EsDMR6mxJPFHqBHG1o5Gukf-8P3XLHUXIR4O7Voz73QJadSLLdp4a7d-9tEott5BJ%7EVKO6nEP-rE9m%7E07zai89i8pX%7EEJ8Ba5PsfbUIZRS9yhwT3LFHKgy0GbjxzcfwRPtyDH6X7sG9cFy4zxQF4td6pRwLFjTFCB%7EQV1KOPBb7fn8Ie2vweGQqLbVGUKIVw__&Key-Pair-Id=K24J24Z295AEI9: HTTPSConnectionPool(host='cdn-lfs-us-1.hf.co', port=443): Read timed out.\n",
      "Trying to resume download...\n",
      "Error while downloading from https://cdn-lfs-us-1.hf.co/repos/bb/d1/bbd10a40cbf91b41e63bac21b8ca45db58c9dc8029fa3012009760dc9472b148/81c910fbb5e003978b43c3b264f76496603af8f819740bf1fa9283bb436360b7?response-content-disposition=inline%3B+filename*%3DUTF-8%27%27pd12m.024.parquet%3B+filename%3D%22pd12m.024.parquet%22%3B&Expires=1738039745&Policy=eyJTdGF0ZW1lbnQiOlt7IkNvbmRpdGlvbiI6eyJEYXRlTGVzc1RoYW4iOnsiQVdTOkVwb2NoVGltZSI6MTczODAzOTc0NX19LCJSZXNvdXJjZSI6Imh0dHBzOi8vY2RuLWxmcy11cy0xLmhmLmNvL3JlcG9zL2JiL2QxL2JiZDEwYTQwY2JmOTFiNDFlNjNiYWMyMWI4Y2E0NWRiNThjOWRjODAyOWZhMzAxMjAwOTc2MGRjOTQ3MmIxNDgvODFjOTEwZmJiNWUwMDM5NzhiNDNjM2IyNjRmNzY0OTY2MDNhZjhmODE5NzQwYmYxZmE5MjgzYmI0MzYzNjBiNz9yZXNwb25zZS1jb250ZW50LWRpc3Bvc2l0aW9uPSoifV19&Signature=bLaCtSdVRg%7EUF7JeI8YUyBwwkGYW7LcUUCoGoqEPqv9D5y3PBt1Jh0tQ%7EDJatglzyuvS7A7j7LsH3mRPBLR3raDDOZke3baNpIsizno56wd7aXPC7szVqUN7Ke3KY9Wdc9laPUGj8xTKkP8-zQ-0owyu%7Eo74HEixvslAg%7EEzg%7E6SYxUHqHqhmW0NM5C6iowg5Dy4aEsWQMxwC59XJAxbSB2ohbzqft7ay705j5xB0HkTPCwuIo53KGrm8TqIGJ7xy51kP-e7FfjcqSPeEAes0LcsPt1g00qKwnHy4P4oAQ08LxdzVXOGpaMG2z8Ubff9zw9J0ZjMP0ZOD3KI9VNmxQ__&Key-Pair-Id=K24J24Z295AEI9: HTTPSConnectionPool(host='cdn-lfs-us-1.hf.co', port=443): Read timed out.\n",
      "Trying to resume download...\n",
      "Error while downloading from https://cdn-lfs-us-1.hf.co/repos/bb/d1/bbd10a40cbf91b41e63bac21b8ca45db58c9dc8029fa3012009760dc9472b148/0d61bbb2e648be913b261dbc145394a7e9e30cdcb7f6feef9e9dc9596a1ec262?response-content-disposition=inline%3B+filename*%3DUTF-8%27%27pd12m.022.parquet%3B+filename%3D%22pd12m.022.parquet%22%3B&Expires=1738039741&Policy=eyJTdGF0ZW1lbnQiOlt7IkNvbmRpdGlvbiI6eyJEYXRlTGVzc1RoYW4iOnsiQVdTOkVwb2NoVGltZSI6MTczODAzOTc0MX19LCJSZXNvdXJjZSI6Imh0dHBzOi8vY2RuLWxmcy11cy0xLmhmLmNvL3JlcG9zL2JiL2QxL2JiZDEwYTQwY2JmOTFiNDFlNjNiYWMyMWI4Y2E0NWRiNThjOWRjODAyOWZhMzAxMjAwOTc2MGRjOTQ3MmIxNDgvMGQ2MWJiYjJlNjQ4YmU5MTNiMjYxZGJjMTQ1Mzk0YTdlOWUzMGNkY2I3ZjZmZWVmOWU5ZGM5NTk2YTFlYzI2Mj9yZXNwb25zZS1jb250ZW50LWRpc3Bvc2l0aW9uPSoifV19&Signature=M4Volul0QRAOTqRqMOIUq4OZ5b5y-%7E9tDT1vh89VavapffPfkbuuPb0XyjySbSqr-IQVIMdXDtLRV3C0TKpD2iqsE5IfuJNTmDTUl6hs1n59XSTb4Wottw7Env1V3cId-e8f%7E7XTw%7EmFjKSadFSV9gqrB3fs3IHP1YjvmZ4tQk0pLUVhHvYO42InjYRmVOyieoKuMAtdS2BMdblXX9A5DmoOUKl1eK%7EGpJU%7EOqI-rRjUEqdF9O1KBOtyXKuqLpfivweIxc1gm06lH9AAdNJ%7EK-Vn7XjN1I6yW4rJnP64drfgYIHne%7EcOIjnJ7CkA6lbpe43S-C9bGTX1MyitymHDcg__&Key-Pair-Id=K24J24Z295AEI9: HTTPSConnectionPool(host='cdn-lfs-us-1.hf.co', port=443): Read timed out.\n",
      "Trying to resume download...\n",
      "Error while downloading from https://cdn-lfs-us-1.hf.co/repos/bb/d1/bbd10a40cbf91b41e63bac21b8ca45db58c9dc8029fa3012009760dc9472b148/2b3e2a4dfa9ab5971951337af2384fd5c693c4420f355f245e18e47203be62c9?response-content-disposition=inline%3B+filename*%3DUTF-8%27%27pd12m.021.parquet%3B+filename%3D%22pd12m.021.parquet%22%3B&Expires=1738039733&Policy=eyJTdGF0ZW1lbnQiOlt7IkNvbmRpdGlvbiI6eyJEYXRlTGVzc1RoYW4iOnsiQVdTOkVwb2NoVGltZSI6MTczODAzOTczM319LCJSZXNvdXJjZSI6Imh0dHBzOi8vY2RuLWxmcy11cy0xLmhmLmNvL3JlcG9zL2JiL2QxL2JiZDEwYTQwY2JmOTFiNDFlNjNiYWMyMWI4Y2E0NWRiNThjOWRjODAyOWZhMzAxMjAwOTc2MGRjOTQ3MmIxNDgvMmIzZTJhNGRmYTlhYjU5NzE5NTEzMzdhZjIzODRmZDVjNjkzYzQ0MjBmMzU1ZjI0NWUxOGU0NzIwM2JlNjJjOT9yZXNwb25zZS1jb250ZW50LWRpc3Bvc2l0aW9uPSoifV19&Signature=PVy7o8OHPLBt4vhpR%7EwkF8Iag9o%7EdOtkjRHsQxkj0rDhbEg3A-9mJ6T8ZGvFjAXnbJxGmHzmb2Q%7EsVf2AGz881y6A2r1rAiCsweX%7EUaqzwIk0vZ-ZLITzhmB7KumqaZE1bsG03e9gGz0-elW2T9bEPwShZrQB%7EpPsMPY69YAzQt79KXY1FufgtH1oIAn8jBrb1aXwWQUKjWQ3O7OWJjNNeH2vnF-gEvmgW1m-gyiMx%7EbH2GFX-UCvrqLmmqAwixFGB6et4zCun0mr7fUqC2OGoUbqS-liLps7MippZfDU82aoMnle97pfcXx47G5h3Lq2sbzZ5xHd8XowQYDkdrpNA__&Key-Pair-Id=K24J24Z295AEI9: HTTPSConnectionPool(host='cdn-lfs-us-1.hf.co', port=443): Read timed out.\n",
      "Trying to resume download...\n",
      "Error while downloading from https://cdn-lfs-us-1.hf.co/repos/bb/d1/bbd10a40cbf91b41e63bac21b8ca45db58c9dc8029fa3012009760dc9472b148/f13e03e37ee5ab3ff24f9bf9553b974f6ef342ed3638077d45d786a44cb55148?response-content-disposition=inline%3B+filename*%3DUTF-8%27%27pd12m.025.parquet%3B+filename%3D%22pd12m.025.parquet%22%3B&Expires=1738039745&Policy=eyJTdGF0ZW1lbnQiOlt7IkNvbmRpdGlvbiI6eyJEYXRlTGVzc1RoYW4iOnsiQVdTOkVwb2NoVGltZSI6MTczODAzOTc0NX19LCJSZXNvdXJjZSI6Imh0dHBzOi8vY2RuLWxmcy11cy0xLmhmLmNvL3JlcG9zL2JiL2QxL2JiZDEwYTQwY2JmOTFiNDFlNjNiYWMyMWI4Y2E0NWRiNThjOWRjODAyOWZhMzAxMjAwOTc2MGRjOTQ3MmIxNDgvZjEzZTAzZTM3ZWU1YWIzZmYyNGY5YmY5NTUzYjk3NGY2ZWYzNDJlZDM2MzgwNzdkNDVkNzg2YTQ0Y2I1NTE0OD9yZXNwb25zZS1jb250ZW50LWRpc3Bvc2l0aW9uPSoifV19&Signature=gpGhVorCQ0m-5x0RooBcNapuCJ20MUCHjPIrTxKAya5kElM2fcDutAXhjOms60EUczwLeB%7E3AtmwWimBCVG9dMrrobL9DP2ArzWAhYUaHEIs357LxmOG40epHvGkMuL%7Eb8hIrbt-1SVDcCGBv9TswBoNp8Vp-hOk76gWNcx-sRru0jAzCgEe8QPdZ5IAvlsg93%7E5JOmy3xL1lML4qPPIVchXhPYa3SBpsGyJ8IMQ-0fr%7EFmdz2G3tQeSS5gFHTvbEnUXj3NBNjX9iTLHXell4apTTU4ORx2CnMAZhkjcAa4vniIepAyasQou5Gj4xY%7E0-laaDKM6eaYIyNseS37cnQ__&Key-Pair-Id=K24J24Z295AEI9: HTTPSConnectionPool(host='cdn-lfs-us-1.hf.co', port=443): Read timed out.\n",
      "Trying to resume download...\n",
      "Error while downloading from https://cdn-lfs-us-1.hf.co/repos/bb/d1/bbd10a40cbf91b41e63bac21b8ca45db58c9dc8029fa3012009760dc9472b148/d30bcc27ae2fa2aa36ad0695a500178acbcfa4d45afe83317daa0eab20500c3c?response-content-disposition=inline%3B+filename*%3DUTF-8%27%27pd12m.029.parquet%3B+filename%3D%22pd12m.029.parquet%22%3B&Expires=1738039767&Policy=eyJTdGF0ZW1lbnQiOlt7IkNvbmRpdGlvbiI6eyJEYXRlTGVzc1RoYW4iOnsiQVdTOkVwb2NoVGltZSI6MTczODAzOTc2N319LCJSZXNvdXJjZSI6Imh0dHBzOi8vY2RuLWxmcy11cy0xLmhmLmNvL3JlcG9zL2JiL2QxL2JiZDEwYTQwY2JmOTFiNDFlNjNiYWMyMWI4Y2E0NWRiNThjOWRjODAyOWZhMzAxMjAwOTc2MGRjOTQ3MmIxNDgvZDMwYmNjMjdhZTJmYTJhYTM2YWQwNjk1YTUwMDE3OGFjYmNmYTRkNDVhZmU4MzMxN2RhYTBlYWIyMDUwMGMzYz9yZXNwb25zZS1jb250ZW50LWRpc3Bvc2l0aW9uPSoifV19&Signature=JAOmbXjUd-HzFblsI5ZqcfKmh86exoMtN%7EyQ1WnJocov3T3xXSVWSwfJC-BiggLohmVB025qDS249ZymIhgP9THaH4-4tfmhszfvDnKG%7Eq1--Uf4GIB1KkrjFbTCZUOvu6pLJa14aPyz9Ymf0gJceV3eyrIDR7EWRRuyq20krhmgK4P1d2PEI9ZBHTj%7EPqtrD9tiNlZvURJgRxxfygxOSCMYyY-CbusQ9nP7pwJxbg-bNRpqGj%7EFpe7AFmU8HbP9SlZjzbNXl5lj%7Ew4YZ9197rgNxQ8YN0oq8QggzEJuJZugib%7EhhrAapj2LvQuE87saonEJl9L6xAH1Fc11F4cDsA__&Key-Pair-Id=K24J24Z295AEI9: HTTPSConnectionPool(host='cdn-lfs-us-1.hf.co', port=443): Read timed out.\n",
      "Trying to resume download...\n",
      "Error while downloading from https://cdn-lfs-us-1.hf.co/repos/bb/d1/bbd10a40cbf91b41e63bac21b8ca45db58c9dc8029fa3012009760dc9472b148/17fa7033b2baf67b1db7d2f756b0b81889afd52aef000fcb9fe4bbdecb50f1c8?response-content-disposition=inline%3B+filename*%3DUTF-8%27%27pd12m.027.parquet%3B+filename%3D%22pd12m.027.parquet%22%3B&Expires=1738039755&Policy=eyJTdGF0ZW1lbnQiOlt7IkNvbmRpdGlvbiI6eyJEYXRlTGVzc1RoYW4iOnsiQVdTOkVwb2NoVGltZSI6MTczODAzOTc1NX19LCJSZXNvdXJjZSI6Imh0dHBzOi8vY2RuLWxmcy11cy0xLmhmLmNvL3JlcG9zL2JiL2QxL2JiZDEwYTQwY2JmOTFiNDFlNjNiYWMyMWI4Y2E0NWRiNThjOWRjODAyOWZhMzAxMjAwOTc2MGRjOTQ3MmIxNDgvMTdmYTcwMzNiMmJhZjY3YjFkYjdkMmY3NTZiMGI4MTg4OWFmZDUyYWVmMDAwZmNiOWZlNGJiZGVjYjUwZjFjOD9yZXNwb25zZS1jb250ZW50LWRpc3Bvc2l0aW9uPSoifV19&Signature=q6-785GPw%7ENcH6Ns9R2kVDoZOdHoQ4KQXytibgxEnCgzYjVeb2BDx782cOe23jW%7EuF87Fe62jG1o9ajzCcxcsd6SW2Wwa7wQtsrn0L1kZFajk22kSteeSCaCoOZEpDuJNHEKERVqUPCDqWxXV9v-UFrDsUQA7SGDx7jUlZwH2yCEmJk47o4Ax9QQox1s%7EvzuOBYY53h-NrMMxdcknoLQEmfwwXQ2hp3hAxWfbkGOybfyklF26F23C4VizqYLdVxn%7Eg4w1exo9sirfg-dEdyMDB4Ue4Ntyokt8KKNjuEw7NTEAswiL1o2CMEezuJwgwxfQn1hGQxZ5U-XGcIzCBlG2w__&Key-Pair-Id=K24J24Z295AEI9: HTTPSConnectionPool(host='cdn-lfs-us-1.hf.co', port=443): Read timed out.\n",
      "Trying to resume download...\n",
      "Error while downloading from https://cdn-lfs-us-1.hf.co/repos/bb/d1/bbd10a40cbf91b41e63bac21b8ca45db58c9dc8029fa3012009760dc9472b148/a361d3ba6f19c657a16285c1e45d297da759c8d2a2ee098d60f8eb4eb7469d3e?response-content-disposition=inline%3B+filename*%3DUTF-8%27%27pd12m.018.parquet%3B+filename%3D%22pd12m.018.parquet%22%3B&Expires=1738039733&Policy=eyJTdGF0ZW1lbnQiOlt7IkNvbmRpdGlvbiI6eyJEYXRlTGVzc1RoYW4iOnsiQVdTOkVwb2NoVGltZSI6MTczODAzOTczM319LCJSZXNvdXJjZSI6Imh0dHBzOi8vY2RuLWxmcy11cy0xLmhmLmNvL3JlcG9zL2JiL2QxL2JiZDEwYTQwY2JmOTFiNDFlNjNiYWMyMWI4Y2E0NWRiNThjOWRjODAyOWZhMzAxMjAwOTc2MGRjOTQ3MmIxNDgvYTM2MWQzYmE2ZjE5YzY1N2ExNjI4NWMxZTQ1ZDI5N2RhNzU5YzhkMmEyZWUwOThkNjBmOGViNGViNzQ2OWQzZT9yZXNwb25zZS1jb250ZW50LWRpc3Bvc2l0aW9uPSoifV19&Signature=TvyZchbQNzmm4oKnXc-VjKcR%7EU0tg00QcM5Tr8LOcDTEMxRgSowc2RIoaBtgLTC0l1pVsfR1E3acxLWJdne-uO0awHvf7vVWB9Ri5nuABA5VDv5jKrGkNECrNtQ4UWEt2dVkjkUC3p3l3imdoaZ6%7E4qR1xc2j7lqaCTaMzi7tz6E6OdqDvzC4XDah-8SzRAQ7t1q2%7EIM8H39d00lOi8%7ERywNTE-nCT-Cz2KRXB8f-B1qtrMYq7WVUt%7EsN16ugwEVkxK545ABP6ff0WleeSQ7zg21AkMCtmdDwQhc1paRRrsHiYKmqTbBV6N4XyTuqmpHZxTwWJorrBeu4pWjImdlQQ__&Key-Pair-Id=K24J24Z295AEI9: HTTPSConnectionPool(host='cdn-lfs-us-1.hf.co', port=443): Read timed out.\n",
      "Trying to resume download...\n",
      "Error while downloading from https://cdn-lfs-us-1.hf.co/repos/bb/d1/bbd10a40cbf91b41e63bac21b8ca45db58c9dc8029fa3012009760dc9472b148/8c35a1b6ee9032901bcfa3eba7468791162145eebe8019ff0178f1316e4e7ba9?response-content-disposition=inline%3B+filename*%3DUTF-8%27%27pd12m.026.parquet%3B+filename%3D%22pd12m.026.parquet%22%3B&Expires=1738039752&Policy=eyJTdGF0ZW1lbnQiOlt7IkNvbmRpdGlvbiI6eyJEYXRlTGVzc1RoYW4iOnsiQVdTOkVwb2NoVGltZSI6MTczODAzOTc1Mn19LCJSZXNvdXJjZSI6Imh0dHBzOi8vY2RuLWxmcy11cy0xLmhmLmNvL3JlcG9zL2JiL2QxL2JiZDEwYTQwY2JmOTFiNDFlNjNiYWMyMWI4Y2E0NWRiNThjOWRjODAyOWZhMzAxMjAwOTc2MGRjOTQ3MmIxNDgvOGMzNWExYjZlZTkwMzI5MDFiY2ZhM2ViYTc0Njg3OTExNjIxNDVlZWJlODAxOWZmMDE3OGYxMzE2ZTRlN2JhOT9yZXNwb25zZS1jb250ZW50LWRpc3Bvc2l0aW9uPSoifV19&Signature=kals1OEWn-%7En1K1zO279KLcAYc%7ErJrLGZx%7ENyNauQucRZFD7ooOjhk-qvackfnu8NzswTtOB8wVEmq1Nk-dZXUsptw6m6ld3NirZlVJJMh52mr4RBsWx7fXNy7Lkx28yrRlRW8Cr%7EcCkJjkRs3WmwHML4z9F8IVdEgPGfBLltNCJwbliP-8M8vzYHATSdv85FK5pQafNwLta75JlIMY21XXXjmQ4pk0LNvnnmwvLvWbtZAElg2XsOK8zZXyk%7Ehdh14eVnvdc1ZcS-vPqFoFaP-4-gx883PDMqCH8YCTwSgmHPyuDXf0CqxwRENzLLZ6Ade2cI7NX%7EE%7EvfocasTFGfQ__&Key-Pair-Id=K24J24Z295AEI9: HTTPSConnectionPool(host='cdn-lfs-us-1.hf.co', port=443): Read timed out.\n",
      "Trying to resume download...\n",
      "Error while downloading from https://cdn-lfs-us-1.hf.co/repos/bb/d1/bbd10a40cbf91b41e63bac21b8ca45db58c9dc8029fa3012009760dc9472b148/8551a3877cfbd01904cc1a37a5271899642a75e85d997199d66a9bf42c400192?response-content-disposition=inline%3B+filename*%3DUTF-8%27%27pd12m.028.parquet%3B+filename%3D%22pd12m.028.parquet%22%3B&Expires=1738039762&Policy=eyJTdGF0ZW1lbnQiOlt7IkNvbmRpdGlvbiI6eyJEYXRlTGVzc1RoYW4iOnsiQVdTOkVwb2NoVGltZSI6MTczODAzOTc2Mn19LCJSZXNvdXJjZSI6Imh0dHBzOi8vY2RuLWxmcy11cy0xLmhmLmNvL3JlcG9zL2JiL2QxL2JiZDEwYTQwY2JmOTFiNDFlNjNiYWMyMWI4Y2E0NWRiNThjOWRjODAyOWZhMzAxMjAwOTc2MGRjOTQ3MmIxNDgvODU1MWEzODc3Y2ZiZDAxOTA0Y2MxYTM3YTUyNzE4OTk2NDJhNzVlODVkOTk3MTk5ZDY2YTliZjQyYzQwMDE5Mj9yZXNwb25zZS1jb250ZW50LWRpc3Bvc2l0aW9uPSoifV19&Signature=uo3bnlNybcic-pTv3J%7E0TZCHQOGUGEw%7E6fydKAEtHL05rrB0c%7En4hYCdiDRuu9HRfZWkbvHScqTLCr4saIwilmlNJ5zncKWXYtnkhCP70YSzXIcc9noz%7EpXFH0tyKg3rkrg03kz%7ElS7ze19RR7QswpAORMpzDz1nQSTXt43LXQ5yj7C74RJTj5ShLZCzSfzZ2a1x7ZBPTwKWuzbkW6EnbaQWN2ZnvZG%7EaB1sczZ%7E0LZIRubpjZc8Xt77iwUeXD8k2eghnGVJ72UnHjwwsDa6PFXwjERLP8DVRYWGquIJNY4mg6elPMLISdB5Ic-hLWlkr9P1hHclKI%7E82LBOS%7EYoeQ__&Key-Pair-Id=K24J24Z295AEI9: HTTPSConnectionPool(host='cdn-lfs-us-1.hf.co', port=443): Read timed out.\n",
      "Trying to resume download...\n",
      "Error while downloading from https://cdn-lfs-us-1.hf.co/repos/bb/d1/bbd10a40cbf91b41e63bac21b8ca45db58c9dc8029fa3012009760dc9472b148/abf4b38cc9ae62adc207a5f1e6fcd6ee6999bfef60aa654c92c8638b796e5a0b?response-content-disposition=inline%3B+filename*%3DUTF-8%27%27pd12m.016.parquet%3B+filename%3D%22pd12m.016.parquet%22%3B&Expires=1738039708&Policy=eyJTdGF0ZW1lbnQiOlt7IkNvbmRpdGlvbiI6eyJEYXRlTGVzc1RoYW4iOnsiQVdTOkVwb2NoVGltZSI6MTczODAzOTcwOH19LCJSZXNvdXJjZSI6Imh0dHBzOi8vY2RuLWxmcy11cy0xLmhmLmNvL3JlcG9zL2JiL2QxL2JiZDEwYTQwY2JmOTFiNDFlNjNiYWMyMWI4Y2E0NWRiNThjOWRjODAyOWZhMzAxMjAwOTc2MGRjOTQ3MmIxNDgvYWJmNGIzOGNjOWFlNjJhZGMyMDdhNWYxZTZmY2Q2ZWU2OTk5YmZlZjYwYWE2NTRjOTJjODYzOGI3OTZlNWEwYj9yZXNwb25zZS1jb250ZW50LWRpc3Bvc2l0aW9uPSoifV19&Signature=QO9Bc0kX9jvbYtVSDYU9E4x98BI3UK7adr-S3-reCFR0ucreKAcaAc2yC-fB%7ELrbkQ%7EogHirvqapPT2%7EfRJdZAZxDJje6B0r-BbV5Nd6d90sX-tDLp78N34nqUUGdskx1h85MY8AYwriGxbB6RkZBIieRMeVlmp068bW0Np-bkWk822HnYU3Cfqg4TTU0vJsoXDC3Yq2b2m-nnWKkZb3qHbmFLANBuwfczA0CB9qnEysHzF72t33rJ0Y2m6U%7E8tPlurmFquVXnUwLqRnef81GGJ3bT0rFpnuwj5JlNBdUYlhYVyvV2uuBIg7sppbBXtKQ5hyRA9txye9mk5%7EQrf9yA__&Key-Pair-Id=K24J24Z295AEI9: HTTPSConnectionPool(host='cdn-lfs-us-1.hf.co', port=443): Read timed out.\n",
      "Trying to resume download...\n",
      "Error while downloading from https://cdn-lfs-us-1.hf.co/repos/bb/d1/bbd10a40cbf91b41e63bac21b8ca45db58c9dc8029fa3012009760dc9472b148/9c36cf449c57ed37df8eb079e826b6497278bd32620f2e92e08b6e4a3d748e26?response-content-disposition=inline%3B+filename*%3DUTF-8%27%27pd12m.019.parquet%3B+filename%3D%22pd12m.019.parquet%22%3B&Expires=1738039733&Policy=eyJTdGF0ZW1lbnQiOlt7IkNvbmRpdGlvbiI6eyJEYXRlTGVzc1RoYW4iOnsiQVdTOkVwb2NoVGltZSI6MTczODAzOTczM319LCJSZXNvdXJjZSI6Imh0dHBzOi8vY2RuLWxmcy11cy0xLmhmLmNvL3JlcG9zL2JiL2QxL2JiZDEwYTQwY2JmOTFiNDFlNjNiYWMyMWI4Y2E0NWRiNThjOWRjODAyOWZhMzAxMjAwOTc2MGRjOTQ3MmIxNDgvOWMzNmNmNDQ5YzU3ZWQzN2RmOGViMDc5ZTgyNmI2NDk3Mjc4YmQzMjYyMGYyZTkyZTA4YjZlNGEzZDc0OGUyNj9yZXNwb25zZS1jb250ZW50LWRpc3Bvc2l0aW9uPSoifV19&Signature=C19df8y9SoOnZg1LB67BIfq%7E8mO24ouQCj1KA3HoWylXDWmSB4wJo5dlqQzA4%7EsdHcfscvnmLgesvZtcKnWojgnKU14a3KsY-aAwiVwzS3pShUqTOWkKTdV5EL1847ITdC%7E1kxwOdpOZ13GjNysY6rpIf6ARdAl8NBHOwN32qknTEoNalVNQ-1U0Dw%7E1erOg0-6Ny0ra6GMCSxCJs0aI4CIyeW1dsiCB3AdM6-dtbwbXYdhQgT415Zef5F8HoTQSujABbQ5SVtnc7N3do-qumC2jRdvAXs-3%7EJGZwwV4ombvjx5fOpadCKj5PLo%7ECcEF3pKOcRbGXJC3D3Z3PTw7tQ__&Key-Pair-Id=K24J24Z295AEI9: HTTPSConnectionPool(host='cdn-lfs-us-1.hf.co', port=443): Read timed out.\n",
      "Trying to resume download...\n",
      "Error while downloading from https://cdn-lfs-us-1.hf.co/repos/bb/d1/bbd10a40cbf91b41e63bac21b8ca45db58c9dc8029fa3012009760dc9472b148/0cccae3d3864b3f81d4abb5d0bd1712447454db9129b7daba7f9e4be23c8f257?response-content-disposition=inline%3B+filename*%3DUTF-8%27%27pd12m.032.parquet%3B+filename%3D%22pd12m.032.parquet%22%3B&Expires=1738039830&Policy=eyJTdGF0ZW1lbnQiOlt7IkNvbmRpdGlvbiI6eyJEYXRlTGVzc1RoYW4iOnsiQVdTOkVwb2NoVGltZSI6MTczODAzOTgzMH19LCJSZXNvdXJjZSI6Imh0dHBzOi8vY2RuLWxmcy11cy0xLmhmLmNvL3JlcG9zL2JiL2QxL2JiZDEwYTQwY2JmOTFiNDFlNjNiYWMyMWI4Y2E0NWRiNThjOWRjODAyOWZhMzAxMjAwOTc2MGRjOTQ3MmIxNDgvMGNjY2FlM2QzODY0YjNmODFkNGFiYjVkMGJkMTcxMjQ0NzQ1NGRiOTEyOWI3ZGFiYTdmOWU0YmUyM2M4ZjI1Nz9yZXNwb25zZS1jb250ZW50LWRpc3Bvc2l0aW9uPSoifV19&Signature=j3TsVPtrwn6z1SqfhtV9Evb046027mgD6TugtxOviKUSbCAkhV4G6vR7ThVeo1yHuHSaIpCQ6tD8xA%7EpHv9dOL2vJX5zqSBcBtXADCmkMneXw4wacaGpjkX%7Eabrq5Yboc8zKf6CBqmVgWfpd6Ufp6A1XWs1zUgKrAV7KvY75GAxBzIwybruYY2-FcFI9mhHrEZmi0c-tzJAhWXMiS%7EI9jmtl8rQpp9BQXgdO5qrl-AHE0kRM4i6LDOoZZUzuzDxkVIYrZHJiz-RboH8NqPQ7namoWvZmXo2jru6fPgh78bTE0M2M3-oNQSZGB3PmxuAsMPlomef-McEiO8OFQ72CRQ__&Key-Pair-Id=K24J24Z295AEI9: HTTPSConnectionPool(host='cdn-lfs-us-1.hf.co', port=443): Read timed out.\n",
      "Trying to resume download...\n",
      "Error while downloading from https://cdn-lfs-us-1.hf.co/repos/bb/d1/bbd10a40cbf91b41e63bac21b8ca45db58c9dc8029fa3012009760dc9472b148/f0a128b1e9880e8b5dcc2a4060bcb61b2c65ce97bea3fde67d598d87699a6777?response-content-disposition=inline%3B+filename*%3DUTF-8%27%27pd12m.023.parquet%3B+filename%3D%22pd12m.023.parquet%22%3B&Expires=1738039741&Policy=eyJTdGF0ZW1lbnQiOlt7IkNvbmRpdGlvbiI6eyJEYXRlTGVzc1RoYW4iOnsiQVdTOkVwb2NoVGltZSI6MTczODAzOTc0MX19LCJSZXNvdXJjZSI6Imh0dHBzOi8vY2RuLWxmcy11cy0xLmhmLmNvL3JlcG9zL2JiL2QxL2JiZDEwYTQwY2JmOTFiNDFlNjNiYWMyMWI4Y2E0NWRiNThjOWRjODAyOWZhMzAxMjAwOTc2MGRjOTQ3MmIxNDgvZjBhMTI4YjFlOTg4MGU4YjVkY2MyYTQwNjBiY2I2MWIyYzY1Y2U5N2JlYTNmZGU2N2Q1OThkODc2OTlhNjc3Nz9yZXNwb25zZS1jb250ZW50LWRpc3Bvc2l0aW9uPSoifV19&Signature=lefmuKcc2-dzCB8aGcb2gl6uG%7ENe2e6rj49NpRnx6fJfDSK8FDWarC8fhVxKUp5qq5z6SufgL7Zm5jeVzx343DndPngeWwe1BamhHVuhaz%7Erx24%7Ed2WetXHcZKa78dfu1TLJ9fp63RKWrsvB2NiBfytz2tyJrTGnh9eLcx6f7aIooYmu3SqdY-S%7EYk%7EUA54AyVzPWq4pYeYR8vIREgWTzXRq8qsyV8MjR2Pn4QH71BNLQ%7EtIrLrl9ydoUIgmaOsbjZGAnjbiaiY0E3MWlNEYLzU8gtiK1ZpfYaBmxhQOh-mhC6zxGlUWQ0Fwf01q0ZEQlWrX38h5gIq926QfdHklHA__&Key-Pair-Id=K24J24Z295AEI9: HTTPSConnectionPool(host='cdn-lfs-us-1.hf.co', port=443): Read timed out.\n",
      "Trying to resume download...\n",
      "Error while downloading from https://cdn-lfs-us-1.hf.co/repos/bb/d1/bbd10a40cbf91b41e63bac21b8ca45db58c9dc8029fa3012009760dc9472b148/b888accb6409e03d2f5f902c7a650d0e7004a4179fdd1e3c3980d7ff7d376eb8?response-content-disposition=inline%3B+filename*%3DUTF-8%27%27pd12m.020.parquet%3B+filename%3D%22pd12m.020.parquet%22%3B&Expires=1738039733&Policy=eyJTdGF0ZW1lbnQiOlt7IkNvbmRpdGlvbiI6eyJEYXRlTGVzc1RoYW4iOnsiQVdTOkVwb2NoVGltZSI6MTczODAzOTczM319LCJSZXNvdXJjZSI6Imh0dHBzOi8vY2RuLWxmcy11cy0xLmhmLmNvL3JlcG9zL2JiL2QxL2JiZDEwYTQwY2JmOTFiNDFlNjNiYWMyMWI4Y2E0NWRiNThjOWRjODAyOWZhMzAxMjAwOTc2MGRjOTQ3MmIxNDgvYjg4OGFjY2I2NDA5ZTAzZDJmNWY5MDJjN2E2NTBkMGU3MDA0YTQxNzlmZGQxZTNjMzk4MGQ3ZmY3ZDM3NmViOD9yZXNwb25zZS1jb250ZW50LWRpc3Bvc2l0aW9uPSoifV19&Signature=QbEn8Ug0EJgCDar5NDGEJqULu8ibGm53uLHN5TBToLuzLvBeEyWTdICOyLMfDYi4KrVhQ11gjnZEoxRjQlI-GtCh%7EQhSXkNdJyR4wVJ2MnAQtveHutXp5%7EkTqNh2QONqnC4cuwsDIz5x3jLwFpWjJDx8zFnmoIW46dEiUiFuW5IuS2-F%7E3oP04vqRbL%7EspLMwKx6-%7ErNJfbUbftSTte5Tr1uk6drVLg3WLPaAQeQalpykygp6UJMrstvqmmdYigqnp68T1f7z97UpuS9ubPUtQATOVYcJE3H8toESbz0bgl6swezuUkq8KmmN8Tov-s4pdtXvTyruqi0K1j7MZaA5Q__&Key-Pair-Id=K24J24Z295AEI9: HTTPSConnectionPool(host='cdn-lfs-us-1.hf.co', port=443): Read timed out.\n",
      "Trying to resume download...\n"
     ]
    },
    {
     "data": {
      "application/vnd.jupyter.widget-view+json": {
       "model_id": "a0acf42eacab42b985be67b2fb20ae3b",
       "version_major": 2,
       "version_minor": 0
      },
      "text/plain": [
       "pd12m.031.parquet:   0%|          | 0.00/18.9M [00:00<?, ?B/s]"
      ]
     },
     "metadata": {},
     "output_type": "display_data"
    },
    {
     "data": {
      "application/vnd.jupyter.widget-view+json": {
       "model_id": "d5e7f636f6e348d5a67f2eb6595b5162",
       "version_major": 2,
       "version_minor": 0
      },
      "text/plain": [
       "pd12m.023.parquet:  56%|#####5    | 10.5M/18.9M [00:00<?, ?B/s]"
      ]
     },
     "metadata": {},
     "output_type": "display_data"
    },
    {
     "data": {
      "application/vnd.jupyter.widget-view+json": {
       "model_id": "d9170efc85f44032a6f59ec1cd026488",
       "version_major": 2,
       "version_minor": 0
      },
      "text/plain": [
       "pd12m.032.parquet:   0%|          | 0.00/18.9M [00:00<?, ?B/s]"
      ]
     },
     "metadata": {},
     "output_type": "display_data"
    },
    {
     "data": {
      "application/vnd.jupyter.widget-view+json": {
       "model_id": "2d949f41c0624749a7ba544094d86373",
       "version_major": 2,
       "version_minor": 0
      },
      "text/plain": [
       "pd12m.021.parquet:  55%|#####5    | 10.5M/18.9M [00:00<?, ?B/s]"
      ]
     },
     "metadata": {},
     "output_type": "display_data"
    },
    {
     "data": {
      "application/vnd.jupyter.widget-view+json": {
       "model_id": "3349b2e343954b58ad58ad82400dd3e1",
       "version_major": 2,
       "version_minor": 0
      },
      "text/plain": [
       "pd12m.019.parquet:   0%|          | 0.00/18.9M [00:00<?, ?B/s]"
      ]
     },
     "metadata": {},
     "output_type": "display_data"
    },
    {
     "data": {
      "application/vnd.jupyter.widget-view+json": {
       "model_id": "620331de22934c4e97a6297d17cb7f37",
       "version_major": 2,
       "version_minor": 0
      },
      "text/plain": [
       "pd12m.020.parquet:  56%|#####5    | 10.5M/18.9M [00:00<?, ?B/s]"
      ]
     },
     "metadata": {},
     "output_type": "display_data"
    },
    {
     "data": {
      "application/vnd.jupyter.widget-view+json": {
       "model_id": "b73bc4bcfa704f0bb867ff425f1f9d7d",
       "version_major": 2,
       "version_minor": 0
      },
      "text/plain": [
       "pd12m.030.parquet:   0%|          | 0.00/18.9M [00:00<?, ?B/s]"
      ]
     },
     "metadata": {},
     "output_type": "display_data"
    },
    {
     "data": {
      "application/vnd.jupyter.widget-view+json": {
       "model_id": "29f98daf892a403b93daea1efbf2f78a",
       "version_major": 2,
       "version_minor": 0
      },
      "text/plain": [
       "pd12m.018.parquet:  56%|#####5    | 10.5M/18.9M [00:00<?, ?B/s]"
      ]
     },
     "metadata": {},
     "output_type": "display_data"
    },
    {
     "data": {
      "application/vnd.jupyter.widget-view+json": {
       "model_id": "2ab56a6dac1b404c9051790db19798b7",
       "version_major": 2,
       "version_minor": 0
      },
      "text/plain": [
       "pd12m.016.parquet:  56%|#####5    | 10.5M/18.9M [00:00<?, ?B/s]"
      ]
     },
     "metadata": {},
     "output_type": "display_data"
    },
    {
     "data": {
      "application/vnd.jupyter.widget-view+json": {
       "model_id": "8f0fa6ef945d4480aa6341ab3530c341",
       "version_major": 2,
       "version_minor": 0
      },
      "text/plain": [
       "pd12m.024.parquet:  56%|#####5    | 10.5M/18.9M [00:00<?, ?B/s]"
      ]
     },
     "metadata": {},
     "output_type": "display_data"
    },
    {
     "data": {
      "application/vnd.jupyter.widget-view+json": {
       "model_id": "614ba0ad4d70472eb738583072bb50e9",
       "version_major": 2,
       "version_minor": 0
      },
      "text/plain": [
       "pd12m.026.parquet:  55%|#####5    | 10.5M/18.9M [00:00<?, ?B/s]"
      ]
     },
     "metadata": {},
     "output_type": "display_data"
    },
    {
     "data": {
      "application/vnd.jupyter.widget-view+json": {
       "model_id": "9bd83bda05784496a3ed6b1611205e22",
       "version_major": 2,
       "version_minor": 0
      },
      "text/plain": [
       "pd12m.029.parquet:  55%|#####5    | 10.5M/18.9M [00:00<?, ?B/s]"
      ]
     },
     "metadata": {},
     "output_type": "display_data"
    },
    {
     "data": {
      "application/vnd.jupyter.widget-view+json": {
       "model_id": "6d03e73509ea440d93235890849b52b9",
       "version_major": 2,
       "version_minor": 0
      },
      "text/plain": [
       "pd12m.022.parquet:  56%|#####5    | 10.5M/18.9M [00:00<?, ?B/s]"
      ]
     },
     "metadata": {},
     "output_type": "display_data"
    },
    {
     "data": {
      "application/vnd.jupyter.widget-view+json": {
       "model_id": "aa92713d3b8f4c88b04e3d09b21af8d6",
       "version_major": 2,
       "version_minor": 0
      },
      "text/plain": [
       "pd12m.028.parquet:   0%|          | 0.00/18.9M [00:00<?, ?B/s]"
      ]
     },
     "metadata": {},
     "output_type": "display_data"
    },
    {
     "data": {
      "application/vnd.jupyter.widget-view+json": {
       "model_id": "c2d77b8faf6343838aef4d413b3e1b5c",
       "version_major": 2,
       "version_minor": 0
      },
      "text/plain": [
       "pd12m.025.parquet:  56%|#####5    | 10.5M/18.9M [00:00<?, ?B/s]"
      ]
     },
     "metadata": {},
     "output_type": "display_data"
    },
    {
     "data": {
      "application/vnd.jupyter.widget-view+json": {
       "model_id": "47292778d95547fa96404711713657ab",
       "version_major": 2,
       "version_minor": 0
      },
      "text/plain": [
       "pd12m.027.parquet:  56%|#####5    | 10.5M/18.9M [00:00<?, ?B/s]"
      ]
     },
     "metadata": {},
     "output_type": "display_data"
    },
    {
     "data": {
      "application/vnd.jupyter.widget-view+json": {
       "model_id": "e5e03be7a4764411b9e69836fdc86d10",
       "version_major": 2,
       "version_minor": 0
      },
      "text/plain": [
       "pd12m.038.parquet:   0%|          | 0.00/18.9M [00:00<?, ?B/s]"
      ]
     },
     "metadata": {},
     "output_type": "display_data"
    },
    {
     "data": {
      "application/vnd.jupyter.widget-view+json": {
       "model_id": "7d497cc3d9664ad9b91c566d80b0909a",
       "version_major": 2,
       "version_minor": 0
      },
      "text/plain": [
       "pd12m.033.parquet:   0%|          | 0.00/18.9M [00:00<?, ?B/s]"
      ]
     },
     "metadata": {},
     "output_type": "display_data"
    },
    {
     "data": {
      "application/vnd.jupyter.widget-view+json": {
       "model_id": "e629400a61624b6bb09bf1a3756c0a48",
       "version_major": 2,
       "version_minor": 0
      },
      "text/plain": [
       "pd12m.037.parquet:   0%|          | 0.00/18.9M [00:00<?, ?B/s]"
      ]
     },
     "metadata": {},
     "output_type": "display_data"
    },
    {
     "data": {
      "application/vnd.jupyter.widget-view+json": {
       "model_id": "756ec5dd9d3d441abd8b401a0622f786",
       "version_major": 2,
       "version_minor": 0
      },
      "text/plain": [
       "pd12m.034.parquet:   0%|          | 0.00/18.9M [00:00<?, ?B/s]"
      ]
     },
     "metadata": {},
     "output_type": "display_data"
    },
    {
     "data": {
      "application/vnd.jupyter.widget-view+json": {
       "model_id": "55ae21a38b2e4765b0b0ffd9fcaf9cbc",
       "version_major": 2,
       "version_minor": 0
      },
      "text/plain": [
       "pd12m.036.parquet:   0%|          | 0.00/18.9M [00:00<?, ?B/s]"
      ]
     },
     "metadata": {},
     "output_type": "display_data"
    },
    {
     "data": {
      "application/vnd.jupyter.widget-view+json": {
       "model_id": "b222ca955e144f4ca6d1ed462826f069",
       "version_major": 2,
       "version_minor": 0
      },
      "text/plain": [
       "pd12m.035.parquet:   0%|          | 0.00/18.9M [00:00<?, ?B/s]"
      ]
     },
     "metadata": {},
     "output_type": "display_data"
    },
    {
     "data": {
      "application/vnd.jupyter.widget-view+json": {
       "model_id": "03a8bdc5e1ea4551a6231f56f9296ee6",
       "version_major": 2,
       "version_minor": 0
      },
      "text/plain": [
       "pd12m.039.parquet:   0%|          | 0.00/18.9M [00:00<?, ?B/s]"
      ]
     },
     "metadata": {},
     "output_type": "display_data"
    },
    {
     "data": {
      "application/vnd.jupyter.widget-view+json": {
       "model_id": "ade3fcce9e644a899629000a1563b077",
       "version_major": 2,
       "version_minor": 0
      },
      "text/plain": [
       "pd12m.042.parquet:   0%|          | 0.00/18.9M [00:00<?, ?B/s]"
      ]
     },
     "metadata": {},
     "output_type": "display_data"
    },
    {
     "data": {
      "application/vnd.jupyter.widget-view+json": {
       "model_id": "3f7def53743b430ebb1f7bb5acb5e080",
       "version_major": 2,
       "version_minor": 0
      },
      "text/plain": [
       "pd12m.040.parquet:   0%|          | 0.00/18.9M [00:00<?, ?B/s]"
      ]
     },
     "metadata": {},
     "output_type": "display_data"
    },
    {
     "data": {
      "application/vnd.jupyter.widget-view+json": {
       "model_id": "3411f37903e84d6fb2a38c3037afd07c",
       "version_major": 2,
       "version_minor": 0
      },
      "text/plain": [
       "pd12m.041.parquet:   0%|          | 0.00/18.9M [00:00<?, ?B/s]"
      ]
     },
     "metadata": {},
     "output_type": "display_data"
    },
    {
     "data": {
      "application/vnd.jupyter.widget-view+json": {
       "model_id": "956799ba062a48d69747811f1126d2c7",
       "version_major": 2,
       "version_minor": 0
      },
      "text/plain": [
       "pd12m.043.parquet:   0%|          | 0.00/18.9M [00:00<?, ?B/s]"
      ]
     },
     "metadata": {},
     "output_type": "display_data"
    },
    {
     "data": {
      "application/vnd.jupyter.widget-view+json": {
       "model_id": "7f4d51de132647e38dae91f39897963d",
       "version_major": 2,
       "version_minor": 0
      },
      "text/plain": [
       "pd12m.044.parquet:   0%|          | 0.00/18.9M [00:00<?, ?B/s]"
      ]
     },
     "metadata": {},
     "output_type": "display_data"
    },
    {
     "data": {
      "application/vnd.jupyter.widget-view+json": {
       "model_id": "eb1033311d4a437b9b087f7859fc642b",
       "version_major": 2,
       "version_minor": 0
      },
      "text/plain": [
       "pd12m.045.parquet:   0%|          | 0.00/18.9M [00:00<?, ?B/s]"
      ]
     },
     "metadata": {},
     "output_type": "display_data"
    },
    {
     "data": {
      "application/vnd.jupyter.widget-view+json": {
       "model_id": "599fa05eecce44ffbdb2336b43300a28",
       "version_major": 2,
       "version_minor": 0
      },
      "text/plain": [
       "pd12m.048.parquet:   0%|          | 0.00/18.9M [00:00<?, ?B/s]"
      ]
     },
     "metadata": {},
     "output_type": "display_data"
    },
    {
     "data": {
      "application/vnd.jupyter.widget-view+json": {
       "model_id": "f46610ca3625462fa714d368f2512aab",
       "version_major": 2,
       "version_minor": 0
      },
      "text/plain": [
       "pd12m.046.parquet:   0%|          | 0.00/18.9M [00:00<?, ?B/s]"
      ]
     },
     "metadata": {},
     "output_type": "display_data"
    },
    {
     "data": {
      "application/vnd.jupyter.widget-view+json": {
       "model_id": "bda59734fba849d59e4206684c1c90fb",
       "version_major": 2,
       "version_minor": 0
      },
      "text/plain": [
       "pd12m.047.parquet:   0%|          | 0.00/18.9M [00:00<?, ?B/s]"
      ]
     },
     "metadata": {},
     "output_type": "display_data"
    },
    {
     "data": {
      "application/vnd.jupyter.widget-view+json": {
       "model_id": "0a3b7c05592f4bda9a2a05a2098834ce",
       "version_major": 2,
       "version_minor": 0
      },
      "text/plain": [
       "pd12m.050.parquet:   0%|          | 0.00/18.9M [00:00<?, ?B/s]"
      ]
     },
     "metadata": {},
     "output_type": "display_data"
    },
    {
     "data": {
      "application/vnd.jupyter.widget-view+json": {
       "model_id": "950858da60de4162848ddfe778a295dd",
       "version_major": 2,
       "version_minor": 0
      },
      "text/plain": [
       "pd12m.049.parquet:   0%|          | 0.00/18.9M [00:00<?, ?B/s]"
      ]
     },
     "metadata": {},
     "output_type": "display_data"
    },
    {
     "data": {
      "application/vnd.jupyter.widget-view+json": {
       "model_id": "a912b84fb1df428ea4aa730684e26f46",
       "version_major": 2,
       "version_minor": 0
      },
      "text/plain": [
       "pd12m.051.parquet:   0%|          | 0.00/18.9M [00:00<?, ?B/s]"
      ]
     },
     "metadata": {},
     "output_type": "display_data"
    },
    {
     "data": {
      "application/vnd.jupyter.widget-view+json": {
       "model_id": "af0205ad351b4ac387a702381f658674",
       "version_major": 2,
       "version_minor": 0
      },
      "text/plain": [
       "pd12m.052.parquet:   0%|          | 0.00/18.9M [00:00<?, ?B/s]"
      ]
     },
     "metadata": {},
     "output_type": "display_data"
    },
    {
     "data": {
      "application/vnd.jupyter.widget-view+json": {
       "model_id": "5f6e8de79b244197a89e322664ad11ee",
       "version_major": 2,
       "version_minor": 0
      },
      "text/plain": [
       "pd12m.053.parquet:   0%|          | 0.00/18.9M [00:00<?, ?B/s]"
      ]
     },
     "metadata": {},
     "output_type": "display_data"
    },
    {
     "data": {
      "application/vnd.jupyter.widget-view+json": {
       "model_id": "1489273af5b7482c8687c9e60d5c31ab",
       "version_major": 2,
       "version_minor": 0
      },
      "text/plain": [
       "pd12m.054.parquet:   0%|          | 0.00/18.9M [00:00<?, ?B/s]"
      ]
     },
     "metadata": {},
     "output_type": "display_data"
    },
    {
     "data": {
      "application/vnd.jupyter.widget-view+json": {
       "model_id": "7054bc4a0f9f4b7eb209f02cd85db0a4",
       "version_major": 2,
       "version_minor": 0
      },
      "text/plain": [
       "pd12m.055.parquet:   0%|          | 0.00/18.9M [00:00<?, ?B/s]"
      ]
     },
     "metadata": {},
     "output_type": "display_data"
    },
    {
     "data": {
      "application/vnd.jupyter.widget-view+json": {
       "model_id": "b0b3787032564d388c01a51849e0ac8f",
       "version_major": 2,
       "version_minor": 0
      },
      "text/plain": [
       "pd12m.056.parquet:   0%|          | 0.00/18.9M [00:00<?, ?B/s]"
      ]
     },
     "metadata": {},
     "output_type": "display_data"
    },
    {
     "data": {
      "application/vnd.jupyter.widget-view+json": {
       "model_id": "ccfda1923b2c4dae9e144329c90bee8d",
       "version_major": 2,
       "version_minor": 0
      },
      "text/plain": [
       "pd12m.057.parquet:   0%|          | 0.00/18.9M [00:00<?, ?B/s]"
      ]
     },
     "metadata": {},
     "output_type": "display_data"
    },
    {
     "data": {
      "application/vnd.jupyter.widget-view+json": {
       "model_id": "509b545ca93f4e619553284f73298dbc",
       "version_major": 2,
       "version_minor": 0
      },
      "text/plain": [
       "pd12m.058.parquet:   0%|          | 0.00/18.9M [00:00<?, ?B/s]"
      ]
     },
     "metadata": {},
     "output_type": "display_data"
    },
    {
     "name": "stderr",
     "output_type": "stream",
     "text": [
      "Error while downloading from https://cdn-lfs-us-1.hf.co/repos/bb/d1/bbd10a40cbf91b41e63bac21b8ca45db58c9dc8029fa3012009760dc9472b148/d4b420b7db4ad826e34ba1451e7ead728c3701725559a9dda050a17938e3cfcd?response-content-disposition=inline%3B+filename*%3DUTF-8%27%27pd12m.049.parquet%3B+filename%3D%22pd12m.049.parquet%22%3B&Expires=1738040071&Policy=eyJTdGF0ZW1lbnQiOlt7IkNvbmRpdGlvbiI6eyJEYXRlTGVzc1RoYW4iOnsiQVdTOkVwb2NoVGltZSI6MTczODA0MDA3MX19LCJSZXNvdXJjZSI6Imh0dHBzOi8vY2RuLWxmcy11cy0xLmhmLmNvL3JlcG9zL2JiL2QxL2JiZDEwYTQwY2JmOTFiNDFlNjNiYWMyMWI4Y2E0NWRiNThjOWRjODAyOWZhMzAxMjAwOTc2MGRjOTQ3MmIxNDgvZDRiNDIwYjdkYjRhZDgyNmUzNGJhMTQ1MWU3ZWFkNzI4YzM3MDE3MjU1NTlhOWRkYTA1MGExNzkzOGUzY2ZjZD9yZXNwb25zZS1jb250ZW50LWRpc3Bvc2l0aW9uPSoifV19&Signature=ceBVxG7MTgo8T98cW-DeFUJEYwUEclj9nYrSXbwNyWGgEtc%7EuQRWawgTLKjiQ7MCYzp0o9r9UE1DmLDEic7wWPtMY5U9BMZQzN3crFDCCbCpz8KikomKFkPOIgKs6wQ2MjFLr%7EZxI9InibRulnbyMMlOuwSqvvKf41ZOOFaR819LjPPa8PfY6UGFgTjHo0r8BGAQZWmgvGtAkPBI3hFuANqZfSJpYNtB92JaS617nQhNoJ%7EAHtR581jWZ1LSCDH3sX2Yx%7E8la4PH1dQH0sQMvQizw5%7EUxQHWArdGPEoaa37Aczq8IadLuhwlROTz5CwPkq1pXfG8O2JrV0GT2cVaPQ__&Key-Pair-Id=K24J24Z295AEI9: HTTPSConnectionPool(host='cdn-lfs-us-1.hf.co', port=443): Read timed out.\n",
      "Trying to resume download...\n",
      "Error while downloading from https://cdn-lfs-us-1.hf.co/repos/bb/d1/bbd10a40cbf91b41e63bac21b8ca45db58c9dc8029fa3012009760dc9472b148/16e0851bb4590d911cd172539440d13359b439302b6dcec8354ee22d9011e98c?response-content-disposition=inline%3B+filename*%3DUTF-8%27%27pd12m.053.parquet%3B+filename%3D%22pd12m.053.parquet%22%3B&Expires=1738040125&Policy=eyJTdGF0ZW1lbnQiOlt7IkNvbmRpdGlvbiI6eyJEYXRlTGVzc1RoYW4iOnsiQVdTOkVwb2NoVGltZSI6MTczODA0MDEyNX19LCJSZXNvdXJjZSI6Imh0dHBzOi8vY2RuLWxmcy11cy0xLmhmLmNvL3JlcG9zL2JiL2QxL2JiZDEwYTQwY2JmOTFiNDFlNjNiYWMyMWI4Y2E0NWRiNThjOWRjODAyOWZhMzAxMjAwOTc2MGRjOTQ3MmIxNDgvMTZlMDg1MWJiNDU5MGQ5MTFjZDE3MjUzOTQ0MGQxMzM1OWI0MzkzMDJiNmRjZWM4MzU0ZWUyMmQ5MDExZTk4Yz9yZXNwb25zZS1jb250ZW50LWRpc3Bvc2l0aW9uPSoifV19&Signature=Gsn6hjQHSsSOZwCKz9yixlgtXPAT2lg2pwruwbkSEAccXvm3tYEX9MFfX3WzxdrqcrXMc9y-drRbyhMgjyQZW41zIO7HtGkw%7E-hnFNjav2jFSXqT286rxiKlAiYM8-Xl6ZTlwq0HvW7ddnfZszoegd3konlu8INE4yrTIilM6kYH%7EW29RNR%7EXImKPy%7EmRneKhVnICDKXn77YAkJiRneAMnR%7Ed08H6OkZdeUQnWXuEwoo%7EYvlrmZKRW7RmOvgI2nsiBRApHb5cELNZZ5tp9jIZDGWPB-Xfj-Hs7lMfmuB5EWTqTdR-m7bta921BqVAvTbiy%7E0Yxml%7EKobFvezwKr0wQ__&Key-Pair-Id=K24J24Z295AEI9: HTTPSConnectionPool(host='cdn-lfs-us-1.hf.co', port=443): Read timed out.\n",
      "Trying to resume download...\n",
      "Error while downloading from https://cdn-lfs-us-1.hf.co/repos/bb/d1/bbd10a40cbf91b41e63bac21b8ca45db58c9dc8029fa3012009760dc9472b148/de8ca42d5e61eb4e4a5b8daa31fc24f729e5b09cda164f3e45ca28ffb7910877?response-content-disposition=inline%3B+filename*%3DUTF-8%27%27pd12m.057.parquet%3B+filename%3D%22pd12m.057.parquet%22%3B&Expires=1738040156&Policy=eyJTdGF0ZW1lbnQiOlt7IkNvbmRpdGlvbiI6eyJEYXRlTGVzc1RoYW4iOnsiQVdTOkVwb2NoVGltZSI6MTczODA0MDE1Nn19LCJSZXNvdXJjZSI6Imh0dHBzOi8vY2RuLWxmcy11cy0xLmhmLmNvL3JlcG9zL2JiL2QxL2JiZDEwYTQwY2JmOTFiNDFlNjNiYWMyMWI4Y2E0NWRiNThjOWRjODAyOWZhMzAxMjAwOTc2MGRjOTQ3MmIxNDgvZGU4Y2E0MmQ1ZTYxZWI0ZTRhNWI4ZGFhMzFmYzI0ZjcyOWU1YjA5Y2RhMTY0ZjNlNDVjYTI4ZmZiNzkxMDg3Nz9yZXNwb25zZS1jb250ZW50LWRpc3Bvc2l0aW9uPSoifV19&Signature=V3OfZdljHIInJ5L0Ro4ITq2jsqHpPPRSYWj9Jdg1hbMou%7ErwH2G06E7vp5O4Bbz4PkwD6YrDGtrPkpkYzZ%7E-rDAPtbHE-VZs6sw4bGFJ5siO%7E88g5dXkmMcHgRbW64M4%7Eg78R1dF7vB1tKmqqLgzToAL3ST%7EY3xYDgkIkMlsQVq6U7sUVR8oNC7T0tM0cMayxK4vBPCC-mTMpTDehKyASqQd8Xf7dMMSAMm9sg9EZ7ONNV5Wd0BeTtiN3ocH2w0oOoE8mI4cl1Gcq6NPpJACjvfK-pW1Yi0trArT%7ERq%7EodWs5OCYisoCg8pNxhtcyVZwhBhONzELR3W7qAdlgckjXQ__&Key-Pair-Id=K24J24Z295AEI9: HTTPSConnectionPool(host='cdn-lfs-us-1.hf.co', port=443): Read timed out.\n",
      "Trying to resume download...\n"
     ]
    },
    {
     "data": {
      "application/vnd.jupyter.widget-view+json": {
       "model_id": "9e3a84daf6df41f4b21a89457ef22d18",
       "version_major": 2,
       "version_minor": 0
      },
      "text/plain": [
       "pd12m.053.parquet:   0%|          | 0.00/18.9M [00:00<?, ?B/s]"
      ]
     },
     "metadata": {},
     "output_type": "display_data"
    },
    {
     "data": {
      "application/vnd.jupyter.widget-view+json": {
       "model_id": "4ff2cd5fb7414204aecff40912dacd48",
       "version_major": 2,
       "version_minor": 0
      },
      "text/plain": [
       "pd12m.057.parquet:   0%|          | 0.00/18.9M [00:00<?, ?B/s]"
      ]
     },
     "metadata": {},
     "output_type": "display_data"
    },
    {
     "data": {
      "application/vnd.jupyter.widget-view+json": {
       "model_id": "63c303fc8339418fa36b61d5fd122583",
       "version_major": 2,
       "version_minor": 0
      },
      "text/plain": [
       "pd12m.049.parquet:  56%|#####5    | 10.5M/18.9M [00:00<?, ?B/s]"
      ]
     },
     "metadata": {},
     "output_type": "display_data"
    },
    {
     "data": {
      "application/vnd.jupyter.widget-view+json": {
       "model_id": "bed1eed069ea44fb8851d1b194b4ece8",
       "version_major": 2,
       "version_minor": 0
      },
      "text/plain": [
       "pd12m.059.parquet:   0%|          | 0.00/18.9M [00:00<?, ?B/s]"
      ]
     },
     "metadata": {},
     "output_type": "display_data"
    },
    {
     "data": {
      "application/vnd.jupyter.widget-view+json": {
       "model_id": "801cfb10e90d49d8b6596f022ba11903",
       "version_major": 2,
       "version_minor": 0
      },
      "text/plain": [
       "pd12m.060.parquet:   0%|          | 0.00/18.9M [00:00<?, ?B/s]"
      ]
     },
     "metadata": {},
     "output_type": "display_data"
    },
    {
     "data": {
      "application/vnd.jupyter.widget-view+json": {
       "model_id": "645f8da0dcc84719b514a8ae5c3cfde4",
       "version_major": 2,
       "version_minor": 0
      },
      "text/plain": [
       "pd12m.062.parquet:   0%|          | 0.00/18.9M [00:00<?, ?B/s]"
      ]
     },
     "metadata": {},
     "output_type": "display_data"
    },
    {
     "data": {
      "application/vnd.jupyter.widget-view+json": {
       "model_id": "659c43ec7b2644c4a2794900b291ce40",
       "version_major": 2,
       "version_minor": 0
      },
      "text/plain": [
       "pd12m.061.parquet:   0%|          | 0.00/18.9M [00:00<?, ?B/s]"
      ]
     },
     "metadata": {},
     "output_type": "display_data"
    },
    {
     "data": {
      "application/vnd.jupyter.widget-view+json": {
       "model_id": "067a19ef77b64572a8f1255785fe038e",
       "version_major": 2,
       "version_minor": 0
      },
      "text/plain": [
       "pd12m.063.parquet:   0%|          | 0.00/18.9M [00:00<?, ?B/s]"
      ]
     },
     "metadata": {},
     "output_type": "display_data"
    },
    {
     "data": {
      "application/vnd.jupyter.widget-view+json": {
       "model_id": "1038351b7185442493f3e9e993b05d0f",
       "version_major": 2,
       "version_minor": 0
      },
      "text/plain": [
       "pd12m.064.parquet:   0%|          | 0.00/18.9M [00:00<?, ?B/s]"
      ]
     },
     "metadata": {},
     "output_type": "display_data"
    },
    {
     "data": {
      "application/vnd.jupyter.widget-view+json": {
       "model_id": "8b3b0ed5e56e406ea2b387789e118825",
       "version_major": 2,
       "version_minor": 0
      },
      "text/plain": [
       "pd12m.067.parquet:   0%|          | 0.00/18.9M [00:00<?, ?B/s]"
      ]
     },
     "metadata": {},
     "output_type": "display_data"
    },
    {
     "data": {
      "application/vnd.jupyter.widget-view+json": {
       "model_id": "154dab16bc7b41b39e05935c9b43c0a1",
       "version_major": 2,
       "version_minor": 0
      },
      "text/plain": [
       "pd12m.066.parquet:   0%|          | 0.00/18.9M [00:00<?, ?B/s]"
      ]
     },
     "metadata": {},
     "output_type": "display_data"
    },
    {
     "data": {
      "application/vnd.jupyter.widget-view+json": {
       "model_id": "d44de277b7bf46ccaee6256b1f4bd0b6",
       "version_major": 2,
       "version_minor": 0
      },
      "text/plain": [
       "pd12m.065.parquet:   0%|          | 0.00/18.9M [00:00<?, ?B/s]"
      ]
     },
     "metadata": {},
     "output_type": "display_data"
    },
    {
     "data": {
      "application/vnd.jupyter.widget-view+json": {
       "model_id": "114f473ca6ca49a28b45e141b163c4f2",
       "version_major": 2,
       "version_minor": 0
      },
      "text/plain": [
       "pd12m.069.parquet:   0%|          | 0.00/18.9M [00:00<?, ?B/s]"
      ]
     },
     "metadata": {},
     "output_type": "display_data"
    },
    {
     "data": {
      "application/vnd.jupyter.widget-view+json": {
       "model_id": "ef3b303b97e44669b29249a7a12a3c73",
       "version_major": 2,
       "version_minor": 0
      },
      "text/plain": [
       "pd12m.068.parquet:   0%|          | 0.00/18.9M [00:00<?, ?B/s]"
      ]
     },
     "metadata": {},
     "output_type": "display_data"
    },
    {
     "data": {
      "application/vnd.jupyter.widget-view+json": {
       "model_id": "b9e00e3bfba54c46bac47a2e5b5cb4bc",
       "version_major": 2,
       "version_minor": 0
      },
      "text/plain": [
       "pd12m.072.parquet:   0%|          | 0.00/18.9M [00:00<?, ?B/s]"
      ]
     },
     "metadata": {},
     "output_type": "display_data"
    },
    {
     "data": {
      "application/vnd.jupyter.widget-view+json": {
       "model_id": "1798de7b722f418c99aab836bea98f4c",
       "version_major": 2,
       "version_minor": 0
      },
      "text/plain": [
       "pd12m.071.parquet:   0%|          | 0.00/18.9M [00:00<?, ?B/s]"
      ]
     },
     "metadata": {},
     "output_type": "display_data"
    },
    {
     "data": {
      "application/vnd.jupyter.widget-view+json": {
       "model_id": "d9dabcf842314e769465d0f541c1551d",
       "version_major": 2,
       "version_minor": 0
      },
      "text/plain": [
       "pd12m.070.parquet:   0%|          | 0.00/18.9M [00:00<?, ?B/s]"
      ]
     },
     "metadata": {},
     "output_type": "display_data"
    },
    {
     "data": {
      "application/vnd.jupyter.widget-view+json": {
       "model_id": "1f572f1394a840e6a68596de9ac62277",
       "version_major": 2,
       "version_minor": 0
      },
      "text/plain": [
       "pd12m.073.parquet:   0%|          | 0.00/18.9M [00:00<?, ?B/s]"
      ]
     },
     "metadata": {},
     "output_type": "display_data"
    },
    {
     "data": {
      "application/vnd.jupyter.widget-view+json": {
       "model_id": "53e424d3ad7b4ea4a4bf2b0a8a851fd7",
       "version_major": 2,
       "version_minor": 0
      },
      "text/plain": [
       "pd12m.074.parquet:   0%|          | 0.00/18.9M [00:00<?, ?B/s]"
      ]
     },
     "metadata": {},
     "output_type": "display_data"
    },
    {
     "data": {
      "application/vnd.jupyter.widget-view+json": {
       "model_id": "2d1dcddf463e462f834f2c3a4e1f4d8f",
       "version_major": 2,
       "version_minor": 0
      },
      "text/plain": [
       "pd12m.075.parquet:   0%|          | 0.00/18.9M [00:00<?, ?B/s]"
      ]
     },
     "metadata": {},
     "output_type": "display_data"
    },
    {
     "data": {
      "application/vnd.jupyter.widget-view+json": {
       "model_id": "4035fb14df164e0ba901a3bcba1cc2af",
       "version_major": 2,
       "version_minor": 0
      },
      "text/plain": [
       "pd12m.076.parquet:   0%|          | 0.00/18.9M [00:00<?, ?B/s]"
      ]
     },
     "metadata": {},
     "output_type": "display_data"
    },
    {
     "data": {
      "application/vnd.jupyter.widget-view+json": {
       "model_id": "c3979f64d9e04c74b5667ee7e518ea25",
       "version_major": 2,
       "version_minor": 0
      },
      "text/plain": [
       "pd12m.077.parquet:   0%|          | 0.00/18.9M [00:00<?, ?B/s]"
      ]
     },
     "metadata": {},
     "output_type": "display_data"
    },
    {
     "data": {
      "application/vnd.jupyter.widget-view+json": {
       "model_id": "edc78d4fb4174c2fa3075295fe5aba6d",
       "version_major": 2,
       "version_minor": 0
      },
      "text/plain": [
       "pd12m.078.parquet:   0%|          | 0.00/18.9M [00:00<?, ?B/s]"
      ]
     },
     "metadata": {},
     "output_type": "display_data"
    },
    {
     "data": {
      "application/vnd.jupyter.widget-view+json": {
       "model_id": "22c6830ff031474b88a902607a66aea8",
       "version_major": 2,
       "version_minor": 0
      },
      "text/plain": [
       "pd12m.079.parquet:   0%|          | 0.00/18.9M [00:00<?, ?B/s]"
      ]
     },
     "metadata": {},
     "output_type": "display_data"
    },
    {
     "data": {
      "application/vnd.jupyter.widget-view+json": {
       "model_id": "7fd6c7efd9aa463e9885f860458419e1",
       "version_major": 2,
       "version_minor": 0
      },
      "text/plain": [
       "pd12m.080.parquet:   0%|          | 0.00/18.9M [00:00<?, ?B/s]"
      ]
     },
     "metadata": {},
     "output_type": "display_data"
    },
    {
     "data": {
      "application/vnd.jupyter.widget-view+json": {
       "model_id": "316dbb49c87a43f19d0b293acc9d7896",
       "version_major": 2,
       "version_minor": 0
      },
      "text/plain": [
       "pd12m.081.parquet:   0%|          | 0.00/18.9M [00:00<?, ?B/s]"
      ]
     },
     "metadata": {},
     "output_type": "display_data"
    },
    {
     "data": {
      "application/vnd.jupyter.widget-view+json": {
       "model_id": "973ef2ec608546e2a0f0f8623fe8104d",
       "version_major": 2,
       "version_minor": 0
      },
      "text/plain": [
       "pd12m.082.parquet:   0%|          | 0.00/18.9M [00:00<?, ?B/s]"
      ]
     },
     "metadata": {},
     "output_type": "display_data"
    },
    {
     "data": {
      "application/vnd.jupyter.widget-view+json": {
       "model_id": "39c52541e5114ec0a93f3d1083358738",
       "version_major": 2,
       "version_minor": 0
      },
      "text/plain": [
       "pd12m.083.parquet:   0%|          | 0.00/18.9M [00:00<?, ?B/s]"
      ]
     },
     "metadata": {},
     "output_type": "display_data"
    },
    {
     "data": {
      "application/vnd.jupyter.widget-view+json": {
       "model_id": "710a7512cea749698846752e9eb3ba00",
       "version_major": 2,
       "version_minor": 0
      },
      "text/plain": [
       "pd12m.084.parquet:   0%|          | 0.00/18.9M [00:00<?, ?B/s]"
      ]
     },
     "metadata": {},
     "output_type": "display_data"
    },
    {
     "data": {
      "application/vnd.jupyter.widget-view+json": {
       "model_id": "b937b0464a0e48c9b255f6fd02eb3ab5",
       "version_major": 2,
       "version_minor": 0
      },
      "text/plain": [
       "pd12m.085.parquet:   0%|          | 0.00/18.9M [00:00<?, ?B/s]"
      ]
     },
     "metadata": {},
     "output_type": "display_data"
    },
    {
     "data": {
      "application/vnd.jupyter.widget-view+json": {
       "model_id": "d1657742e278402182f677db808596a8",
       "version_major": 2,
       "version_minor": 0
      },
      "text/plain": [
       "pd12m.086.parquet:   0%|          | 0.00/18.9M [00:00<?, ?B/s]"
      ]
     },
     "metadata": {},
     "output_type": "display_data"
    },
    {
     "data": {
      "application/vnd.jupyter.widget-view+json": {
       "model_id": "8dd3ab04f5f44dedb8b1898f8e53f9f6",
       "version_major": 2,
       "version_minor": 0
      },
      "text/plain": [
       "pd12m.087.parquet:   0%|          | 0.00/18.9M [00:00<?, ?B/s]"
      ]
     },
     "metadata": {},
     "output_type": "display_data"
    },
    {
     "data": {
      "application/vnd.jupyter.widget-view+json": {
       "model_id": "6792631cc21a4b3b99eb73fb03feba9f",
       "version_major": 2,
       "version_minor": 0
      },
      "text/plain": [
       "pd12m.088.parquet:   0%|          | 0.00/18.9M [00:00<?, ?B/s]"
      ]
     },
     "metadata": {},
     "output_type": "display_data"
    },
    {
     "data": {
      "application/vnd.jupyter.widget-view+json": {
       "model_id": "5af815f742e445fe8db462c44e507129",
       "version_major": 2,
       "version_minor": 0
      },
      "text/plain": [
       "pd12m.089.parquet:   0%|          | 0.00/18.9M [00:00<?, ?B/s]"
      ]
     },
     "metadata": {},
     "output_type": "display_data"
    },
    {
     "data": {
      "application/vnd.jupyter.widget-view+json": {
       "model_id": "43a5e0381c7d46b694f2a6d8d4f2fefc",
       "version_major": 2,
       "version_minor": 0
      },
      "text/plain": [
       "pd12m.090.parquet:   0%|          | 0.00/18.9M [00:00<?, ?B/s]"
      ]
     },
     "metadata": {},
     "output_type": "display_data"
    },
    {
     "data": {
      "application/vnd.jupyter.widget-view+json": {
       "model_id": "fa2f0facab434714a27a786e08a04e7e",
       "version_major": 2,
       "version_minor": 0
      },
      "text/plain": [
       "pd12m.092.parquet:   0%|          | 0.00/18.9M [00:00<?, ?B/s]"
      ]
     },
     "metadata": {},
     "output_type": "display_data"
    },
    {
     "data": {
      "application/vnd.jupyter.widget-view+json": {
       "model_id": "9843e7cd35f3495897da0af4bba54458",
       "version_major": 2,
       "version_minor": 0
      },
      "text/plain": [
       "pd12m.093.parquet:   0%|          | 0.00/18.8M [00:00<?, ?B/s]"
      ]
     },
     "metadata": {},
     "output_type": "display_data"
    },
    {
     "data": {
      "application/vnd.jupyter.widget-view+json": {
       "model_id": "380e765126e74620b9eca3d9d1a92ba4",
       "version_major": 2,
       "version_minor": 0
      },
      "text/plain": [
       "pd12m.091.parquet:   0%|          | 0.00/18.9M [00:00<?, ?B/s]"
      ]
     },
     "metadata": {},
     "output_type": "display_data"
    },
    {
     "data": {
      "application/vnd.jupyter.widget-view+json": {
       "model_id": "22d95e051c7e4b32820a3578d4b04a87",
       "version_major": 2,
       "version_minor": 0
      },
      "text/plain": [
       "pd12m.094.parquet:   0%|          | 0.00/18.9M [00:00<?, ?B/s]"
      ]
     },
     "metadata": {},
     "output_type": "display_data"
    },
    {
     "data": {
      "application/vnd.jupyter.widget-view+json": {
       "model_id": "018d11b0981a4e798b8abd2eb55caf2a",
       "version_major": 2,
       "version_minor": 0
      },
      "text/plain": [
       "pd12m.095.parquet:   0%|          | 0.00/18.9M [00:00<?, ?B/s]"
      ]
     },
     "metadata": {},
     "output_type": "display_data"
    },
    {
     "data": {
      "application/vnd.jupyter.widget-view+json": {
       "model_id": "9e0ffbce58e44e3da1b60a1ec98020e5",
       "version_major": 2,
       "version_minor": 0
      },
      "text/plain": [
       "pd12m.096.parquet:   0%|          | 0.00/18.9M [00:00<?, ?B/s]"
      ]
     },
     "metadata": {},
     "output_type": "display_data"
    },
    {
     "data": {
      "application/vnd.jupyter.widget-view+json": {
       "model_id": "47bae899ab9d4835a84d93ab1ae4b9e8",
       "version_major": 2,
       "version_minor": 0
      },
      "text/plain": [
       "pd12m.097.parquet:   0%|          | 0.00/18.9M [00:00<?, ?B/s]"
      ]
     },
     "metadata": {},
     "output_type": "display_data"
    },
    {
     "data": {
      "application/vnd.jupyter.widget-view+json": {
       "model_id": "3623af9fd89740ea9231624a583e904c",
       "version_major": 2,
       "version_minor": 0
      },
      "text/plain": [
       "pd12m.098.parquet:   0%|          | 0.00/18.9M [00:00<?, ?B/s]"
      ]
     },
     "metadata": {},
     "output_type": "display_data"
    },
    {
     "data": {
      "application/vnd.jupyter.widget-view+json": {
       "model_id": "7d6166c11d4a4eba90c417dff6536d25",
       "version_major": 2,
       "version_minor": 0
      },
      "text/plain": [
       "pd12m.099.parquet:   0%|          | 0.00/18.9M [00:00<?, ?B/s]"
      ]
     },
     "metadata": {},
     "output_type": "display_data"
    },
    {
     "data": {
      "application/vnd.jupyter.widget-view+json": {
       "model_id": "9534f533ce6c45afb445619b08d1c58f",
       "version_major": 2,
       "version_minor": 0
      },
      "text/plain": [
       "pd12m.100.parquet:   0%|          | 0.00/18.9M [00:00<?, ?B/s]"
      ]
     },
     "metadata": {},
     "output_type": "display_data"
    },
    {
     "data": {
      "application/vnd.jupyter.widget-view+json": {
       "model_id": "89c5aac76e304d0d9e1f6f9d501c173c",
       "version_major": 2,
       "version_minor": 0
      },
      "text/plain": [
       "pd12m.101.parquet:   0%|          | 0.00/18.9M [00:00<?, ?B/s]"
      ]
     },
     "metadata": {},
     "output_type": "display_data"
    },
    {
     "data": {
      "application/vnd.jupyter.widget-view+json": {
       "model_id": "29980a4aa67147ec83f1bdd463b5912e",
       "version_major": 2,
       "version_minor": 0
      },
      "text/plain": [
       "pd12m.102.parquet:   0%|          | 0.00/18.9M [00:00<?, ?B/s]"
      ]
     },
     "metadata": {},
     "output_type": "display_data"
    },
    {
     "data": {
      "application/vnd.jupyter.widget-view+json": {
       "model_id": "c6a733a71ef841469319b1ef7b0392fd",
       "version_major": 2,
       "version_minor": 0
      },
      "text/plain": [
       "pd12m.103.parquet:   0%|          | 0.00/18.9M [00:00<?, ?B/s]"
      ]
     },
     "metadata": {},
     "output_type": "display_data"
    },
    {
     "data": {
      "application/vnd.jupyter.widget-view+json": {
       "model_id": "0856501563f247489e17aaa568027f26",
       "version_major": 2,
       "version_minor": 0
      },
      "text/plain": [
       "pd12m.104.parquet:   0%|          | 0.00/18.9M [00:00<?, ?B/s]"
      ]
     },
     "metadata": {},
     "output_type": "display_data"
    },
    {
     "data": {
      "application/vnd.jupyter.widget-view+json": {
       "model_id": "25154f5abc974a638ec06f5009661d77",
       "version_major": 2,
       "version_minor": 0
      },
      "text/plain": [
       "pd12m.105.parquet:   0%|          | 0.00/18.9M [00:00<?, ?B/s]"
      ]
     },
     "metadata": {},
     "output_type": "display_data"
    },
    {
     "data": {
      "application/vnd.jupyter.widget-view+json": {
       "model_id": "959c0e3fd2af4f2895e85c4296c8c049",
       "version_major": 2,
       "version_minor": 0
      },
      "text/plain": [
       "pd12m.106.parquet:   0%|          | 0.00/18.9M [00:00<?, ?B/s]"
      ]
     },
     "metadata": {},
     "output_type": "display_data"
    },
    {
     "data": {
      "application/vnd.jupyter.widget-view+json": {
       "model_id": "7248a5e39bd14f2db4ef91e65463fdc5",
       "version_major": 2,
       "version_minor": 0
      },
      "text/plain": [
       "pd12m.107.parquet:   0%|          | 0.00/18.9M [00:00<?, ?B/s]"
      ]
     },
     "metadata": {},
     "output_type": "display_data"
    },
    {
     "data": {
      "application/vnd.jupyter.widget-view+json": {
       "model_id": "105f952864a34c1c981c11d129788a66",
       "version_major": 2,
       "version_minor": 0
      },
      "text/plain": [
       "pd12m.108.parquet:   0%|          | 0.00/18.9M [00:00<?, ?B/s]"
      ]
     },
     "metadata": {},
     "output_type": "display_data"
    },
    {
     "data": {
      "application/vnd.jupyter.widget-view+json": {
       "model_id": "829a81f441054da7867a7875c93627a3",
       "version_major": 2,
       "version_minor": 0
      },
      "text/plain": [
       "pd12m.109.parquet:   0%|          | 0.00/18.9M [00:00<?, ?B/s]"
      ]
     },
     "metadata": {},
     "output_type": "display_data"
    },
    {
     "data": {
      "application/vnd.jupyter.widget-view+json": {
       "model_id": "20b52847edf74f8d9899c60b8ace6cf4",
       "version_major": 2,
       "version_minor": 0
      },
      "text/plain": [
       "pd12m.110.parquet:   0%|          | 0.00/18.9M [00:00<?, ?B/s]"
      ]
     },
     "metadata": {},
     "output_type": "display_data"
    },
    {
     "data": {
      "application/vnd.jupyter.widget-view+json": {
       "model_id": "63ac5f0b9565476f859d4e301ea69b6a",
       "version_major": 2,
       "version_minor": 0
      },
      "text/plain": [
       "pd12m.111.parquet:   0%|          | 0.00/18.9M [00:00<?, ?B/s]"
      ]
     },
     "metadata": {},
     "output_type": "display_data"
    },
    {
     "data": {
      "application/vnd.jupyter.widget-view+json": {
       "model_id": "db582cd0c4fb4120bd74a5140034b353",
       "version_major": 2,
       "version_minor": 0
      },
      "text/plain": [
       "pd12m.112.parquet:   0%|          | 0.00/18.9M [00:00<?, ?B/s]"
      ]
     },
     "metadata": {},
     "output_type": "display_data"
    },
    {
     "data": {
      "application/vnd.jupyter.widget-view+json": {
       "model_id": "6296393391ff42438b10cac3fb89d273",
       "version_major": 2,
       "version_minor": 0
      },
      "text/plain": [
       "pd12m.113.parquet:   0%|          | 0.00/18.9M [00:00<?, ?B/s]"
      ]
     },
     "metadata": {},
     "output_type": "display_data"
    },
    {
     "data": {
      "application/vnd.jupyter.widget-view+json": {
       "model_id": "ecd950176574422eaf290f2e31184b29",
       "version_major": 2,
       "version_minor": 0
      },
      "text/plain": [
       "pd12m.114.parquet:   0%|          | 0.00/18.9M [00:00<?, ?B/s]"
      ]
     },
     "metadata": {},
     "output_type": "display_data"
    },
    {
     "data": {
      "application/vnd.jupyter.widget-view+json": {
       "model_id": "5292d6fed4d743dc8c31d209e95ec443",
       "version_major": 2,
       "version_minor": 0
      },
      "text/plain": [
       "pd12m.115.parquet:   0%|          | 0.00/18.9M [00:00<?, ?B/s]"
      ]
     },
     "metadata": {},
     "output_type": "display_data"
    },
    {
     "data": {
      "application/vnd.jupyter.widget-view+json": {
       "model_id": "0aea119619d3482abe65231b991364b8",
       "version_major": 2,
       "version_minor": 0
      },
      "text/plain": [
       "pd12m.116.parquet:   0%|          | 0.00/18.9M [00:00<?, ?B/s]"
      ]
     },
     "metadata": {},
     "output_type": "display_data"
    },
    {
     "data": {
      "application/vnd.jupyter.widget-view+json": {
       "model_id": "7f58992d2dc24eb2b50583f8ceaa653a",
       "version_major": 2,
       "version_minor": 0
      },
      "text/plain": [
       "pd12m.117.parquet:   0%|          | 0.00/18.9M [00:00<?, ?B/s]"
      ]
     },
     "metadata": {},
     "output_type": "display_data"
    },
    {
     "data": {
      "application/vnd.jupyter.widget-view+json": {
       "model_id": "ab3b2a0b084945eea2034a53d59e4ae3",
       "version_major": 2,
       "version_minor": 0
      },
      "text/plain": [
       "pd12m.118.parquet:   0%|          | 0.00/18.9M [00:00<?, ?B/s]"
      ]
     },
     "metadata": {},
     "output_type": "display_data"
    },
    {
     "data": {
      "application/vnd.jupyter.widget-view+json": {
       "model_id": "a48e7ea311b94886af1cac20dc1d6aaa",
       "version_major": 2,
       "version_minor": 0
      },
      "text/plain": [
       "pd12m.119.parquet:   0%|          | 0.00/18.9M [00:00<?, ?B/s]"
      ]
     },
     "metadata": {},
     "output_type": "display_data"
    },
    {
     "data": {
      "application/vnd.jupyter.widget-view+json": {
       "model_id": "f7cabc72e55d487395a9829364b1f261",
       "version_major": 2,
       "version_minor": 0
      },
      "text/plain": [
       "pd12m.120.parquet:   0%|          | 0.00/18.9M [00:00<?, ?B/s]"
      ]
     },
     "metadata": {},
     "output_type": "display_data"
    },
    {
     "data": {
      "application/vnd.jupyter.widget-view+json": {
       "model_id": "0a89b66ddc9a4b038fa7afa4f8047b75",
       "version_major": 2,
       "version_minor": 0
      },
      "text/plain": [
       "pd12m.121.parquet:   0%|          | 0.00/18.9M [00:00<?, ?B/s]"
      ]
     },
     "metadata": {},
     "output_type": "display_data"
    },
    {
     "data": {
      "application/vnd.jupyter.widget-view+json": {
       "model_id": "e8c3587a426c4cf48275c38b6fbcc779",
       "version_major": 2,
       "version_minor": 0
      },
      "text/plain": [
       "pd12m.122.parquet:   0%|          | 0.00/18.9M [00:00<?, ?B/s]"
      ]
     },
     "metadata": {},
     "output_type": "display_data"
    },
    {
     "data": {
      "application/vnd.jupyter.widget-view+json": {
       "model_id": "0b054973f87e4f6caf68fc4b6dc941b2",
       "version_major": 2,
       "version_minor": 0
      },
      "text/plain": [
       "pd12m.123.parquet:   0%|          | 0.00/18.9M [00:00<?, ?B/s]"
      ]
     },
     "metadata": {},
     "output_type": "display_data"
    },
    {
     "data": {
      "application/vnd.jupyter.widget-view+json": {
       "model_id": "4ae3627218c4445c9d19df75a9f2e313",
       "version_major": 2,
       "version_minor": 0
      },
      "text/plain": [
       "pd12m.124.parquet:   0%|          | 0.00/29.5k [00:00<?, ?B/s]"
      ]
     },
     "metadata": {},
     "output_type": "display_data"
    },
    {
     "data": {
      "application/vnd.jupyter.widget-view+json": {
       "model_id": "da1e25fd63944a64847f0f414d2d7b1d",
       "version_major": 2,
       "version_minor": 0
      },
      "text/plain": [
       "Generating train split:   0%|          | 0/12400094 [00:00<?, ? examples/s]"
      ]
     },
     "metadata": {},
     "output_type": "display_data"
    },
    {
     "ename": "DatasetGenerationError",
     "evalue": "An error occurred while generating the dataset",
     "output_type": "error",
     "traceback": [
      "\u001b[1;31m---------------------------------------------------------------------------\u001b[0m",
      "\u001b[1;31mOSError\u001b[0m                                   Traceback (most recent call last)",
      "File \u001b[1;32m~\\AppData\\Roaming\\Python\\Python312\\site-packages\\datasets\\builder.py:1870\u001b[0m, in \u001b[0;36mArrowBasedBuilder._prepare_split_single\u001b[1;34m(self, gen_kwargs, fpath, file_format, max_shard_size, job_id)\u001b[0m\n\u001b[0;32m   1869\u001b[0m \u001b[38;5;28;01mtry\u001b[39;00m:\n\u001b[1;32m-> 1870\u001b[0m     writer\u001b[38;5;241m.\u001b[39mwrite_table(table)\n\u001b[0;32m   1871\u001b[0m \u001b[38;5;28;01mexcept\u001b[39;00m CastError \u001b[38;5;28;01mas\u001b[39;00m cast_error:\n",
      "File \u001b[1;32m~\\AppData\\Roaming\\Python\\Python312\\site-packages\\datasets\\arrow_writer.py:627\u001b[0m, in \u001b[0;36mArrowWriter.write_table\u001b[1;34m(self, pa_table, writer_batch_size)\u001b[0m\n\u001b[0;32m    626\u001b[0m \u001b[38;5;28mself\u001b[39m\u001b[38;5;241m.\u001b[39m_num_examples \u001b[38;5;241m+\u001b[39m\u001b[38;5;241m=\u001b[39m pa_table\u001b[38;5;241m.\u001b[39mnum_rows\n\u001b[1;32m--> 627\u001b[0m \u001b[38;5;28mself\u001b[39m\u001b[38;5;241m.\u001b[39mpa_writer\u001b[38;5;241m.\u001b[39mwrite_table(pa_table, writer_batch_size)\n",
      "File \u001b[1;32m~\\AppData\\Roaming\\Python\\Python312\\site-packages\\pyarrow\\ipc.pxi:529\u001b[0m, in \u001b[0;36mpyarrow.lib._CRecordBatchWriter.write_table\u001b[1;34m()\u001b[0m\n",
      "File \u001b[1;32m~\\AppData\\Roaming\\Python\\Python312\\site-packages\\pyarrow\\error.pxi:89\u001b[0m, in \u001b[0;36mpyarrow.lib.check_status\u001b[1;34m()\u001b[0m\n",
      "File \u001b[1;32mc:\\ProgramData\\anaconda3\\Lib\\site-packages\\fsspec\\implementations\\local.py:389\u001b[0m, in \u001b[0;36mLocalFileOpener.write\u001b[1;34m(self, *args, **kwargs)\u001b[0m\n\u001b[0;32m    388\u001b[0m \u001b[38;5;28;01mdef\u001b[39;00m \u001b[38;5;21mwrite\u001b[39m(\u001b[38;5;28mself\u001b[39m, \u001b[38;5;241m*\u001b[39margs, \u001b[38;5;241m*\u001b[39m\u001b[38;5;241m*\u001b[39mkwargs):\n\u001b[1;32m--> 389\u001b[0m     \u001b[38;5;28;01mreturn\u001b[39;00m \u001b[38;5;28mself\u001b[39m\u001b[38;5;241m.\u001b[39mf\u001b[38;5;241m.\u001b[39mwrite(\u001b[38;5;241m*\u001b[39margs, \u001b[38;5;241m*\u001b[39m\u001b[38;5;241m*\u001b[39mkwargs)\n",
      "\u001b[1;31mOSError\u001b[0m: [Errno 28] No space left on device",
      "\nThe above exception was the direct cause of the following exception:\n",
      "\u001b[1;31mDatasetGenerationError\u001b[0m                    Traceback (most recent call last)",
      "Cell \u001b[1;32mIn[1], line 3\u001b[0m\n\u001b[0;32m      1\u001b[0m \u001b[38;5;28;01mfrom\u001b[39;00m \u001b[38;5;21;01mdatasets\u001b[39;00m \u001b[38;5;28;01mimport\u001b[39;00m load_dataset\n\u001b[1;32m----> 3\u001b[0m ds \u001b[38;5;241m=\u001b[39m load_dataset(\u001b[38;5;124m\"\u001b[39m\u001b[38;5;124mSpawning/PD12M\u001b[39m\u001b[38;5;124m\"\u001b[39m)\n",
      "File \u001b[1;32m~\\AppData\\Roaming\\Python\\Python312\\site-packages\\datasets\\load.py:2151\u001b[0m, in \u001b[0;36mload_dataset\u001b[1;34m(path, name, data_dir, data_files, split, cache_dir, features, download_config, download_mode, verification_mode, keep_in_memory, save_infos, revision, token, streaming, num_proc, storage_options, trust_remote_code, **config_kwargs)\u001b[0m\n\u001b[0;32m   2148\u001b[0m     \u001b[38;5;28;01mreturn\u001b[39;00m builder_instance\u001b[38;5;241m.\u001b[39mas_streaming_dataset(split\u001b[38;5;241m=\u001b[39msplit)\n\u001b[0;32m   2150\u001b[0m \u001b[38;5;66;03m# Download and prepare data\u001b[39;00m\n\u001b[1;32m-> 2151\u001b[0m builder_instance\u001b[38;5;241m.\u001b[39mdownload_and_prepare(\n\u001b[0;32m   2152\u001b[0m     download_config\u001b[38;5;241m=\u001b[39mdownload_config,\n\u001b[0;32m   2153\u001b[0m     download_mode\u001b[38;5;241m=\u001b[39mdownload_mode,\n\u001b[0;32m   2154\u001b[0m     verification_mode\u001b[38;5;241m=\u001b[39mverification_mode,\n\u001b[0;32m   2155\u001b[0m     num_proc\u001b[38;5;241m=\u001b[39mnum_proc,\n\u001b[0;32m   2156\u001b[0m     storage_options\u001b[38;5;241m=\u001b[39mstorage_options,\n\u001b[0;32m   2157\u001b[0m )\n\u001b[0;32m   2159\u001b[0m \u001b[38;5;66;03m# Build dataset for splits\u001b[39;00m\n\u001b[0;32m   2160\u001b[0m keep_in_memory \u001b[38;5;241m=\u001b[39m (\n\u001b[0;32m   2161\u001b[0m     keep_in_memory \u001b[38;5;28;01mif\u001b[39;00m keep_in_memory \u001b[38;5;129;01mis\u001b[39;00m \u001b[38;5;129;01mnot\u001b[39;00m \u001b[38;5;28;01mNone\u001b[39;00m \u001b[38;5;28;01melse\u001b[39;00m is_small_dataset(builder_instance\u001b[38;5;241m.\u001b[39minfo\u001b[38;5;241m.\u001b[39mdataset_size)\n\u001b[0;32m   2162\u001b[0m )\n",
      "File \u001b[1;32m~\\AppData\\Roaming\\Python\\Python312\\site-packages\\datasets\\builder.py:924\u001b[0m, in \u001b[0;36mDatasetBuilder.download_and_prepare\u001b[1;34m(self, output_dir, download_config, download_mode, verification_mode, dl_manager, base_path, file_format, max_shard_size, num_proc, storage_options, **download_and_prepare_kwargs)\u001b[0m\n\u001b[0;32m    922\u001b[0m \u001b[38;5;28;01mif\u001b[39;00m num_proc \u001b[38;5;129;01mis\u001b[39;00m \u001b[38;5;129;01mnot\u001b[39;00m \u001b[38;5;28;01mNone\u001b[39;00m:\n\u001b[0;32m    923\u001b[0m     prepare_split_kwargs[\u001b[38;5;124m\"\u001b[39m\u001b[38;5;124mnum_proc\u001b[39m\u001b[38;5;124m\"\u001b[39m] \u001b[38;5;241m=\u001b[39m num_proc\n\u001b[1;32m--> 924\u001b[0m \u001b[38;5;28mself\u001b[39m\u001b[38;5;241m.\u001b[39m_download_and_prepare(\n\u001b[0;32m    925\u001b[0m     dl_manager\u001b[38;5;241m=\u001b[39mdl_manager,\n\u001b[0;32m    926\u001b[0m     verification_mode\u001b[38;5;241m=\u001b[39mverification_mode,\n\u001b[0;32m    927\u001b[0m     \u001b[38;5;241m*\u001b[39m\u001b[38;5;241m*\u001b[39mprepare_split_kwargs,\n\u001b[0;32m    928\u001b[0m     \u001b[38;5;241m*\u001b[39m\u001b[38;5;241m*\u001b[39mdownload_and_prepare_kwargs,\n\u001b[0;32m    929\u001b[0m )\n\u001b[0;32m    930\u001b[0m \u001b[38;5;66;03m# Sync info\u001b[39;00m\n\u001b[0;32m    931\u001b[0m \u001b[38;5;28mself\u001b[39m\u001b[38;5;241m.\u001b[39minfo\u001b[38;5;241m.\u001b[39mdataset_size \u001b[38;5;241m=\u001b[39m \u001b[38;5;28msum\u001b[39m(split\u001b[38;5;241m.\u001b[39mnum_bytes \u001b[38;5;28;01mfor\u001b[39;00m split \u001b[38;5;129;01min\u001b[39;00m \u001b[38;5;28mself\u001b[39m\u001b[38;5;241m.\u001b[39minfo\u001b[38;5;241m.\u001b[39msplits\u001b[38;5;241m.\u001b[39mvalues())\n",
      "File \u001b[1;32m~\\AppData\\Roaming\\Python\\Python312\\site-packages\\datasets\\builder.py:1000\u001b[0m, in \u001b[0;36mDatasetBuilder._download_and_prepare\u001b[1;34m(self, dl_manager, verification_mode, **prepare_split_kwargs)\u001b[0m\n\u001b[0;32m    996\u001b[0m split_dict\u001b[38;5;241m.\u001b[39madd(split_generator\u001b[38;5;241m.\u001b[39msplit_info)\n\u001b[0;32m    998\u001b[0m \u001b[38;5;28;01mtry\u001b[39;00m:\n\u001b[0;32m    999\u001b[0m     \u001b[38;5;66;03m# Prepare split will record examples associated to the split\u001b[39;00m\n\u001b[1;32m-> 1000\u001b[0m     \u001b[38;5;28mself\u001b[39m\u001b[38;5;241m.\u001b[39m_prepare_split(split_generator, \u001b[38;5;241m*\u001b[39m\u001b[38;5;241m*\u001b[39mprepare_split_kwargs)\n\u001b[0;32m   1001\u001b[0m \u001b[38;5;28;01mexcept\u001b[39;00m \u001b[38;5;167;01mOSError\u001b[39;00m \u001b[38;5;28;01mas\u001b[39;00m e:\n\u001b[0;32m   1002\u001b[0m     \u001b[38;5;28;01mraise\u001b[39;00m \u001b[38;5;167;01mOSError\u001b[39;00m(\n\u001b[0;32m   1003\u001b[0m         \u001b[38;5;124m\"\u001b[39m\u001b[38;5;124mCannot find data file. \u001b[39m\u001b[38;5;124m\"\u001b[39m\n\u001b[0;32m   1004\u001b[0m         \u001b[38;5;241m+\u001b[39m (\u001b[38;5;28mself\u001b[39m\u001b[38;5;241m.\u001b[39mmanual_download_instructions \u001b[38;5;129;01mor\u001b[39;00m \u001b[38;5;124m\"\u001b[39m\u001b[38;5;124m\"\u001b[39m)\n\u001b[0;32m   1005\u001b[0m         \u001b[38;5;241m+\u001b[39m \u001b[38;5;124m\"\u001b[39m\u001b[38;5;130;01m\\n\u001b[39;00m\u001b[38;5;124mOriginal error:\u001b[39m\u001b[38;5;130;01m\\n\u001b[39;00m\u001b[38;5;124m\"\u001b[39m\n\u001b[0;32m   1006\u001b[0m         \u001b[38;5;241m+\u001b[39m \u001b[38;5;28mstr\u001b[39m(e)\n\u001b[0;32m   1007\u001b[0m     ) \u001b[38;5;28;01mfrom\u001b[39;00m \u001b[38;5;28;01mNone\u001b[39;00m\n",
      "File \u001b[1;32m~\\AppData\\Roaming\\Python\\Python312\\site-packages\\datasets\\builder.py:1741\u001b[0m, in \u001b[0;36mArrowBasedBuilder._prepare_split\u001b[1;34m(self, split_generator, file_format, num_proc, max_shard_size)\u001b[0m\n\u001b[0;32m   1739\u001b[0m job_id \u001b[38;5;241m=\u001b[39m \u001b[38;5;241m0\u001b[39m\n\u001b[0;32m   1740\u001b[0m \u001b[38;5;28;01mwith\u001b[39;00m pbar:\n\u001b[1;32m-> 1741\u001b[0m     \u001b[38;5;28;01mfor\u001b[39;00m job_id, done, content \u001b[38;5;129;01min\u001b[39;00m \u001b[38;5;28mself\u001b[39m\u001b[38;5;241m.\u001b[39m_prepare_split_single(\n\u001b[0;32m   1742\u001b[0m         gen_kwargs\u001b[38;5;241m=\u001b[39mgen_kwargs, job_id\u001b[38;5;241m=\u001b[39mjob_id, \u001b[38;5;241m*\u001b[39m\u001b[38;5;241m*\u001b[39m_prepare_split_args\n\u001b[0;32m   1743\u001b[0m     ):\n\u001b[0;32m   1744\u001b[0m         \u001b[38;5;28;01mif\u001b[39;00m done:\n\u001b[0;32m   1745\u001b[0m             result \u001b[38;5;241m=\u001b[39m content\n",
      "File \u001b[1;32m~\\AppData\\Roaming\\Python\\Python312\\site-packages\\datasets\\builder.py:1897\u001b[0m, in \u001b[0;36mArrowBasedBuilder._prepare_split_single\u001b[1;34m(self, gen_kwargs, fpath, file_format, max_shard_size, job_id)\u001b[0m\n\u001b[0;32m   1895\u001b[0m     \u001b[38;5;28;01mif\u001b[39;00m \u001b[38;5;28misinstance\u001b[39m(e, DatasetGenerationError):\n\u001b[0;32m   1896\u001b[0m         \u001b[38;5;28;01mraise\u001b[39;00m\n\u001b[1;32m-> 1897\u001b[0m     \u001b[38;5;28;01mraise\u001b[39;00m DatasetGenerationError(\u001b[38;5;124m\"\u001b[39m\u001b[38;5;124mAn error occurred while generating the dataset\u001b[39m\u001b[38;5;124m\"\u001b[39m) \u001b[38;5;28;01mfrom\u001b[39;00m \u001b[38;5;21;01me\u001b[39;00m\n\u001b[0;32m   1899\u001b[0m \u001b[38;5;28;01myield\u001b[39;00m job_id, \u001b[38;5;28;01mTrue\u001b[39;00m, (total_num_examples, total_num_bytes, writer\u001b[38;5;241m.\u001b[39m_features, num_shards, shard_lengths)\n",
      "\u001b[1;31mDatasetGenerationError\u001b[0m: An error occurred while generating the dataset"
     ]
    }
   ],
   "source": [
    "from datasets import load_dataset\n",
    "\n",
    "ds = load_dataset(\"Spawning/PD12M\" )"
   ]
  },
  {
   "cell_type": "code",
   "execution_count": null,
   "metadata": {},
   "outputs": [
    {
     "ename": "",
     "evalue": "",
     "output_type": "error",
     "traceback": [
      "\u001b[1;31mRunning cells with 'Python 3.12.6' requires the ipykernel package.\n",
      "\u001b[1;31mRun the following command to install 'ipykernel' into the Python environment. \n",
      "\u001b[1;31mCommand: 'c:/Users/LENOVO/AppData/Local/Programs/Python/Python312/python.exe -m pip install ipykernel -U --user --force-reinstall'"
     ]
    }
   ],
   "source": [
    "from torch.utils.data import Dataset, DataLoader"
   ]
  },
  {
   "cell_type": "code",
   "execution_count": 3,
   "metadata": {},
   "outputs": [
    {
     "ename": "NameError",
     "evalue": "name 'Dataset' is not defined",
     "output_type": "error",
     "traceback": [
      "\u001b[1;31m---------------------------------------------------------------------------\u001b[0m",
      "\u001b[1;31mNameError\u001b[0m                                 Traceback (most recent call last)",
      "Cell \u001b[1;32mIn[3], line 1\u001b[0m\n\u001b[1;32m----> 1\u001b[0m \u001b[38;5;28;01mclass\u001b[39;00m \u001b[38;5;21;01mSpawningPD12Dataset\u001b[39;00m(Dataset):\n\u001b[0;32m      2\u001b[0m     \u001b[38;5;28;01mdef\u001b[39;00m \u001b[38;5;21m__init__\u001b[39m(\u001b[38;5;28mself\u001b[39m, transform\u001b[38;5;241m=\u001b[39m\u001b[38;5;28;01mNone\u001b[39;00m, max_images\u001b[38;5;241m=\u001b[39m\u001b[38;5;241m60000\u001b[39m):\n\u001b[0;32m      3\u001b[0m \u001b[38;5;250m        \u001b[39m\u001b[38;5;124;03m\"\"\"\u001b[39;00m\n\u001b[0;32m      4\u001b[0m \u001b[38;5;124;03m        Args:\u001b[39;00m\n\u001b[0;32m      5\u001b[0m \u001b[38;5;124;03m            transform (callable, optional): Optional transform to be applied on images\u001b[39;00m\n\u001b[0;32m      6\u001b[0m \u001b[38;5;124;03m            max_images (int): Maximum number of images to include in the dataset\u001b[39;00m\n\u001b[0;32m      7\u001b[0m \u001b[38;5;124;03m        \"\"\"\u001b[39;00m\n",
      "\u001b[1;31mNameError\u001b[0m: name 'Dataset' is not defined"
     ]
    }
   ],
   "source": [
    "class SpawningPD12Dataset(Dataset):\n",
    "    def __init__(self, transform=None, max_images=60000):\n",
    "        \"\"\"\n",
    "        Args:\n",
    "            transform (callable, optional): Optional transform to be applied on images\n",
    "            max_images (int): Maximum number of images to include in the dataset\n",
    "        \"\"\"\n",
    "        self.dataset = load_dataset(\"spawning/pd12\", split=\"train\")\n",
    "        self.transform = transform\n",
    "        self.max_images = min(max_images, len(self.dataset))\n",
    "        \n",
    "    def __len__(self):\n",
    "        return self.max_images\n",
    "\n",
    "    def __getitem__(self, idx):\n",
    "        item = self.dataset[idx]\n",
    "        \n",
    "        # Load and convert image\n",
    "        image = Image.open(item['image'].convert('RGB'))\n",
    "        caption = item['text']\n",
    "        \n",
    "        if self.transform:\n",
    "            image = self.transform(image)\n",
    "\n",
    "        return image, caption"
   ]
  },
  {
   "cell_type": "code",
   "execution_count": null,
   "metadata": {},
   "outputs": [],
   "source": [
    "dataset = SpawningPD12Dataset(transform=transform, max_images=60000)"
   ]
  }
 ],
 "metadata": {
  "kernelspec": {
   "display_name": "Python 3",
   "language": "python",
   "name": "python3"
  },
  "language_info": {
   "codemirror_mode": {
    "name": "ipython",
    "version": 3
   },
   "file_extension": ".py",
   "mimetype": "text/x-python",
   "name": "python",
   "nbconvert_exporter": "python",
   "pygments_lexer": "ipython3",
   "version": "3.12.6"
  }
 },
 "nbformat": 4,
 "nbformat_minor": 2
}
