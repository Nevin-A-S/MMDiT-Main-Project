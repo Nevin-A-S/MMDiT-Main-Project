{
 "cells": [
  {
   "cell_type": "code",
   "execution_count": 68,
   "metadata": {},
   "outputs": [],
   "source": [
    "import os\n",
    "import pydicom\n",
    "import numpy as np\n",
    "from PIL import Image\n",
    "\n",
    "def dcm_to_png(dcm_path, output_folder, index):\n",
    "    os.makedirs(output_folder, exist_ok=True)\n",
    "    dicom_image = pydicom.dcmread(dcm_path)\n",
    "    \n",
    "    image_array = dicom_image.pixel_array.astype(np.float32)\n",
    "\n",
    "    if np.max(image_array) == 0:\n",
    "        print(f\"Skipping black image: {dcm_path}\")\n",
    "        return False , False\n",
    "\n",
    "    image_array -= np.min(image_array)\n",
    "    if np.max(image_array) > 0: \n",
    "        image_array = (image_array / np.max(image_array)) * 255.0\n",
    "    \n",
    "    image_array = image_array.astype(np.uint8)\n",
    "\n",
    "    img = Image.fromarray(image_array)\n",
    "    \n",
    "    filename = os.path.splitext(os.path.basename(dcm_path))[0] + f\"{index}.png\"\n",
    "    output_path = os.path.join(output_folder, filename)\n",
    "    \n",
    "    img.save(output_path)\n",
    "    print(f\"Converted: {dcm_path} -> {output_path}\")\n",
    "\n",
    "    return (True , output_path)\n",
    "\n",
    "def batch_convert_dcm_to_png(input_folder, output_folder):\n",
    "    os.makedirs(output_folder, exist_ok=True)\n",
    "    for filename in os.listdir(input_folder):\n",
    "        if filename.endswith(\".dcm\"):\n",
    "            dcm_to_png(os.path.join(input_folder, filename), output_folder)\n",
    "\n"
   ]
  },
  {
   "cell_type": "code",
   "execution_count": 69,
   "metadata": {},
   "outputs": [],
   "source": [
    "file_path = \"/mnt/i/main_project_linux/OpenMMDiT/datasets/Cancer Archieve Tumor Large/PKG - RSNA-ASNR-MICCAI-BraTS-2021/RSNA-ASNR-MICCAI-BraTS-2021/BraTS2021_TrainingSet_dcm\""
   ]
  },
  {
   "cell_type": "code",
   "execution_count": 70,
   "metadata": {},
   "outputs": [],
   "source": [
    "output_file = \"/mnt/i/main_project_linux/OpenMMDiT/datasets/MRI_DATASET/Large_Tumor_dataset_processed\""
   ]
  },
  {
   "cell_type": "code",
   "execution_count": 71,
   "metadata": {},
   "outputs": [],
   "source": [
    "import os"
   ]
  },
  {
   "cell_type": "code",
   "execution_count": 72,
   "metadata": {},
   "outputs": [],
   "source": [
    "csv_data = []"
   ]
  },
  {
   "cell_type": "code",
   "execution_count": null,
   "metadata": {},
   "outputs": [],
   "source": [
    "global_index = 1\n",
    "for datasets in os.listdir(file_path):\n",
    "    dataset_root_path = os.path.join(file_path,datasets)\n",
    "    for dataset_patient_number in os.listdir(dataset_root_path):\n",
    "        patient_root_folder = os.path.join(dataset_root_path,dataset_patient_number)\n",
    "        for mri_types in os.listdir(patient_root_folder):\n",
    "            mri_type_folder = os.path.join(patient_root_folder,mri_types)\n",
    "            for dcm_file_name in os.listdir(mri_type_folder):\n",
    "                if dcm_file_name.endswith(\".dcm\"):\n",
    "                    dcm_file_path = os.path.join(mri_type_folder,dcm_file_name)\n",
    "                    validity, output_file_name = dcm_to_png(dcm_file_path , output_file , global_index)\n",
    "                    if validity:\n",
    "                        global_index+=1\n",
    "                        if 'T1' in mri_types:\n",
    "                            caption = 'T1-Weighted Brain MRI of a Patient with Tumour. '\n",
    "                        if 'T2' in mri_types:\n",
    "                            caption = 'T2-Weighted Brain MRI of a Patient with Tumour. '\n",
    "                        if 'FLAIR' in mri_types:\n",
    "                            caption = 'Flair Brain MRI of a Patient with Tumour. '\n",
    "                        csv_data.append([output_file_name[36:] , caption])\n",
    "import pandas as pd\n",
    "df = pd.DataFrame(csv_data,columns=[\"image\",\"caption\"])\n",
    "df.to_csv(output_file,index=False)"
   ]
  },
  {
   "cell_type": "code",
   "execution_count": null,
   "metadata": {},
   "outputs": [],
   "source": [
    "len(\"/mnt/i/main_project_linux/OpenMMDiT/\")"
   ]
  },
  {
   "cell_type": "code",
   "execution_count": null,
   "metadata": {},
   "outputs": [],
   "source": [
    "df.head()"
   ]
  },
  {
   "cell_type": "code",
   "execution_count": null,
   "metadata": {},
   "outputs": [],
   "source": [
    "print(csv_data)"
   ]
  },
  {
   "cell_type": "code",
   "execution_count": 79,
   "metadata": {},
   "outputs": [],
   "source": [
    "df.to_csv('/mnt/i/main_project_linux/OpenMMDiT/datasets/MRI_DATASET/Captions.csv',index=False)"
   ]
  },
  {
   "cell_type": "code",
   "execution_count": null,
   "metadata": {},
   "outputs": [],
   "source": []
  }
 ],
 "metadata": {
  "kernelspec": {
   "display_name": "data_prep",
   "language": "python",
   "name": "python3"
  },
  "language_info": {
   "codemirror_mode": {
    "name": "ipython",
    "version": 3
   },
   "file_extension": ".py",
   "mimetype": "text/x-python",
   "name": "python",
   "nbconvert_exporter": "python",
   "pygments_lexer": "ipython3",
   "version": "3.10.16"
  }
 },
 "nbformat": 4,
 "nbformat_minor": 2
}
