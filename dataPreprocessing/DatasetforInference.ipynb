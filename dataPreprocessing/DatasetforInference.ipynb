{
 "cells": [
  {
   "cell_type": "code",
   "execution_count": 1,
   "metadata": {},
   "outputs": [],
   "source": [
    "import pandas as pd"
   ]
  },
  {
   "cell_type": "code",
   "execution_count": 3,
   "metadata": {},
   "outputs": [],
   "source": [
    "data = pd.read_csv('balanced_dataset.csv')"
   ]
  },
  {
   "cell_type": "code",
   "execution_count": 4,
   "metadata": {},
   "outputs": [
    {
     "data": {
      "text/plain": [
       "caption\n",
       "Brain MRI of a patient with Non Demented alzheimers          3200\n",
       "Brain MRI of a patient with Very Mild Demented alzheimers    2240\n",
       "Brain MRI of a patient with Pituitary tumour                 1486\n",
       "Brain MRI with glioma tumor                                  1426\n",
       "Brain MRI of a patient with Giloma tumour                    1321\n",
       "Brain MRI of a patient without any disease                   1312\n",
       "Brain MRI of a patient with Meningioma tumour                1250\n",
       "Flair Brain MRI of a Patient with Tumour.                    1000\n",
       "T2-Weighted Brain MRI of a Patient with Tumour.              1000\n",
       "T1-Weighted Brain MRI of a Patient with Tumour.              1000\n",
       "Brain MRI with pituitary tumor                                930\n",
       "Brain MRI of a patient with Mild Demented alzheimers          896\n",
       "Brain MRI with meningioma tumor                               708\n",
       "T1-Weighted Brain MRI of a Patient with Sclerosis.            600\n",
       "Flair Brain MRI of a Patient with Sclerosis.                  600\n",
       "T2-Weighted Brain MRI of a Patient with Sclerosis.            600\n",
       "Brain MRI of a patient with Moderate Demented alzheimers       64\n",
       "Name: count, dtype: int64"
      ]
     },
     "execution_count": 4,
     "metadata": {},
     "output_type": "execute_result"
    }
   ],
   "source": [
    "data['caption'].value_counts()"
   ]
  },
  {
   "cell_type": "code",
   "execution_count": 5,
   "metadata": {},
   "outputs": [],
   "source": [
    "large_dataset_subset = data.sample(frac=1).groupby('caption').head(500)"
   ]
  },
  {
   "cell_type": "code",
   "execution_count": 7,
   "metadata": {},
   "outputs": [
    {
     "data": {
      "text/plain": [
       "caption\n",
       "Flair Brain MRI of a Patient with Sclerosis.                 500\n",
       "Brain MRI of a patient with Very Mild Demented alzheimers    500\n",
       "Brain MRI of a patient without any disease                   500\n",
       "Brain MRI of a patient with Pituitary tumour                 500\n",
       "T1-Weighted Brain MRI of a Patient with Tumour.              500\n",
       "Brain MRI of a patient with Non Demented alzheimers          500\n",
       "Brain MRI with meningioma tumor                              500\n",
       "Brain MRI with pituitary tumor                               500\n",
       "Brain MRI of a patient with Meningioma tumour                500\n",
       "Brain MRI of a patient with Mild Demented alzheimers         500\n",
       "Flair Brain MRI of a Patient with Tumour.                    500\n",
       "T1-Weighted Brain MRI of a Patient with Sclerosis.           500\n",
       "T2-Weighted Brain MRI of a Patient with Tumour.              500\n",
       "Brain MRI with glioma tumor                                  500\n",
       "Brain MRI of a patient with Giloma tumour                    500\n",
       "T2-Weighted Brain MRI of a Patient with Sclerosis.           500\n",
       "Brain MRI of a patient with Moderate Demented alzheimers      64\n",
       "Name: count, dtype: int64"
      ]
     },
     "execution_count": 7,
     "metadata": {},
     "output_type": "execute_result"
    }
   ],
   "source": [
    "large_dataset_subset['caption'].value_counts()"
   ]
  },
  {
   "cell_type": "code",
   "execution_count": 8,
   "metadata": {},
   "outputs": [],
   "source": [
    "large_dataset_subset.to_csv('inference_dataset.csv', index=False)"
   ]
  },
  {
   "cell_type": "code",
   "execution_count": null,
   "metadata": {},
   "outputs": [],
   "source": []
  }
 ],
 "metadata": {
  "kernelspec": {
   "display_name": "py310",
   "language": "python",
   "name": "python3"
  },
  "language_info": {
   "codemirror_mode": {
    "name": "ipython",
    "version": 3
   },
   "file_extension": ".py",
   "mimetype": "text/x-python",
   "name": "python",
   "nbconvert_exporter": "python",
   "pygments_lexer": "ipython3",
   "version": "3.10.16"
  }
 },
 "nbformat": 4,
 "nbformat_minor": 2
}
