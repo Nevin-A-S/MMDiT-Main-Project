{
 "cells": [
  {
   "cell_type": "code",
   "execution_count": null,
   "metadata": {},
   "outputs": [
    {
     "name": "stderr",
     "output_type": "stream",
     "text": [
      "/home/zyro/.local/lib/python3.10/site-packages/tqdm/auto.py:21: TqdmWarning: IProgress not found. Please update jupyter and ipywidgets. See https://ipywidgets.readthedocs.io/en/stable/user_install.html\n",
      "  from .autonotebook import tqdm as notebook_tqdm\n",
      "Downloading data: 100%|██████████| 3759/3759 [02:32<00:00, 24.70files/s]\n",
      "Downloading data: 100%|██████████| 1073/1073 [00:43<00:00, 24.46files/s]\n",
      "Downloading data: 100%|██████████| 537/537 [00:22<00:00, 23.88files/s]\n",
      "Generating train split: 100%|██████████| 3759/3759 [00:02<00:00, 1839.00 examples/s]\n",
      "Generating validation split: 100%|██████████| 1073/1073 [00:00<00:00, 1946.00 examples/s]\n",
      "Generating test split: 100%|██████████| 537/537 [00:00<00:00, 2018.89 examples/s]\n"
     ]
    }
   ],
   "source": [
    "from datasets import load_dataset\n",
    "\n",
    "dataset = load_dataset(\"PranomVignesh/MRI-Images-of-Brain-Tumor\")\n",
    "\n"
   ]
  },
  {
   "cell_type": "code",
   "execution_count": 6,
   "metadata": {},
   "outputs": [],
   "source": [
    "import os \n",
    "import pandas as pd\n",
    "\n",
    "base_dir = \"/mnt/i/main_project_linux/OpenMMDiT/datasets/brain_tumor_hf\"\n",
    "os.makedirs(base_dir, exist_ok=True)\n",
    "\n",
    "data_records = []\n",
    "\n",
    "for split in dataset.keys():\n",
    "    split_dir = os.path.join(base_dir, split)\n",
    "    os.makedirs(split_dir, exist_ok=True)\n",
    "\n",
    "    for i, sample in enumerate(dataset[split]):\n",
    "        image = sample[\"image\"]\n",
    "        label = sample[\"label\"] \n",
    "\n",
    "        filename = f\"{split}_{i}.png\"\n",
    "        image_path = os.path.join(split_dir, filename)\n",
    "\n",
    "        image.save(image_path)\n",
    "\n",
    "        data_records.append([image_path, filename, label])\n",
    "\n",
    "df = pd.DataFrame(data_records, columns=[\"image_path\", \"filename\", \"label\"])\n",
    "df.to_csv(os.path.join(base_dir, \"dataset_info.csv\"), index=False)\n"
   ]
  },
  {
   "cell_type": "code",
   "execution_count": null,
   "metadata": {},
   "outputs": [],
   "source": []
  }
 ],
 "metadata": {
  "kernelspec": {
   "display_name": "data_prep",
   "language": "python",
   "name": "python3"
  },
  "language_info": {
   "codemirror_mode": {
    "name": "ipython",
    "version": 3
   },
   "file_extension": ".py",
   "mimetype": "text/x-python",
   "name": "python",
   "nbconvert_exporter": "python",
   "pygments_lexer": "ipython3",
   "version": "3.10.16"
  }
 },
 "nbformat": 4,
 "nbformat_minor": 2
}
