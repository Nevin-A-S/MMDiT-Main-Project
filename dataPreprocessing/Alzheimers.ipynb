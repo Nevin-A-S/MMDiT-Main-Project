{
 "cells": [
  {
   "cell_type": "code",
   "execution_count": 1,
   "metadata": {},
   "outputs": [
    {
     "name": "stderr",
     "output_type": "stream",
     "text": [
      "/home/zyro/.local/lib/python3.10/site-packages/tqdm/auto.py:21: TqdmWarning: IProgress not found. Please update jupyter and ipywidgets. See https://ipywidgets.readthedocs.io/en/stable/user_install.html\n",
      "  from .autonotebook import tqdm as notebook_tqdm\n",
      "Generating train split: 100%|██████████| 5120/5120 [00:00<00:00, 48544.53 examples/s]\n",
      "Generating test split: 100%|██████████| 1280/1280 [00:00<00:00, 96429.44 examples/s]\n"
     ]
    }
   ],
   "source": [
    "from datasets import load_dataset\n",
    "\n",
    "dataset = load_dataset(\"Falah/Alzheimer_MRI\")"
   ]
  },
  {
   "cell_type": "code",
   "execution_count": 3,
   "metadata": {},
   "outputs": [],
   "source": [
    "import os \n",
    "import pandas as pd\n",
    "\n",
    "base_dir = \"/mnt/i/main_project_linux/OpenMMDiT/datasets/MRI_DATASET/alzheimers_hf\"\n",
    "os.makedirs(base_dir, exist_ok=True)\n",
    "\n",
    "data_records = []\n",
    "\n",
    "for split in dataset.keys():\n",
    "    split_dir = os.path.join(base_dir, split)\n",
    "    os.makedirs(split_dir, exist_ok=True)\n",
    "\n",
    "    for i, sample in enumerate(dataset[split]):\n",
    "        image = sample[\"image\"]\n",
    "        label = sample[\"label\"] \n",
    "\n",
    "        filename = f\"{split}_{i}.png\"\n",
    "        image_path = os.path.join(split_dir, filename)\n",
    "\n",
    "        image.save(image_path)\n",
    "\n",
    "        data_records.append([image_path, filename, label])\n",
    "\n",
    "df = pd.DataFrame(data_records, columns=[\"image_path\", \"filename\", \"label\"])\n",
    "df.to_csv(os.path.join(base_dir, \"dataset_info.csv\"), index=False)"
   ]
  },
  {
   "cell_type": "code",
   "execution_count": null,
   "metadata": {},
   "outputs": [],
   "source": []
  }
 ],
 "metadata": {
  "kernelspec": {
   "display_name": "data_prep",
   "language": "python",
   "name": "python3"
  },
  "language_info": {
   "codemirror_mode": {
    "name": "ipython",
    "version": 3
   },
   "file_extension": ".py",
   "mimetype": "text/x-python",
   "name": "python",
   "nbconvert_exporter": "python",
   "pygments_lexer": "ipython3",
   "version": "3.10.16"
  }
 },
 "nbformat": 4,
 "nbformat_minor": 2
}
