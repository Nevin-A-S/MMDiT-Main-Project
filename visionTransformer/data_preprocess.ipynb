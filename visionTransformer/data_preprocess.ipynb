{
 "cells": [
  {
   "cell_type": "code",
   "execution_count": 1,
   "metadata": {},
   "outputs": [],
   "source": [
    "import pandas as pd"
   ]
  },
  {
   "cell_type": "code",
   "execution_count": 4,
   "metadata": {},
   "outputs": [],
   "source": [
    "dataFrame = pd.read_csv(\"D:/Main Project/OpenMMdit/MMDiT-Main-Project/dataPreprocessing/balanced_dataset.csv\")"
   ]
  },
  {
   "cell_type": "code",
   "execution_count": 6,
   "metadata": {},
   "outputs": [
    {
     "data": {
      "text/plain": [
       "caption\n",
       "Brain MRI of a patient with Non Demented alzheimers          3200\n",
       "Brain MRI of a patient with Very Mild Demented alzheimers    2240\n",
       "Brain MRI of a patient with Pituitary tumour                 1486\n",
       "Brain MRI with glioma tumor                                  1426\n",
       "Brain MRI of a patient with Giloma tumour                    1321\n",
       "Brain MRI of a patient without any disease                   1312\n",
       "Brain MRI of a patient with Meningioma tumour                1250\n",
       "T1-Weighted Brain MRI of a Patient with Tumour.              1000\n",
       "T2-Weighted Brain MRI of a Patient with Tumour.              1000\n",
       "Flair Brain MRI of a Patient with Tumour.                    1000\n",
       "Brain MRI with pituitary tumor                                930\n",
       "Brain MRI of a patient with Mild Demented alzheimers          896\n",
       "Brain MRI with meningioma tumor                               708\n",
       "T2-Weighted Brain MRI of a Patient with Sclerosis.            600\n",
       "T1-Weighted Brain MRI of a Patient with Sclerosis.            600\n",
       "Flair Brain MRI of a Patient with Sclerosis.                  600\n",
       "Brain MRI of a patient with Moderate Demented alzheimers       64\n",
       "Name: count, dtype: int64"
      ]
     },
     "execution_count": 6,
     "metadata": {},
     "output_type": "execute_result"
    }
   ],
   "source": [
    "dataFrame['caption'].value_counts()"
   ]
  },
  {
   "cell_type": "code",
   "execution_count": 19,
   "metadata": {},
   "outputs": [],
   "source": [
    "dataFrame['caption'].replace(['Brain MRI of a patient with Non Demented alzheimers'],'Non Demented Alzheimers',inplace=True)\n",
    "dataFrame['caption'].replace(['Brain MRI of a patient with Very Mild Demented alzheimers'],'Very Mild Demented Alzheimers',inplace=True)\n",
    "dataFrame['caption'].replace(['Brain MRI with glioma tumor','Brain MRI of a patient with Giloma tumour'],'Glioma Tumor',inplace=True)\n",
    "dataFrame['caption'].replace(['Brain MRI of a patient with Mild Demented alzheimers'],'Mild Demented Alzheimers',inplace=True)\n",
    "dataFrame['caption'].replace(['Brain MRI of a patient with Moderate Demented alzheimers'],'Moderate Demented Alzheimers',inplace=True)\n",
    "dataFrame['caption'].replace([\"Brain MRI of a patient with Pituitary tumour\",'Brain MRI with pituitary tumor'],'Pituitary Tumor',inplace=True)\n",
    "dataFrame['caption'].replace(['Brain MRI of a patient without any disease'],'No Disease',inplace=True)\n",
    "dataFrame['caption'].replace([\"T2-Weighted Brain MRI of a Patient with Tumour. \",'T1-Weighted Brain MRI of a Patient with Tumour. ','Flair Brain MRI of a Patient with Tumour. '],'Brain Tumor',inplace=True)\n",
    "dataFrame['caption'].replace(['Flair Brain MRI of a Patient with Sclerosis.','T1-Weighted Brain MRI of a Patient with Sclerosis.','T2-Weighted Brain MRI of a Patient with Sclerosis.'],'Brain Sclerosis',inplace=True)\n",
    "dataFrame['caption'].replace(['Brain MRI with meningioma tumor','Brain MRI of a patient with Meningioma tumour'],'Meningioma tumour',inplace=True)"
   ]
  },
  {
   "cell_type": "code",
   "execution_count": 20,
   "metadata": {},
   "outputs": [
    {
     "data": {
      "text/plain": [
       "caption\n",
       "Non Demented Alzheimers          3200\n",
       "Brain Tumor                      3000\n",
       "Glioma Tumor                     2747\n",
       "Pituitary Tumor                  2416\n",
       "Very Mild Demented Alzheimers    2240\n",
       "Meningioma tumour                1958\n",
       "Brain Sclerosis                  1800\n",
       "No Disease                       1312\n",
       "Mild Demented Alzheimers          896\n",
       "Moderate Demented Alzheimers       64\n",
       "Name: count, dtype: int64"
      ]
     },
     "execution_count": 20,
     "metadata": {},
     "output_type": "execute_result"
    }
   ],
   "source": [
    "dataFrame['caption'].value_counts()"
   ]
  },
  {
   "cell_type": "code",
   "execution_count": 23,
   "metadata": {},
   "outputs": [],
   "source": [
    "dataFrame.to_csv(\"dataset_for_training.csv\",index=False)"
   ]
  },
  {
   "cell_type": "code",
   "execution_count": 24,
   "metadata": {},
   "outputs": [
    {
     "data": {
      "text/plain": [
       "caption\n",
       "Non Demented Alzheimers          3200\n",
       "Brain Tumor                      3000\n",
       "Glioma Tumor                     2747\n",
       "Pituitary Tumor                  2416\n",
       "Very Mild Demented Alzheimers    2240\n",
       "Meningioma tumour                1958\n",
       "Brain Sclerosis                  1800\n",
       "No Disease                       1312\n",
       "Mild Demented Alzheimers          896\n",
       "Moderate Demented Alzheimers       64\n",
       "Name: count, dtype: int64"
      ]
     },
     "execution_count": 24,
     "metadata": {},
     "output_type": "execute_result"
    }
   ],
   "source": [
    "dataFrame['caption'].value_counts()"
   ]
  },
  {
   "cell_type": "code",
   "execution_count": null,
   "metadata": {},
   "outputs": [],
   "source": []
  }
 ],
 "metadata": {
  "kernelspec": {
   "display_name": "base",
   "language": "python",
   "name": "python3"
  },
  "language_info": {
   "codemirror_mode": {
    "name": "ipython",
    "version": 3
   },
   "file_extension": ".py",
   "mimetype": "text/x-python",
   "name": "python",
   "nbconvert_exporter": "python",
   "pygments_lexer": "ipython3",
   "version": "3.12.4"
  }
 },
 "nbformat": 4,
 "nbformat_minor": 2
}
