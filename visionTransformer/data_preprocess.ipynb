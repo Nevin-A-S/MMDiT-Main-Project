{
 "cells": [
  {
   "cell_type": "code",
   "execution_count": 2,
   "metadata": {},
   "outputs": [],
   "source": [
    "import pandas as pd"
   ]
  },
  {
   "cell_type": "code",
   "execution_count": 3,
   "metadata": {},
   "outputs": [],
   "source": [
    "dataFrame = pd.read_csv(\"/mnt/i/main_project_linux/OpenMMDiT/synthetic_dataset.csv\")"
   ]
  },
  {
   "cell_type": "code",
   "execution_count": 8,
   "metadata": {},
   "outputs": [],
   "source": [
    "dataFrame = dataFrame.rename(columns={\"Image\": \"image\", \"Caption\": \"caption\"})\n"
   ]
  },
  {
   "cell_type": "code",
   "execution_count": 9,
   "metadata": {},
   "outputs": [
    {
     "data": {
      "text/html": [
       "<div>\n",
       "<style scoped>\n",
       "    .dataframe tbody tr th:only-of-type {\n",
       "        vertical-align: middle;\n",
       "    }\n",
       "\n",
       "    .dataframe tbody tr th {\n",
       "        vertical-align: top;\n",
       "    }\n",
       "\n",
       "    .dataframe thead th {\n",
       "        text-align: right;\n",
       "    }\n",
       "</style>\n",
       "<table border=\"1\" class=\"dataframe\">\n",
       "  <thead>\n",
       "    <tr style=\"text-align: right;\">\n",
       "      <th></th>\n",
       "      <th>image</th>\n",
       "      <th>caption</th>\n",
       "    </tr>\n",
       "  </thead>\n",
       "  <tbody>\n",
       "    <tr>\n",
       "      <th>0</th>\n",
       "      <td>outputs/sample_control_net/samples_image_outpu...</td>\n",
       "      <td>Flair Brain MRI of a Patient with Tumour.</td>\n",
       "    </tr>\n",
       "    <tr>\n",
       "      <th>1</th>\n",
       "      <td>outputs/sample_control_net/samples_image_outpu...</td>\n",
       "      <td>Flair Brain MRI of a Patient with Sclerosis.</td>\n",
       "    </tr>\n",
       "    <tr>\n",
       "      <th>2</th>\n",
       "      <td>outputs/sample_control_net/samples_image_outpu...</td>\n",
       "      <td>Flair Brain MRI of a Patient with Sclerosis.</td>\n",
       "    </tr>\n",
       "    <tr>\n",
       "      <th>3</th>\n",
       "      <td>outputs/sample_control_net/samples_image_outpu...</td>\n",
       "      <td>Brain MRI of a patient without any disease</td>\n",
       "    </tr>\n",
       "    <tr>\n",
       "      <th>4</th>\n",
       "      <td>outputs/sample_control_net/samples_image_outpu...</td>\n",
       "      <td>Brain MRI with pituitary tumor</td>\n",
       "    </tr>\n",
       "    <tr>\n",
       "      <th>...</th>\n",
       "      <td>...</td>\n",
       "      <td>...</td>\n",
       "    </tr>\n",
       "    <tr>\n",
       "      <th>8059</th>\n",
       "      <td>outputs/sample_control_net/samples_image_outpu...</td>\n",
       "      <td>Brain MRI of a patient with Pituitary tumour</td>\n",
       "    </tr>\n",
       "    <tr>\n",
       "      <th>8060</th>\n",
       "      <td>outputs/sample_control_net/samples_image_outpu...</td>\n",
       "      <td>T2-Weighted Brain MRI of a Patient with Tumour.</td>\n",
       "    </tr>\n",
       "    <tr>\n",
       "      <th>8061</th>\n",
       "      <td>outputs/sample_control_net/samples_image_outpu...</td>\n",
       "      <td>Brain MRI with glioma tumor</td>\n",
       "    </tr>\n",
       "    <tr>\n",
       "      <th>8062</th>\n",
       "      <td>outputs/sample_control_net/samples_image_outpu...</td>\n",
       "      <td>Brain MRI of a patient without any disease</td>\n",
       "    </tr>\n",
       "    <tr>\n",
       "      <th>8063</th>\n",
       "      <td>outputs/sample_control_net/samples_image_outpu...</td>\n",
       "      <td>Brain MRI of a patient without any disease</td>\n",
       "    </tr>\n",
       "  </tbody>\n",
       "</table>\n",
       "<p>8064 rows × 2 columns</p>\n",
       "</div>"
      ],
      "text/plain": [
       "                                                  image  \\\n",
       "0     outputs/sample_control_net/samples_image_outpu...   \n",
       "1     outputs/sample_control_net/samples_image_outpu...   \n",
       "2     outputs/sample_control_net/samples_image_outpu...   \n",
       "3     outputs/sample_control_net/samples_image_outpu...   \n",
       "4     outputs/sample_control_net/samples_image_outpu...   \n",
       "...                                                 ...   \n",
       "8059  outputs/sample_control_net/samples_image_outpu...   \n",
       "8060  outputs/sample_control_net/samples_image_outpu...   \n",
       "8061  outputs/sample_control_net/samples_image_outpu...   \n",
       "8062  outputs/sample_control_net/samples_image_outpu...   \n",
       "8063  outputs/sample_control_net/samples_image_outpu...   \n",
       "\n",
       "                                              caption  \n",
       "0           Flair Brain MRI of a Patient with Tumour.  \n",
       "1        Flair Brain MRI of a Patient with Sclerosis.  \n",
       "2        Flair Brain MRI of a Patient with Sclerosis.  \n",
       "3          Brain MRI of a patient without any disease  \n",
       "4                      Brain MRI with pituitary tumor  \n",
       "...                                               ...  \n",
       "8059     Brain MRI of a patient with Pituitary tumour  \n",
       "8060  T2-Weighted Brain MRI of a Patient with Tumour.  \n",
       "8061                      Brain MRI with glioma tumor  \n",
       "8062       Brain MRI of a patient without any disease  \n",
       "8063       Brain MRI of a patient without any disease  \n",
       "\n",
       "[8064 rows x 2 columns]"
      ]
     },
     "execution_count": 9,
     "metadata": {},
     "output_type": "execute_result"
    }
   ],
   "source": [
    "dataFrame"
   ]
  },
  {
   "cell_type": "code",
   "execution_count": 10,
   "metadata": {},
   "outputs": [
    {
     "data": {
      "text/plain": [
       "caption\n",
       "Flair Brain MRI of a Patient with Tumour.                    500\n",
       "Flair Brain MRI of a Patient with Sclerosis.                 500\n",
       "Brain MRI of a patient without any disease                   500\n",
       "Brain MRI with pituitary tumor                               500\n",
       "T2-Weighted Brain MRI of a Patient with Tumour.              500\n",
       "Brain MRI with glioma tumor                                  500\n",
       "Brain MRI of a patient with Giloma tumour                    500\n",
       "T1-Weighted Brain MRI of a Patient with Tumour.              500\n",
       "Brain MRI of a patient with Mild Demented alzheimers         500\n",
       "Brain MRI of a patient with Very Mild Demented alzheimers    500\n",
       "T2-Weighted Brain MRI of a Patient with Sclerosis.           500\n",
       "Brain MRI with meningioma tumor                              500\n",
       "Brain MRI of a patient with Non Demented alzheimers          500\n",
       "T1-Weighted Brain MRI of a Patient with Sclerosis.           500\n",
       "Brain MRI of a patient with Pituitary tumour                 500\n",
       "Brain MRI of a patient with Meningioma tumour                500\n",
       "Brain MRI of a patient with Moderate Demented alzheimers      64\n",
       "Name: count, dtype: int64"
      ]
     },
     "execution_count": 10,
     "metadata": {},
     "output_type": "execute_result"
    }
   ],
   "source": [
    "dataFrame['caption'].value_counts()"
   ]
  },
  {
   "cell_type": "code",
   "execution_count": 18,
   "metadata": {},
   "outputs": [],
   "source": [
    "dataFrame['caption'].replace(['Brain MRI of a patient with Non Demented alzheimers'],'Non Demented Alzheimers',inplace=True)\n",
    "dataFrame['caption'].replace(['Brain MRI of a patient with Very Mild Demented alzheimers'],'Very Mild Demented Alzheimers',inplace=True)\n",
    "dataFrame['caption'].replace(['Brain MRI with glioma tumor','Brain MRI of a patient with Giloma tumour'],'Glioma Tumor',inplace=True)\n",
    "dataFrame['caption'].replace(['Brain MRI of a patient with Mild Demented alzheimers'],'Mild Demented Alzheimers',inplace=True)\n",
    "dataFrame['caption'].replace(['Brain MRI of a patient with Moderate Demented alzheimers'],'Moderate Demented Alzheimers',inplace=True)\n",
    "dataFrame['caption'].replace([\"Brain MRI of a patient with Pituitary tumour\",'Brain MRI with pituitary tumor'],'Pituitary Tumor',inplace=True)\n",
    "dataFrame['caption'].replace(['Brain MRI of a patient without any disease'],'No Disease',inplace=True)\n",
    "dataFrame['caption'].replace([\"T2-Weighted Brain MRI of a Patient with Tumour.\",'T1-Weighted Brain MRI of a Patient with Tumour.','Flair Brain MRI of a Patient with Tumour.'],'Brain Tumor',inplace=True)\n",
    "dataFrame['caption'].replace(['Flair Brain MRI of a Patient with Sclerosis.','T1-Weighted Brain MRI of a Patient with Sclerosis.','T2-Weighted Brain MRI of a Patient with Sclerosis.'],'Brain Sclerosis',inplace=True)\n",
    "dataFrame['caption'].replace(['Brain MRI with meningioma tumor','Brain MRI of a patient with Meningioma tumour'],'Meningioma tumour',inplace=True)"
   ]
  },
  {
   "cell_type": "code",
   "execution_count": 21,
   "metadata": {},
   "outputs": [
    {
     "data": {
      "text/plain": [
       "caption\n",
       "Brain Tumor                      1500\n",
       "Brain Sclerosis                  1500\n",
       "Pituitary Tumor                  1000\n",
       "Glioma Tumor                     1000\n",
       "Meningioma tumour                1000\n",
       "No Disease                        500\n",
       "Mild Demented Alzheimers          500\n",
       "Very Mild Demented Alzheimers     500\n",
       "Non Demented Alzheimers           500\n",
       "Moderate Demented Alzheimers       64\n",
       "Name: count, dtype: int64"
      ]
     },
     "execution_count": 21,
     "metadata": {},
     "output_type": "execute_result"
    }
   ],
   "source": [
    "dataFrame['caption'].value_counts()"
   ]
  },
  {
   "cell_type": "code",
   "execution_count": 23,
   "metadata": {},
   "outputs": [],
   "source": [
    "dataFrame.to_csv(\"dataset_for_training.csv\",index=False)"
   ]
  },
  {
   "cell_type": "code",
   "execution_count": 24,
   "metadata": {},
   "outputs": [
    {
     "data": {
      "text/plain": [
       "caption\n",
       "Non Demented Alzheimers          3200\n",
       "Brain Tumor                      3000\n",
       "Glioma Tumor                     2747\n",
       "Pituitary Tumor                  2416\n",
       "Very Mild Demented Alzheimers    2240\n",
       "Meningioma tumour                1958\n",
       "Brain Sclerosis                  1800\n",
       "No Disease                       1312\n",
       "Mild Demented Alzheimers          896\n",
       "Moderate Demented Alzheimers       64\n",
       "Name: count, dtype: int64"
      ]
     },
     "execution_count": 24,
     "metadata": {},
     "output_type": "execute_result"
    }
   ],
   "source": [
    "dataFrame['caption'].value_counts()"
   ]
  },
  {
   "cell_type": "code",
   "execution_count": 14,
   "metadata": {},
   "outputs": [],
   "source": [
    "org_dataset = pd.read_csv(\"dataset_for_training.csv\")"
   ]
  },
  {
   "cell_type": "code",
   "execution_count": 15,
   "metadata": {},
   "outputs": [
    {
     "data": {
      "text/plain": [
       "caption\n",
       "Non Demented Alzheimers          3200\n",
       "Brain Tumor                      3000\n",
       "Glioma Tumor                     2747\n",
       "Pituitary Tumor                  2416\n",
       "Very Mild Demented Alzheimers    2240\n",
       "Meningioma tumour                1958\n",
       "Brain Sclerosis                  1800\n",
       "No Disease                       1312\n",
       "Mild Demented Alzheimers          896\n",
       "Moderate Demented Alzheimers       64\n",
       "Name: count, dtype: int64"
      ]
     },
     "execution_count": 15,
     "metadata": {},
     "output_type": "execute_result"
    }
   ],
   "source": [
    "org_dataset['caption'].value_counts()   "
   ]
  },
  {
   "cell_type": "code",
   "execution_count": 22,
   "metadata": {},
   "outputs": [],
   "source": [
    "new_dataset = pd.concat([org_dataset,dataFrame] ,axis=0)"
   ]
  },
  {
   "cell_type": "code",
   "execution_count": 24,
   "metadata": {},
   "outputs": [],
   "source": [
    "new_dataset.to_csv(\"new_synthetic_dataset.csv\",index=False)"
   ]
  },
  {
   "cell_type": "code",
   "execution_count": null,
   "metadata": {},
   "outputs": [],
   "source": []
  }
 ],
 "metadata": {
  "kernelspec": {
   "display_name": "py310",
   "language": "python",
   "name": "python3"
  },
  "language_info": {
   "codemirror_mode": {
    "name": "ipython",
    "version": 3
   },
   "file_extension": ".py",
   "mimetype": "text/x-python",
   "name": "python",
   "nbconvert_exporter": "python",
   "pygments_lexer": "ipython3",
   "version": "3.10.16"
  }
 },
 "nbformat": 4,
 "nbformat_minor": 2
}
